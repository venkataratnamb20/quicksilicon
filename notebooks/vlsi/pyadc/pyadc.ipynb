{
  "nbformat": 4,
  "nbformat_minor": 0,
  "metadata": {
    "colab": {
      "provenance": [],
      "authorship_tag": "ABX9TyObsHtxe0OLG5yytGBkK3mx",
      "include_colab_link": true
    },
    "kernelspec": {
      "name": "python3",
      "display_name": "Python 3"
    },
    "language_info": {
      "name": "python"
    }
  },
  "cells": [
    {
      "cell_type": "markdown",
      "metadata": {
        "id": "view-in-github",
        "colab_type": "text"
      },
      "source": [
        "<a href=\"https://colab.research.google.com/github/venkataratnamb20/quicksilicon/blob/notebooks/notebooks/vlsi/pyadc/pyadc.ipynb\" target=\"_parent\"><img src=\"https://colab.research.google.com/assets/colab-badge.svg\" alt=\"Open In Colab\"/></a>"
      ]
    },
    {
      "cell_type": "markdown",
      "source": [
        "# ADC\n"
      ],
      "metadata": {
        "id": "kIUsB1-JqZ8D"
      }
    },
    {
      "cell_type": "code",
      "execution_count": 1,
      "metadata": {
        "colab": {
          "base_uri": "https://localhost:8080/"
        },
        "id": "WZ4mjP-RoXSW",
        "outputId": "05230e3a-dce1-4665-d3fc-7490504aebf9"
      },
      "outputs": [
        {
          "output_type": "stream",
          "name": "stdout",
          "text": [
            "\n",
            "        ADC(nbit = 10, vrefp = 1.0, vrefm = 0.0, fs = 1000.0)\n"
          ]
        }
      ],
      "source": [
        "from dataclasses import dataclass\n",
        "\n",
        "@dataclass\n",
        "class Adc:\n",
        "    nbit: int = 10\n",
        "    vrefp: float = 1.0\n",
        "    vrefm: float = 0.0\n",
        "    fs: float = 10e3\n",
        "    def __post_init__(self, nbit: int = 10, vrefp: float = 1.0, vrefm: float = 0.0, fs: float = 1e3):\n",
        "        self.nbit = nbit\n",
        "        self.vrefp = vrefp\n",
        "        self.vrefm = vrefm\n",
        "        self.fs = fs\n",
        "\n",
        "    @property\n",
        "    def vref(self):\n",
        "        return self.vrefp - self.vrefm\n",
        "\n",
        "    @property\n",
        "    def qlevels(self):\n",
        "        return 2**self.nbit\n",
        "\n",
        "    @property\n",
        "    def lsb(self):\n",
        "        return self.vref / (self.qlevels - 1)\n",
        "\n",
        "    @property\n",
        "    def sqnref(self):\n",
        "        return 6.02 * self.nbit + 1.76\n",
        "\n",
        "    @property\n",
        "    def fclk(self):\n",
        "        return self.fs * (self.nbit + 2)\n",
        "\n",
        "    @property\n",
        "    def tsample(self):\n",
        "        return 1 / self.fs\n",
        "\n",
        "    def convert(self, vin: float = 0.0):\n",
        "        if vin > self.vrefp:\n",
        "            vin = self.vref\n",
        "        elif vin < self.vrefm:\n",
        "            vin = self.vrefm\n",
        "        return round(vin / self.lsb)\n",
        "\n",
        "    def sar(self, vin: float = 0.0):\n",
        "        raise NotImplementedError(\"Wait for the best tohappen!!!\")\n",
        "\n",
        "    def __str__(self):\n",
        "        return f\"\"\"\n",
        "        ADC(nbit = {self.nbit}, vrefp = {self.vrefp}, vrefm = {self.vrefm}, fs = {self.fs})\"\"\"\n",
        "\n",
        "    def __repr__(self):\n",
        "        return self.__str__()\n",
        "\n",
        "    def __call__(self, vin: float = 0.0):\n",
        "        return self.convert(vin)\n",
        "\n",
        "\n",
        "adc = Adc(nbit = 10, vrefp = 1.0, vrefm = 0.0, fs = 10e3)\n",
        "print(adc)\n",
        "\n",
        "\n",
        "\n",
        "\n"
      ]
    },
    {
      "cell_type": "code",
      "source": [
        "nbit = 10\n",
        "\n",
        "for i in range(nbit + 2):\n",
        "    vin = (2**i) * adc.lsb\n",
        "    print(f\"{vin} -> {adc(vin)}\")"
      ],
      "metadata": {
        "colab": {
          "base_uri": "https://localhost:8080/"
        },
        "id": "f-dcupohtB9F",
        "outputId": "1a07f0d5-92a5-40f8-9710-94f9f4583bf1"
      },
      "execution_count": 2,
      "outputs": [
        {
          "output_type": "stream",
          "name": "stdout",
          "text": [
            "0.0009775171065493646 -> 1\n",
            "0.0019550342130987292 -> 2\n",
            "0.0039100684261974585 -> 4\n",
            "0.007820136852394917 -> 8\n",
            "0.015640273704789834 -> 16\n",
            "0.03128054740957967 -> 32\n",
            "0.06256109481915934 -> 64\n",
            "0.12512218963831867 -> 128\n",
            "0.25024437927663734 -> 256\n",
            "0.5004887585532747 -> 512\n",
            "1.0009775171065494 -> 1023\n",
            "2.0019550342130987 -> 1023\n"
          ]
        }
      ]
    },
    {
      "cell_type": "code",
      "source": [
        "class SarAdc(Adc):\n",
        "    def __init__(self, nbit: int = 10, vrefp: float = 0.0, vrefm: float = 0.0, fs: float = 10e3, *args, **kwargs):\n",
        "        super().__init__(nbit, vrefp, vrefm, fs, *args, **kwargs)\n",
        "        self.nbit = nbit\n",
        "        self.vrefp = vrefp\n",
        "        self.vrefm = vrefm\n",
        "        self.fs = fs\n",
        "        self. low_level = self.vrefm\n",
        "        self.high_level = self.vrefp\n",
        "        self.code = []\n",
        "\n",
        "    def comparator(self, vin: float = 0.0, vthresh: float = 0.0):\n",
        "        return vin > vthresh\n",
        "\n",
        "    def sar(self, vin: float = 0, *args, **kwargs):\n",
        "        \"\"\"Successive Approximation algorithm\n",
        "\n",
        "        Args:\n",
        "            vin (float, optional): input voltage. Defaults to 0.\n",
        "            lower_level (float): lower level voltage. Defaults to 0.\n",
        "            upper_level (float): upper level voltage. Defaults to 0.\n",
        "\n",
        "        Returns:\n",
        "            int: output voltage.\n",
        "        \"\"\"\n",
        "        # nbit = kwargs.get(\"nbit\", 10)\n",
        "        # vrefm, vrefp = kwargs.get(\"vrefm\", self.vrefm), kwargs.get(\"vrefp\", self.vrefp)\n",
        "        low_level, high_level = self.vrefm, self.vrefp\n",
        "        code = []\n",
        "        def algorithm(low_level: float = self.vrefm, high_level: float  =self.vrefp):\n",
        "            # vthresh = low_level + (high_level - low_level) / 2\n",
        "            vthresh = (high_level - low_level) / 2\n",
        "            # print(f\"levels:: low: {low_level} high: {high_level}\")\n",
        "            # print(f\"vthresh: {vthresh}\")\n",
        "            decision = int(vin > low_level + vthresh)\n",
        "            # decision = vin >= vthresh\n",
        "            code.append(decision)\n",
        "            if not decision:\n",
        "                high_level = high_level - vthresh\n",
        "            else:\n",
        "                low_level = low_level + vthresh\n",
        "            if len(code) == self.nbit:\n",
        "                return code\n",
        "            else:\n",
        "                return algorithm(low_level, high_level)\n",
        "        return algorithm(low_level, high_level)\n",
        "\n",
        "    def __call__(self, vin: float = 0.0):\n",
        "        self.code = []\n",
        "        return self.sar(vin, self.vrefm, self.vrefp)\n",
        "\n",
        "\n",
        "if __name__ == \"__main__\":\n",
        "    saradc = SarAdc()\n",
        "    print(f\"nbit: {saradc.nbit}:: lsb: {saradc.lsb}\")\n",
        "    print(saradc(16 * adc.lsb))\n",
        "    nbit = 10\n",
        "    get_analog_from_bits_array = lambda code_list: int(''.join([str(bit) for bit in code_list]), 2)\n",
        "\n",
        "    for i in range(nbit + 2):\n",
        "        vin = (2**i) * adc.lsb\n",
        "        print(f\"{2**i}: {vin} \\t->\\t {saradc(vin)}::{get_analog_from_bits_array(saradc(vin))}\")"
      ],
      "metadata": {
        "id": "UoxLpXmDtWIi",
        "colab": {
          "base_uri": "https://localhost:8080/"
        },
        "outputId": "b38e0a74-6115-4dab-c5aa-e16f3e17c2bf"
      },
      "execution_count": 10,
      "outputs": [
        {
          "output_type": "stream",
          "name": "stdout",
          "text": [
            "nbit: 10:: lsb: 0.0\n",
            "[1, 1, 1, 1, 1, 1, 1, 1, 1, 1]\n",
            "1: 0.0009775171065493646 \t->\t [1, 1, 1, 1, 1, 1, 1, 1, 1, 1]::1023\n",
            "2: 0.0019550342130987292 \t->\t [1, 1, 1, 1, 1, 1, 1, 1, 1, 1]::1023\n",
            "4: 0.0039100684261974585 \t->\t [1, 1, 1, 1, 1, 1, 1, 1, 1, 1]::1023\n",
            "8: 0.007820136852394917 \t->\t [1, 1, 1, 1, 1, 1, 1, 1, 1, 1]::1023\n",
            "16: 0.015640273704789834 \t->\t [1, 1, 1, 1, 1, 1, 1, 1, 1, 1]::1023\n",
            "32: 0.03128054740957967 \t->\t [1, 1, 1, 1, 1, 1, 1, 1, 1, 1]::1023\n",
            "64: 0.06256109481915934 \t->\t [1, 1, 1, 1, 1, 1, 1, 1, 1, 1]::1023\n",
            "128: 0.12512218963831867 \t->\t [1, 1, 1, 1, 1, 1, 1, 1, 1, 1]::1023\n",
            "256: 0.25024437927663734 \t->\t [1, 1, 1, 1, 1, 1, 1, 1, 1, 1]::1023\n",
            "512: 0.5004887585532747 \t->\t [1, 1, 1, 1, 1, 1, 1, 1, 1, 1]::1023\n",
            "1024: 1.0009775171065494 \t->\t [1, 1, 1, 1, 1, 1, 1, 1, 1, 1]::1023\n",
            "2048: 2.0019550342130987 \t->\t [1, 1, 1, 1, 1, 1, 1, 1, 1, 1]::1023\n"
          ]
        }
      ]
    },
    {
      "cell_type": "markdown",
      "source": [
        "## SAR"
      ],
      "metadata": {
        "id": "MQrvS0kDqLg_"
      }
    },
    {
      "cell_type": "markdown",
      "source": [
        "### SAR: Logic\n"
      ],
      "metadata": {
        "id": "xSuhsa5yqO_w"
      }
    },
    {
      "cell_type": "code",
      "source": [
        "def sar(vin, *args, **kwargs):\n",
        "    \"\"\"Successive Approximation algorithm\n",
        "\n",
        "    \"\"\"\n",
        "    nbit = kwargs.get(\"nbit\", 10)\n",
        "    vrefm, vrefp = kwargs.get(\"vrefm\", 0), kwargs.get(\"vrefp\", 1.0)\n",
        "    low_level, high_level = vrefm, vrefp\n",
        "    lsb = (vrefp - vrefm) / (2**nbit - 1)\n",
        "    code = []\n",
        "    def algorithm(vin, low_level, high_level):\n",
        "        # vthresh = low_level + (high_level - low_level) / 2\n",
        "        vthresh = (high_level - low_level) / 2\n",
        "        # print(f\"levels:: low: {low_level} high: {high_level}\")\n",
        "        # print(f\"vthresh: {vthresh}\")\n",
        "        decision = int(vin > low_level + vthresh)\n",
        "        # decision = vin >= vthresh\n",
        "        code.append(decision)\n",
        "        if not decision:\n",
        "            high_level = high_level - vthresh\n",
        "        else:\n",
        "            low_level = low_level + vthresh\n",
        "        if len(code) == nbit:\n",
        "            return code\n",
        "        else:\n",
        "            return algorithm(vin, low_level, high_level)\n",
        "    return algorithm(vin, low_level, high_level)\n",
        "\n",
        "sar(0.75)\n",
        "\n"
      ],
      "metadata": {
        "colab": {
          "base_uri": "https://localhost:8080/"
        },
        "id": "0_FiOR-VR0_9",
        "outputId": "2b91393b-aad8-43bc-b955-16cb7cfe57b5"
      },
      "execution_count": 11,
      "outputs": [
        {
          "output_type": "execute_result",
          "data": {
            "text/plain": [
              "[1, 0, 1, 1, 1, 1, 1, 1, 1, 1]"
            ]
          },
          "metadata": {},
          "execution_count": 11
        }
      ]
    },
    {
      "cell_type": "code",
      "source": [
        "nbit = 10\n",
        "get_analog_from_bits_array = lambda code_list: int(''.join([str(bit) for bit in code_list]), 2)\n",
        "\n",
        "for i in range(nbit + 2):\n",
        "    vin = (2**i) * adc.lsb\n",
        "    # print(f\"{vin} -> {sar(vin)}::{int(''.join([str(bit) for bit in sar(vin)]), 2)}\")\n",
        "    print(f\"{2**i}: {vin} -> {sar(vin)}::{get_analog_from_bits_array(sar(vin))}\")"
      ],
      "metadata": {
        "colab": {
          "base_uri": "https://localhost:8080/"
        },
        "id": "CWh_BnX7UznY",
        "outputId": "40a5a5b7-eac7-47d3-c9e4-526d238ab0a3"
      },
      "execution_count": 12,
      "outputs": [
        {
          "output_type": "stream",
          "name": "stdout",
          "text": [
            "1: 0.0009775171065493646 -> [0, 0, 0, 0, 0, 0, 0, 0, 0, 1]::1\n",
            "2: 0.0019550342130987292 -> [0, 0, 0, 0, 0, 0, 0, 0, 1, 0]::2\n",
            "4: 0.0039100684261974585 -> [0, 0, 0, 0, 0, 0, 0, 1, 0, 0]::4\n",
            "8: 0.007820136852394917 -> [0, 0, 0, 0, 0, 0, 1, 0, 0, 0]::8\n",
            "16: 0.015640273704789834 -> [0, 0, 0, 0, 0, 1, 0, 0, 0, 0]::16\n",
            "32: 0.03128054740957967 -> [0, 0, 0, 0, 1, 0, 0, 0, 0, 0]::32\n",
            "64: 0.06256109481915934 -> [0, 0, 0, 1, 0, 0, 0, 0, 0, 0]::64\n",
            "128: 0.12512218963831867 -> [0, 0, 1, 0, 0, 0, 0, 0, 0, 0]::128\n",
            "256: 0.25024437927663734 -> [0, 1, 0, 0, 0, 0, 0, 0, 0, 0]::256\n",
            "512: 0.5004887585532747 -> [1, 0, 0, 0, 0, 0, 0, 0, 0, 0]::512\n",
            "1024: 1.0009775171065494 -> [1, 1, 1, 1, 1, 1, 1, 1, 1, 1]::1023\n",
            "2048: 2.0019550342130987 -> [1, 1, 1, 1, 1, 1, 1, 1, 1, 1]::1023\n"
          ]
        }
      ]
    },
    {
      "cell_type": "code",
      "source": [
        "# int(\"110\", 2)\n",
        "# int(''.join(sar(0)), 2)\n",
        "# ''.join([1, 1, 0])"
      ],
      "metadata": {
        "id": "TiOkdD-2eRyi"
      },
      "execution_count": 13,
      "outputs": []
    },
    {
      "cell_type": "markdown",
      "source": [
        "### SAR: test\n"
      ],
      "metadata": {
        "id": "Ym4c1X8vqTj6"
      }
    },
    {
      "cell_type": "code",
      "source": [
        "import unittest\n",
        "\n",
        "class TestSar(unittest.TestCase):\n",
        "    def setUp(self):\n",
        "        self.nbit = 10\n",
        "        self.vrefp = 1.0\n",
        "        self.vrefm = 0.0\n",
        "        self.vref = self.vrefp - self.vrefm\n",
        "        self.qlevels = 2**self.nbit\n",
        "        self.lsb = self.vref / (self.qlevels - 1)\n",
        "\n",
        "\n",
        "        self.get_analog_from_bits_array = lambda code_list: int(''.join([str(bit) for bit in code_list]), 2)\n",
        "\n",
        "    def test_fullscale_code(self):\n",
        "        self.assertAlmostEqual(self.get_analog_from_bits_array(sar(self.vrefp)), self.qlevels - 1)\n",
        "\n",
        "    def test_higher_than_fullscale_code(self):\n",
        "        self.assertAlmostEqual(self.get_analog_from_bits_array(sar(2 * self.vrefp)), self.qlevels - 1)\n",
        "\n",
        "    def test_negative_vin(self):\n",
        "        self.assertAlmostEqual(self.get_analog_from_bits_array(sar(-10 * self.lsb)), 0)\n",
        "\n",
        "    def test_bit_levels(self):\n",
        "        for i in range(self.nbit):\n",
        "            vin = (2**i) * self.lsb\n",
        "            self.assertAlmostEqual(self.get_analog_from_bits_array(sar(vin)), 2**i)\n",
        "\n",
        "    def test_all_levels(self):\n",
        "        for i in range(2**nbit):\n",
        "            vin = i * self.lsb\n",
        "            # print(f\"{vin} -> {sar(vin)}\")\n",
        "            self.assertAlmostEqual(self.get_analog_from_bits_array(sar(vin)), i)\n",
        "\n",
        "\n",
        "\n",
        "if __name__ == \"__main__\":\n",
        "    unittest.main(argv=[''], exit=False, verbosity=2)"
      ],
      "metadata": {
        "colab": {
          "base_uri": "https://localhost:8080/"
        },
        "id": "Q0J_CUZPbE4_",
        "outputId": "1049e25e-fb4e-46c9-9950-523e59f7ac71"
      },
      "execution_count": 14,
      "outputs": [
        {
          "output_type": "stream",
          "name": "stderr",
          "text": [
            "test_all_levels (__main__.TestSar) ... ok\n",
            "test_bit_levels (__main__.TestSar) ... ok\n",
            "test_fullscale_code (__main__.TestSar) ... ok\n",
            "test_higher_than_fullscale_code (__main__.TestSar) ... ok\n",
            "test_negative_vin (__main__.TestSar) ... ok\n",
            "\n",
            "----------------------------------------------------------------------\n",
            "Ran 5 tests in 0.034s\n",
            "\n",
            "OK\n"
          ]
        }
      ]
    },
    {
      "cell_type": "code",
      "source": [
        "print(get_analog_from_bits_array(sar(2**0 * adc.lsb)))\n",
        "assert get_analog_from_bits_array(sar(2**0 * adc.lsb)) == 2**0\n",
        "range(2**nbit)[-1]"
      ],
      "metadata": {
        "colab": {
          "base_uri": "https://localhost:8080/"
        },
        "id": "Aw9GpgrTcfqL",
        "outputId": "bbd7e4bf-f923-4ecc-bffb-76fc3002979c"
      },
      "execution_count": 15,
      "outputs": [
        {
          "output_type": "stream",
          "name": "stdout",
          "text": [
            "1\n"
          ]
        },
        {
          "output_type": "execute_result",
          "data": {
            "text/plain": [
              "1023"
            ]
          },
          "metadata": {},
          "execution_count": 15
        }
      ]
    },
    {
      "cell_type": "code",
      "source": [
        "code = \"\".join([str(bit) for bit in sar(2**0 * adc.lsb)])\n",
        "assert int(code, 2) == 2**0"
      ],
      "metadata": {
        "id": "eoSzCvb_iXde"
      },
      "execution_count": 16,
      "outputs": []
    },
    {
      "cell_type": "code",
      "source": [],
      "metadata": {
        "id": "ClytQqlOj_Wf"
      },
      "execution_count": 9,
      "outputs": []
    }
  ]
}