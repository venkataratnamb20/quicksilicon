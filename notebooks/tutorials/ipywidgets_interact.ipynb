{
  "cells": [
    {
      "cell_type": "markdown",
      "metadata": {
        "id": "view-in-github",
        "colab_type": "text"
      },
      "source": [
        "<a href=\"https://colab.research.google.com/github/venkataratnamb20/quicksilicon/blob/notebooks/notebooks/tutorials/ipywidgets_interact.ipynb\" target=\"_parent\"><img src=\"https://colab.research.google.com/assets/colab-badge.svg\" alt=\"Open In Colab\"/></a>"
      ]
    },
    {
      "cell_type": "markdown",
      "metadata": {
        "id": "PbpL1DMDgExM"
      },
      "source": [
        "# Using Interact"
      ]
    },
    {
      "cell_type": "markdown",
      "metadata": {
        "id": "JTN68RvggExN"
      },
      "source": [
        "The `interact` function (`ipywidgets.interact`) automatically creates user interface (UI) controls for exploring code and data interactively. It is the easiest way to get started using IPython's widgets."
      ]
    },
    {
      "cell_type": "code",
      "execution_count": null,
      "metadata": {
        "tags": [
          "remove-cell"
        ],
        "id": "D46wDC6agExN"
      },
      "outputs": [],
      "source": [
        "# Imports for JupyterLite\n",
        "%pip install -q ipywidgets"
      ]
    },
    {
      "cell_type": "code",
      "execution_count": 5,
      "metadata": {
        "id": "woRo34VJgExO"
      },
      "outputs": [],
      "source": [
        "from ipywidgets import interact, interactive, fixed, interact_manual\n",
        "import ipywidgets as widgets"
      ]
    },
    {
      "cell_type": "markdown",
      "metadata": {
        "id": "ICDjoAqKgExO"
      },
      "source": [
        "## Basic `interact`"
      ]
    },
    {
      "cell_type": "markdown",
      "metadata": {
        "id": "m1XKyFRkgExO"
      },
      "source": [
        "At the most basic level, `interact` autogenerates UI controls for function arguments, and then calls the function with those arguments when you manipulate the controls interactively. To use `interact`, you need to define a function that you want to explore. Here is a function that returns its only argument `x`."
      ]
    },
    {
      "cell_type": "code",
      "execution_count": 12,
      "metadata": {
        "id": "H0ouDRfYgExO"
      },
      "outputs": [],
      "source": [
        "def f(x):\n",
        "    return len(str(x))"
      ]
    },
    {
      "cell_type": "markdown",
      "metadata": {
        "id": "R806SbSqgExO"
      },
      "source": [
        "When you pass this function as the first argument to `interact` along with an integer keyword argument (`x=10`), a slider is generated and bound to the function parameter."
      ]
    },
    {
      "cell_type": "code",
      "execution_count": 13,
      "metadata": {
        "id": "Yaqh8-gvgExO",
        "outputId": "96f083cb-65fa-4ad6-9c27-f9aa09d74bc6",
        "colab": {
          "base_uri": "https://localhost:8080/",
          "height": 67,
          "referenced_widgets": [
            "ad63927e91924fd6b62773aaf99e9baf",
            "715744f717af4e10b7c091ce103464c3",
            "232abe6d9d9d41e99fb1537208e1f249",
            "017306c1202b4b75abb964944f32f4ab",
            "713a1af1aa4e4b818bcc642011291938",
            "89f16e3b546a4ded87da4aa712922ded",
            "0ef5814adc0d4a9aadb6cfcd1e44a5bc"
          ]
        }
      },
      "outputs": [
        {
          "output_type": "display_data",
          "data": {
            "text/plain": [
              "interactive(children=(IntSlider(value=10, description='x', max=30, min=-10), Output()), _dom_classes=('widget-…"
            ],
            "application/vnd.jupyter.widget-view+json": {
              "version_major": 2,
              "version_minor": 0,
              "model_id": "ad63927e91924fd6b62773aaf99e9baf"
            }
          },
          "metadata": {}
        }
      ],
      "source": [
        "interact(f, x=10);"
      ]
    },
    {
      "cell_type": "markdown",
      "metadata": {
        "id": "IKGTXibfgExP"
      },
      "source": [
        "When you move the slider, the function is called, and its return value is printed.\n",
        "\n",
        "If you pass `True` or `False`, `interact` will generate a checkbox:"
      ]
    },
    {
      "cell_type": "code",
      "execution_count": 16,
      "metadata": {
        "id": "xqawHu7TgExP",
        "outputId": "981fb6bb-59c6-46e3-86d2-4453a58707b7",
        "colab": {
          "base_uri": "https://localhost:8080/",
          "height": 67,
          "referenced_widgets": [
            "36f2a4828a3147ac8d16aeac89a65dab",
            "3cd76a856474496887d0e3fe5ee61b0a",
            "c4a3dba8302a4cd9931ee9e39afb608b",
            "c2329268ab964292975815e9f159e2b6",
            "39cadf400b2b4961a6941a77d6526a4c",
            "38b8cb07d6a84ed3a5ebf9db2b78b7d1",
            "487aca15b2eb4a5a8b46bb5dcc6540c8"
          ]
        }
      },
      "outputs": [
        {
          "output_type": "display_data",
          "data": {
            "text/plain": [
              "interactive(children=(Checkbox(value=True, description='x'), Output()), _dom_classes=('widget-interact',))"
            ],
            "application/vnd.jupyter.widget-view+json": {
              "version_major": 2,
              "version_minor": 0,
              "model_id": "36f2a4828a3147ac8d16aeac89a65dab"
            }
          },
          "metadata": {}
        }
      ],
      "source": [
        "interact(f, x=True);"
      ]
    },
    {
      "cell_type": "markdown",
      "metadata": {
        "id": "jdRK-dSGgExP"
      },
      "source": [
        "If you pass a string, `interact` will generate a text box."
      ]
    },
    {
      "cell_type": "code",
      "execution_count": 17,
      "metadata": {
        "id": "5VzVwY1VgExP",
        "outputId": "cca62eab-6764-422a-89ae-d39a4d6bba65",
        "colab": {
          "base_uri": "https://localhost:8080/",
          "height": 67,
          "referenced_widgets": [
            "2f8305889c644f20b77deff836fbcc4a",
            "d1709c6931c2470fa1627f2db7799164",
            "041323175c6742c3a6d21b7828837100",
            "799a9670c4fa4a00bb09be79a91a88f4",
            "788fd97636df49ca967a79a0eaf411c7",
            "8fc5df7666fc4404ac9e4ffc0b27c891",
            "0044caffcc6c4a35a368bdb7e7a97e2c"
          ]
        }
      },
      "outputs": [
        {
          "output_type": "display_data",
          "data": {
            "text/plain": [
              "interactive(children=(Text(value='Hi there!', description='x'), Output()), _dom_classes=('widget-interact',))"
            ],
            "application/vnd.jupyter.widget-view+json": {
              "version_major": 2,
              "version_minor": 0,
              "model_id": "2f8305889c644f20b77deff836fbcc4a"
            }
          },
          "metadata": {}
        }
      ],
      "source": [
        "interact(f, x='Hi there!');"
      ]
    },
    {
      "cell_type": "markdown",
      "metadata": {
        "id": "3bKKACnSgExP"
      },
      "source": [
        "`interact` can also be used as a decorator. This allows you to define a function and interact with it in a single shot. As this example shows, `interact` also works with functions that have multiple arguments."
      ]
    },
    {
      "cell_type": "code",
      "execution_count": null,
      "metadata": {
        "id": "R7jCSnpNgExP"
      },
      "outputs": [],
      "source": [
        "@interact(x=True, y=1.0)\n",
        "def g(x, y):\n",
        "    return (x, y)"
      ]
    },
    {
      "cell_type": "markdown",
      "metadata": {
        "id": "X9h8d5PBgExP"
      },
      "source": [
        "## Fixing arguments using `fixed`"
      ]
    },
    {
      "cell_type": "markdown",
      "metadata": {
        "id": "hZIGk-i0gExP"
      },
      "source": [
        "There are times when you may want to explore a function using `interact`, but fix one or more of its arguments to specific values. This can be accomplished by wrapping values with the `fixed` function."
      ]
    },
    {
      "cell_type": "code",
      "execution_count": null,
      "metadata": {
        "id": "tDiHcAxIgExP"
      },
      "outputs": [],
      "source": [
        "def h(p, q):\n",
        "    return (p, q)"
      ]
    },
    {
      "cell_type": "markdown",
      "metadata": {
        "id": "Tzvg85oKgExP"
      },
      "source": [
        "When we call `interact`, we pass `fixed(20)` for q to hold it fixed at a value of `20`."
      ]
    },
    {
      "cell_type": "code",
      "execution_count": null,
      "metadata": {
        "id": "MmSvBFyZgExP"
      },
      "outputs": [],
      "source": [
        "interact(h, p=5, q=fixed(20));"
      ]
    },
    {
      "cell_type": "markdown",
      "metadata": {
        "id": "o1w4OIAAgExP"
      },
      "source": [
        "Notice that a slider is only produced for `p` as the value of `q` is fixed."
      ]
    },
    {
      "cell_type": "markdown",
      "metadata": {
        "id": "N2vQ2AvggExQ"
      },
      "source": [
        "## Widget abbreviations"
      ]
    },
    {
      "cell_type": "markdown",
      "metadata": {
        "id": "2_R8xhDggExQ"
      },
      "source": [
        "When you pass an integer-valued keyword argument of `10` (`x=10`) to `interact`, it generates an integer-valued slider control with a range of `[-10,+3*10]`. In this case, `10` is an *abbreviation* for an actual slider widget:\n",
        "\n",
        "```python\n",
        "IntSlider(min=-10, max=30, step=1, value=10)\n",
        "```\n",
        "\n",
        "In fact, we can get the same result if we pass this `IntSlider` as the keyword argument for `x`:"
      ]
    },
    {
      "cell_type": "code",
      "execution_count": null,
      "metadata": {
        "id": "qMFwelNJgExQ"
      },
      "outputs": [],
      "source": [
        "interact(f, x=widgets.IntSlider(min=-10, max=30, step=1, value=10));"
      ]
    },
    {
      "cell_type": "markdown",
      "metadata": {
        "id": "GSoNDP66gExQ"
      },
      "source": [
        "The following table gives an overview of different argument types, and how they map to interactive controls:\n",
        "\n",
        "<table class=\"table table-condensed table-bordered\">\n",
        "  <tr><td><strong>Keyword argument</strong></td><td><strong>Widget</strong></td></tr>  \n",
        "  <tr><td>`True` or `False`</td><td>Checkbox</td></tr>  \n",
        "  <tr><td>`'Hi there'`</td><td>Text</td></tr>\n",
        "  <tr><td>`value` or `(min,max)` or `(min,max,step)` if integers are passed</td><td>IntSlider</td></tr>\n",
        "  <tr><td>`value` or `(min,max)` or `(min,max,step)` if floats are passed</td><td>FloatSlider</td></tr>\n",
        "  <tr><td>`['orange','apple']` or `[('one', 1), ('two', 2)]</td><td>Dropdown</td></tr>\n",
        "</table>\n",
        "Note that a dropdown is used if a list or a list of tuples is given (signifying discrete choices), and a slider is used if a tuple is given (signifying a range)."
      ]
    },
    {
      "cell_type": "markdown",
      "metadata": {
        "id": "ku3kaa3vgExQ"
      },
      "source": [
        "You have seen how the checkbox and text widgets work above. Here, more details about the different abbreviations for sliders and dropdowns are given.\n",
        "\n",
        "If a 2-tuple of integers is passed `(min, max)`, an integer-valued slider is produced with those minimum and maximum values (inclusively). In this case, the default step size of `1` is used."
      ]
    },
    {
      "cell_type": "code",
      "execution_count": null,
      "metadata": {
        "id": "s7_c5tCugExQ"
      },
      "outputs": [],
      "source": [
        "interact(f, x=(0,4));"
      ]
    },
    {
      "cell_type": "markdown",
      "metadata": {
        "id": "P9a0VFGrgExQ"
      },
      "source": [
        "If a 3-tuple of integers is passed `(min,max,step)`, the step size can also be set."
      ]
    },
    {
      "cell_type": "code",
      "execution_count": null,
      "metadata": {
        "id": "_x0N70pjgExQ"
      },
      "outputs": [],
      "source": [
        "interact(f, x=(0,8,2));"
      ]
    },
    {
      "cell_type": "markdown",
      "metadata": {
        "id": "2aK62uV0gExQ"
      },
      "source": [
        "A float-valued slider is produced if *any* of the elements of the tuples are floats. Here the minimum is `0.0`, the maximum is `10.0` and step size is `0.1` (the default)."
      ]
    },
    {
      "cell_type": "code",
      "execution_count": null,
      "metadata": {
        "id": "V9oSUUVMgExQ"
      },
      "outputs": [],
      "source": [
        "interact(f, x=(0.0,10.0));"
      ]
    },
    {
      "cell_type": "markdown",
      "metadata": {
        "id": "mmHPVO6qgExQ"
      },
      "source": [
        "The step size can be changed by passing a third element in the tuple."
      ]
    },
    {
      "cell_type": "code",
      "execution_count": null,
      "metadata": {
        "id": "L_RgrUvYgExQ"
      },
      "outputs": [],
      "source": [
        "interact(f, x=(0.0,10.0,0.01));"
      ]
    },
    {
      "cell_type": "markdown",
      "metadata": {
        "id": "IYYQHVkXgExQ"
      },
      "source": [
        "For both integer and float-valued sliders, you can pick the initial value of the widget by passing a default keyword argument to the underlying Python function. Here we set the initial value of a float slider to `5.5`."
      ]
    },
    {
      "cell_type": "code",
      "execution_count": null,
      "metadata": {
        "id": "z8fb5BUygExQ"
      },
      "outputs": [],
      "source": [
        "@interact(x=(0.0,20.0,0.5))\n",
        "def h(x=5.5):\n",
        "    return x"
      ]
    },
    {
      "cell_type": "markdown",
      "metadata": {
        "id": "0HXbNWUegExQ"
      },
      "source": [
        "Dropdown menus are constructed by passing a list of strings. In this case, the strings are both used as the names in the dropdown menu UI and passed to the underlying Python function."
      ]
    },
    {
      "cell_type": "code",
      "execution_count": null,
      "metadata": {
        "id": "BclgnJ7lgExR"
      },
      "outputs": [],
      "source": [
        "interact(f, x=['apples','oranges']);"
      ]
    },
    {
      "cell_type": "markdown",
      "metadata": {
        "id": "WqhRma5agExR"
      },
      "source": [
        "If you want a dropdown menu that passes non-string values to the Python function, you can pass a list of `('label', value)` pairs. The first items are the names in the dropdown menu UI and the second items are values that are the arguments passed to the underlying Python function."
      ]
    },
    {
      "cell_type": "code",
      "execution_count": null,
      "metadata": {
        "id": "FXTmdvwIgExR"
      },
      "outputs": [],
      "source": [
        "interact(f, x=[('one', 10), ('two', 20)]);"
      ]
    },
    {
      "cell_type": "markdown",
      "metadata": {
        "id": "iLqhuA9CgExV"
      },
      "source": [
        "Finally, if you need more granular control than that afforded by the abbreviation, you can pass a `ValueWidget` instance as the argument. A `ValueWidget` is a widget that aims to control a single value. Most of the widgets [bundled with ipywidgets](Widget%20List.ipynb) inherit from `ValueWidget`. For more information, see [this section](Widget%20Custom.ipynb#DOMWidget,-ValueWidget-and-Widget) on widget types."
      ]
    },
    {
      "cell_type": "code",
      "execution_count": null,
      "metadata": {
        "id": "b4qikIf-gExW"
      },
      "outputs": [],
      "source": [
        "interact(f, x=widgets.Combobox(options=[\"Chicago\", \"New York\", \"Washington\"], value=\"Chicago\"));"
      ]
    },
    {
      "cell_type": "markdown",
      "metadata": {
        "id": "XxICZibQgExW"
      },
      "source": [
        "## Type Annotations"
      ]
    },
    {
      "cell_type": "markdown",
      "metadata": {
        "id": "At1BMrFZgExW"
      },
      "source": [
        "If the function that you are using with interact uses type annotations, `interact` may be able to use those to determine what UI components to use in the auto-generated UI.  For example, given a function with an argument annotated with type `float`"
      ]
    },
    {
      "cell_type": "code",
      "execution_count": null,
      "metadata": {
        "id": "pgaHlHoagExW"
      },
      "outputs": [],
      "source": [
        "def f(x: float):\n",
        "    return x"
      ]
    },
    {
      "cell_type": "markdown",
      "metadata": {
        "id": "GcdHqN8agExW"
      },
      "source": [
        "then `interact` will create a UI with a `FloatText` component without needing to be passed any values or abbreviations."
      ]
    },
    {
      "cell_type": "code",
      "execution_count": null,
      "metadata": {
        "id": "RWG0rb9VgExW"
      },
      "outputs": [],
      "source": [
        "interact(f);"
      ]
    },
    {
      "cell_type": "markdown",
      "metadata": {
        "id": "zUDb1R9UgExW"
      },
      "source": [
        "The following table gives an overview of different annotation types, and how they map to interactive controls:\n",
        "\n",
        "<table class=\"table table-condensed table-bordered\">\n",
        "  <tr><td><strong>Type Annotation</strong></td><td><strong>Widget</strong></td></tr>  \n",
        "  <tr><td>`bool`</td><td>Checkbox</td></tr>  \n",
        "  <tr><td>`str`</td><td>Text</td></tr>\n",
        "  <tr><td>`int`</td><td>IntText</td></tr>\n",
        "  <tr><td>`float`</td><td>FloatText</td></tr>\n",
        "  <tr><td>`Enum` subclasses</td><td>Dropdown</td></tr>\n",
        "</table>\n",
        "\n",
        "Other type annotations are ignored."
      ]
    },
    {
      "cell_type": "markdown",
      "metadata": {
        "id": "z9sWu0dCgExW"
      },
      "source": [
        "If values or abbreviations are passed to the `interact` function, those will override any type annotations when determining what widgets to create."
      ]
    },
    {
      "cell_type": "markdown",
      "metadata": {
        "id": "yZG4AqaRgExW"
      },
      "source": [
        "Parameters which are annotationed with an `Enum` subclass will have a dropdown created whose labels are the names of the enumeration and which pass the corresponding values to the function parameter."
      ]
    },
    {
      "cell_type": "code",
      "execution_count": null,
      "metadata": {
        "id": "CxJq_NUjgExW"
      },
      "outputs": [],
      "source": [
        "from enum import Enum\n",
        "\n",
        "class Color(Enum):\n",
        "    red = 0\n",
        "    green = 1\n",
        "    blue = 2\n",
        "\n",
        "def h(color: Color):\n",
        "    return color"
      ]
    },
    {
      "cell_type": "markdown",
      "metadata": {
        "id": "KFj__d-hgExW"
      },
      "source": [
        "When `interact` is used with the function `h`, the Dropdown widget it creates will have options `\"red\"`, `\"green\"` and `\"blue\"` and the values passed to the function will be, correspondingly, `Color.red`, `Color.green` and `Color.blue`."
      ]
    },
    {
      "cell_type": "code",
      "execution_count": null,
      "metadata": {
        "id": "yBBfmWJEgExW"
      },
      "outputs": [],
      "source": [
        "interact(h);"
      ]
    },
    {
      "cell_type": "markdown",
      "metadata": {
        "id": "MGsBrblSgExW"
      },
      "source": [
        "## `interactive`"
      ]
    },
    {
      "cell_type": "markdown",
      "metadata": {
        "id": "JOJrGEKWgExW"
      },
      "source": [
        "In addition to `interact`, IPython provides another function, `interactive`, that is useful when you want to reuse the widgets that are produced or access the data that is bound to the UI controls.\n",
        "\n",
        "Note that unlike `interact`, the return value of the function will not be displayed automatically, but you can display a value inside the function with `IPython.display.display`."
      ]
    },
    {
      "cell_type": "markdown",
      "metadata": {
        "id": "qeoFXb5agExW"
      },
      "source": [
        "Here is a function that displays the sum of its two arguments and returns the sum. The `display` line may be omitted if you don't want to show the result of the function."
      ]
    },
    {
      "cell_type": "code",
      "execution_count": null,
      "metadata": {
        "id": "gqkVkvRNgExW"
      },
      "outputs": [],
      "source": [
        "from IPython.display import display\n",
        "def f(a, b):\n",
        "    display(a + b)\n",
        "    return a+b"
      ]
    },
    {
      "cell_type": "markdown",
      "metadata": {
        "id": "f7bgHEc2gExX"
      },
      "source": [
        "Unlike `interact`, `interactive` returns a `Widget` instance rather than immediately displaying the widget."
      ]
    },
    {
      "cell_type": "code",
      "execution_count": null,
      "metadata": {
        "id": "YkgNYmM2gExX"
      },
      "outputs": [],
      "source": [
        "w = interactive(f, a=10, b=20)"
      ]
    },
    {
      "cell_type": "markdown",
      "metadata": {
        "id": "zKwVJJX1gExX"
      },
      "source": [
        "The widget is an `interactive`, a subclass of `VBox`, which is a container for other widgets."
      ]
    },
    {
      "cell_type": "code",
      "execution_count": null,
      "metadata": {
        "id": "y6KijcrDgExX"
      },
      "outputs": [],
      "source": [
        "type(w)"
      ]
    },
    {
      "cell_type": "markdown",
      "metadata": {
        "id": "VJL4Q-NsgExX"
      },
      "source": [
        "The children of the `interactive` are two integer-valued sliders and an output widget, produced by the widget abbreviations above."
      ]
    },
    {
      "cell_type": "code",
      "execution_count": null,
      "metadata": {
        "id": "4cLQvw4CgExX"
      },
      "outputs": [],
      "source": [
        "w.children"
      ]
    },
    {
      "cell_type": "markdown",
      "metadata": {
        "id": "-l2tp0Y9gExX"
      },
      "source": [
        "To actually display the widgets, you can use IPython's `display` function."
      ]
    },
    {
      "cell_type": "code",
      "execution_count": null,
      "metadata": {
        "id": "Q64vi5DHgExX"
      },
      "outputs": [],
      "source": [
        "display(w)"
      ]
    },
    {
      "cell_type": "markdown",
      "metadata": {
        "id": "gFZYTNz5gExX"
      },
      "source": [
        "At this point, the UI controls work just like they would if `interact` had been used. You can manipulate them interactively and the function will be called. However, the widget instance returned by `interactive` also gives you access to the current keyword arguments and return value of the underlying Python function.\n",
        "\n",
        "Here are the current keyword arguments. If you rerun this cell after manipulating the sliders, the values will have changed."
      ]
    },
    {
      "cell_type": "code",
      "execution_count": null,
      "metadata": {
        "id": "9dXzzEmVgExX"
      },
      "outputs": [],
      "source": [
        "w.kwargs"
      ]
    },
    {
      "cell_type": "markdown",
      "metadata": {
        "id": "rGBliZ4ggExX"
      },
      "source": [
        "Here is the current return value of the function."
      ]
    },
    {
      "cell_type": "code",
      "execution_count": null,
      "metadata": {
        "id": "rO-D2asJgExX"
      },
      "outputs": [],
      "source": [
        "w.result"
      ]
    },
    {
      "cell_type": "markdown",
      "metadata": {
        "id": "BOO8572TgExX"
      },
      "source": [
        "## Disabling continuous updates"
      ]
    },
    {
      "cell_type": "markdown",
      "metadata": {
        "id": "r2sdnFH4gExX"
      },
      "source": [
        "When interacting with long running functions, realtime feedback is a burden instead of being helpful.  See the following example:"
      ]
    },
    {
      "cell_type": "code",
      "execution_count": null,
      "metadata": {
        "id": "3V800bUogExX"
      },
      "outputs": [],
      "source": [
        "def slow_function(i):\n",
        "    print(int(i),list(x for x in range(int(i)) if\n",
        "                str(x)==str(x)[::-1] and\n",
        "                str(x**2)==str(x**2)[::-1]))\n",
        "    return"
      ]
    },
    {
      "cell_type": "code",
      "execution_count": null,
      "metadata": {
        "id": "yuVJYgBIgExX"
      },
      "outputs": [],
      "source": [
        "%%time\n",
        "slow_function(1e6)"
      ]
    },
    {
      "cell_type": "markdown",
      "metadata": {
        "id": "rCAT0umcgExX"
      },
      "source": [
        "Notice that the output is updated even while dragging the mouse on the slider. This is not useful for long running functions due to lagging:"
      ]
    },
    {
      "cell_type": "code",
      "execution_count": null,
      "metadata": {
        "id": "NPLcT1QUgExX"
      },
      "outputs": [],
      "source": [
        "from ipywidgets import FloatSlider\n",
        "interact(slow_function,i=FloatSlider(min=1e5, max=1e7, step=1e5));"
      ]
    },
    {
      "cell_type": "markdown",
      "metadata": {
        "id": "giiNbYoCgExY"
      },
      "source": [
        "There are two ways to mitigate this.  You can either only execute on demand, or restrict execution to mouse release events."
      ]
    },
    {
      "cell_type": "markdown",
      "metadata": {
        "id": "CrNbECm6gExY"
      },
      "source": [
        "### `interact_manual`"
      ]
    },
    {
      "cell_type": "markdown",
      "metadata": {
        "id": "4Sjvf1bUgExY"
      },
      "source": [
        "The `interact_manual` function provides a variant of interaction that allows you to restrict execution so it is only done on demand.  A button is added to the interact controls that allows you to trigger an execute event."
      ]
    },
    {
      "cell_type": "code",
      "execution_count": null,
      "metadata": {
        "id": "4J0nATISgExY"
      },
      "outputs": [],
      "source": [
        "interact_manual(slow_function,i=FloatSlider(min=1e5, max=1e7, step=1e5));"
      ]
    },
    {
      "cell_type": "markdown",
      "metadata": {
        "id": "NHj4oKdUgExY"
      },
      "source": [
        "You can do the same thing with `interactive` by using a `dict` as the second argument, as shown below."
      ]
    },
    {
      "cell_type": "code",
      "execution_count": null,
      "metadata": {
        "id": "DyHeMfsLgExY"
      },
      "outputs": [],
      "source": [
        "slow = interactive(slow_function, {'manual': True}, i=widgets.FloatSlider(min=1e4, max=1e6, step=1e4))\n",
        "slow"
      ]
    },
    {
      "cell_type": "markdown",
      "metadata": {
        "id": "niywx3aQgExY"
      },
      "source": [
        "### `continuous_update`"
      ]
    },
    {
      "cell_type": "markdown",
      "metadata": {
        "id": "pjh10uz3gExY"
      },
      "source": [
        "If you are using slider widgets, you can set the `continuous_update` kwarg to `False`.  `continuous_update` is a kwarg of slider widgets that restricts executions to mouse release events."
      ]
    },
    {
      "cell_type": "code",
      "execution_count": null,
      "metadata": {
        "id": "EZsMZLZ2gExY"
      },
      "outputs": [],
      "source": [
        "interact(slow_function,i=FloatSlider(min=1e5, max=1e7, step=1e5, continuous_update=False));"
      ]
    },
    {
      "cell_type": "markdown",
      "metadata": {
        "id": "nDHkO2pfgExY"
      },
      "source": [
        "## More control over the user interface: `interactive_output`\n",
        "\n",
        "`interactive_output` provides additional flexibility: you can control how the UI elements are laid out.\n",
        "\n",
        "Unlike `interact`, `interactive`, and `interact_manual`, `interactive_output` does not generate a user interface for the widgets. This is powerful, because it means you can create a widget, put it in a box, and then pass the widget to `interactive_output`, and have control over the widget and its layout."
      ]
    },
    {
      "cell_type": "code",
      "execution_count": null,
      "metadata": {
        "id": "Z23sS7qdgExY"
      },
      "outputs": [],
      "source": [
        "a = widgets.IntSlider()\n",
        "b = widgets.IntSlider()\n",
        "c = widgets.IntSlider()\n",
        "ui = widgets.HBox([a, b, c])\n",
        "def f(a, b, c):\n",
        "    print((a, b, c))\n",
        "\n",
        "out = widgets.interactive_output(f, {'a': a, 'b': b, 'c': c})\n",
        "\n",
        "display(ui, out)"
      ]
    },
    {
      "cell_type": "markdown",
      "metadata": {
        "id": "Wwm7Ayx4gExY"
      },
      "source": [
        "## Arguments that are dependent on each other"
      ]
    },
    {
      "cell_type": "markdown",
      "metadata": {
        "id": "4Rptwb3FgExY"
      },
      "source": [
        "Arguments that are dependent on each other can be expressed manually using `observe`.  See the following example, where one variable is used to describe the bounds of another.  For more information, please see the [widget events example notebook](./Widget%20Events.ipynb)."
      ]
    },
    {
      "cell_type": "code",
      "execution_count": null,
      "metadata": {
        "id": "rlbo99hmgExY"
      },
      "outputs": [],
      "source": [
        "x_widget = FloatSlider(min=0.0, max=10.0, step=0.05)\n",
        "y_widget = FloatSlider(min=0.5, max=10.0, step=0.05, value=5.0)\n",
        "\n",
        "def update_x_range(*args):\n",
        "    x_widget.max = 2.0 * y_widget.value\n",
        "y_widget.observe(update_x_range, 'value')\n",
        "\n",
        "def printer(x, y):\n",
        "    print(x, y)\n",
        "interact(printer,x=x_widget, y=y_widget);"
      ]
    },
    {
      "cell_type": "markdown",
      "metadata": {
        "id": "JeoFwEYcgExY"
      },
      "source": [
        "## Flickering and jumping output\n",
        "\n",
        "On occasion, you may notice interact output flickering and jumping, causing the notebook scroll position to change as the output is updated. The interactive control has a layout, so we can set its height to an appropriate value (currently chosen manually) so that it will not change size as it is updated.\n"
      ]
    },
    {
      "cell_type": "code",
      "execution_count": null,
      "metadata": {
        "id": "0wg7XUzWgExZ"
      },
      "outputs": [],
      "source": [
        "%matplotlib inline\n",
        "from ipywidgets import interactive\n",
        "import matplotlib.pyplot as plt\n",
        "import numpy as np\n",
        "\n",
        "def f(m, b):\n",
        "    plt.figure(2)\n",
        "    x = np.linspace(-10, 10, num=1000)\n",
        "    plt.plot(x, m * x + b)\n",
        "    plt.ylim(-5, 5)\n",
        "    plt.show()\n",
        "\n",
        "interactive_plot = interactive(f, m=(-2.0, 2.0), b=(-3, 3, 0.5))\n",
        "output = interactive_plot.children[-1]\n",
        "output.layout.height = '350px'\n",
        "interactive_plot"
      ]
    },
    {
      "cell_type": "markdown",
      "metadata": {
        "id": "mf0yIJZ4gExZ"
      },
      "source": [
        "## Interact with multiple functions\n",
        "\n",
        "You may want to have a single widget interact with multiple functions. This is possible by simply linking the widget to both functions using the interactive_output() function. The order of execution of the functions will be the order they were linked to the widget.\n"
      ]
    },
    {
      "cell_type": "code",
      "execution_count": null,
      "metadata": {
        "id": "k9jmCdM5gExZ"
      },
      "outputs": [],
      "source": [
        "import ipywidgets as widgets\n",
        "from IPython.display import display\n",
        "\n",
        "a = widgets.IntSlider(value=5, min=0, max=10)\n",
        "\n",
        "def f1(a):\n",
        "    display(a)\n",
        "\n",
        "def f2(a):\n",
        "    display(a * 2)\n",
        "\n",
        "out1 = widgets.interactive_output(f1, {'a': a})\n",
        "out2 = widgets.interactive_output(f2, {'a': a})\n",
        "\n",
        "display(a)\n",
        "display(out1)\n",
        "display(out2)"
      ]
    },
    {
      "cell_type": "code",
      "execution_count": null,
      "metadata": {
        "id": "FLNszp_TgExZ"
      },
      "outputs": [],
      "source": []
    },
    {
      "cell_type": "markdown",
      "source": [
        "# Appendix\n",
        "\n"
      ],
      "metadata": {
        "id": "_kSsKggohogt"
      }
    },
    {
      "cell_type": "code",
      "source": [],
      "metadata": {
        "id": "N8fEC_nyhp6r"
      },
      "execution_count": null,
      "outputs": []
    },
    {
      "cell_type": "markdown",
      "source": [
        "## Decorators"
      ],
      "metadata": {
        "id": "4VfIKQEfhqYx"
      }
    },
    {
      "cell_type": "code",
      "source": [
        "# x + y\n",
        "\n",
        "def cadd(x, y):\n",
        "    return x + y\n",
        "\n",
        "# add2 = lambda x, y, z: x*y + z + 2\n",
        "# add2 = lambda x, y: x + y\n",
        "# add2 = lambda x: cadd(x, 2)\n",
        "\n",
        "# def add2(x):\n",
        "#     def cadd(x, y):\n",
        "#         return x + y\n",
        "#     return cadd(x, 2)\n",
        "\n",
        "def add2(x):\n",
        "    return cadd(x, 2)\n",
        "\n",
        "\n",
        "add2(5)\n",
        "\n"
      ],
      "metadata": {
        "id": "87jQszLbhrWF",
        "outputId": "754287e9-6ddd-4f95-c568-401ec0e83496",
        "colab": {
          "base_uri": "https://localhost:8080/"
        }
      },
      "execution_count": 29,
      "outputs": [
        {
          "output_type": "execute_result",
          "data": {
            "text/plain": [
              "7"
            ]
          },
          "metadata": {},
          "execution_count": 29
        }
      ]
    },
    {
      "cell_type": "code",
      "source": [
        "def mult2(x):\n",
        "    def cmult(x, y):\n",
        "        return x * y\n",
        "    return cmult(x, 2)\n",
        "\n",
        "mult2(5)"
      ],
      "metadata": {
        "id": "0jV2GzpQi-Dk",
        "outputId": "4e808f80-df40-446c-81ab-2ed43813180a",
        "colab": {
          "base_uri": "https://localhost:8080/"
        }
      },
      "execution_count": 24,
      "outputs": [
        {
          "output_type": "execute_result",
          "data": {
            "text/plain": [
              "10"
            ]
          },
          "metadata": {},
          "execution_count": 24
        }
      ]
    },
    {
      "cell_type": "code",
      "source": [
        "cadd(2, 3)"
      ],
      "metadata": {
        "id": "o0UOoOZ_ij5g",
        "outputId": "bcf743a7-9727-48c9-a86e-4100e0114e68",
        "colab": {
          "base_uri": "https://localhost:8080/"
        }
      },
      "execution_count": 27,
      "outputs": [
        {
          "output_type": "execute_result",
          "data": {
            "text/plain": [
              "5"
            ]
          },
          "metadata": {},
          "execution_count": 27
        }
      ]
    },
    {
      "cell_type": "code",
      "source": [
        "cmult(2, 3)"
      ],
      "metadata": {
        "id": "OhNXB2hHjH7G",
        "outputId": "9e435313-6023-4ff7-a945-8e29bd75eed0",
        "colab": {
          "base_uri": "https://localhost:8080/",
          "height": 144
        }
      },
      "execution_count": 28,
      "outputs": [
        {
          "output_type": "error",
          "ename": "NameError",
          "evalue": "name 'cmult' is not defined",
          "traceback": [
            "\u001b[0;31m---------------------------------------------------------------------------\u001b[0m",
            "\u001b[0;31mNameError\u001b[0m                                 Traceback (most recent call last)",
            "\u001b[0;32m<ipython-input-28-7b9adf915e11>\u001b[0m in \u001b[0;36m<cell line: 1>\u001b[0;34m()\u001b[0m\n\u001b[0;32m----> 1\u001b[0;31m \u001b[0mcmult\u001b[0m\u001b[0;34m(\u001b[0m\u001b[0;36m2\u001b[0m\u001b[0;34m,\u001b[0m \u001b[0;36m3\u001b[0m\u001b[0;34m)\u001b[0m\u001b[0;34m\u001b[0m\u001b[0;34m\u001b[0m\u001b[0m\n\u001b[0m",
            "\u001b[0;31mNameError\u001b[0m: name 'cmult' is not defined"
          ]
        }
      ]
    },
    {
      "cell_type": "code",
      "source": [
        "\n",
        "\n",
        "def xsquare_plus_ysquare_v1(x, y):\n",
        "    print(f\"x is: {x}\")\n",
        "    print(f\"y is: {y}\")\n",
        "    result = x**2 + y**2 + 2*x*y\n",
        "    return result\n",
        "\n",
        "\n",
        "xsquare_plus_ysquare(2, 3)"
      ],
      "metadata": {
        "id": "hulHi-PVjMQK",
        "outputId": "1f78f0cd-1665-4c79-bdb7-1f0b3e912f8b",
        "colab": {
          "base_uri": "https://localhost:8080/"
        }
      },
      "execution_count": 31,
      "outputs": [
        {
          "output_type": "stream",
          "name": "stdout",
          "text": [
            "x is: 2\n",
            "y is: 3\n"
          ]
        },
        {
          "output_type": "execute_result",
          "data": {
            "text/plain": [
              "25"
            ]
          },
          "metadata": {},
          "execution_count": 31
        }
      ]
    },
    {
      "cell_type": "code",
      "source": [
        "from functools import wraps\n",
        "\n",
        "def log_message_with_args(message):\n",
        "    def decorator(func):\n",
        "        def wrapper(*args, **kwargs):\n",
        "            print(message + \": \" + func.__name__)\n",
        "            return func(*args, **kwargs)\n",
        "        return wrapper\n",
        "    return decorator\n",
        "\n",
        "def log_message(func):\n",
        "    @wraps(func)\n",
        "    def wrapper(*args, **kwargs):\n",
        "        # print(f\"Calling: {func.__name__}\")\n",
        "        print(f\"args are: {args}\")\n",
        "        # print(f\"y is: {y}\")\n",
        "        return func(*args, **kwargs)\n",
        "    return wrapper\n",
        "\n",
        "\n",
        "@log_message\n",
        "def xsquare_plus_ysquare(x, y):\n",
        "    result = x**2 + y**2 + 2*x*y\n",
        "    return result\n",
        "\n",
        "\n",
        "xsquare_plus_ysquare(2, 3)"
      ],
      "metadata": {
        "id": "WBml2Knwj8xQ",
        "outputId": "a7971c1a-ba38-4922-c685-3dda6fa7d7fd",
        "colab": {
          "base_uri": "https://localhost:8080/"
        }
      },
      "execution_count": 38,
      "outputs": [
        {
          "output_type": "stream",
          "name": "stdout",
          "text": [
            "args are: (2, 3)\n"
          ]
        },
        {
          "output_type": "execute_result",
          "data": {
            "text/plain": [
              "25"
            ]
          },
          "metadata": {},
          "execution_count": 38
        }
      ]
    },
    {
      "cell_type": "code",
      "source": [
        "\n",
        "import time\n",
        "\n",
        "def timeit(func):\n",
        "    @wraps(func)\n",
        "    def wrapper(*args, **kwargs):\n",
        "        start = time.time()\n",
        "        result = func(*args, **kwargs)\n",
        "        end = time.time()\n",
        "        print(f\"{func.__name__} took {end - start} seconds to run\")\n",
        "        return result\n",
        "    return wrapper\n",
        "\n",
        "\n",
        "@timeit\n",
        "def xsquare_plus_ysquare(x, y):\n",
        "    result = x**2 + y**2 + 2*x*y\n",
        "    return result\n",
        "\n",
        "xsquare_plus_ysquare(2, 3)"
      ],
      "metadata": {
        "id": "sKiCgr2VkY0e",
        "outputId": "eefe2f77-e4ad-4a9b-b62c-f82910b87644",
        "colab": {
          "base_uri": "https://localhost:8080/"
        }
      },
      "execution_count": 40,
      "outputs": [
        {
          "output_type": "stream",
          "name": "stdout",
          "text": [
            "xsquare_plus_ysquare took 3.337860107421875e-06 seconds to run\n"
          ]
        },
        {
          "output_type": "execute_result",
          "data": {
            "text/plain": [
              "25"
            ]
          },
          "metadata": {},
          "execution_count": 40
        }
      ]
    },
    {
      "cell_type": "code",
      "source": [],
      "metadata": {
        "id": "VhnUwNVqlpVk"
      },
      "execution_count": null,
      "outputs": []
    }
  ],
  "metadata": {
    "kernelspec": {
      "display_name": "Python 3 (ipykernel)",
      "language": "python",
      "name": "python3"
    },
    "language_info": {
      "codemirror_mode": {
        "name": "ipython",
        "version": 3
      },
      "file_extension": ".py",
      "mimetype": "text/x-python",
      "name": "python",
      "nbconvert_exporter": "python",
      "pygments_lexer": "ipython3",
      "version": "3.12.2"
    },
    "colab": {
      "provenance": [],
      "include_colab_link": true
    },
    "widgets": {
      "application/vnd.jupyter.widget-state+json": {
        "ad63927e91924fd6b62773aaf99e9baf": {
          "model_module": "@jupyter-widgets/controls",
          "model_name": "VBoxModel",
          "model_module_version": "1.5.0",
          "state": {
            "_dom_classes": [
              "widget-interact"
            ],
            "_model_module": "@jupyter-widgets/controls",
            "_model_module_version": "1.5.0",
            "_model_name": "VBoxModel",
            "_view_count": null,
            "_view_module": "@jupyter-widgets/controls",
            "_view_module_version": "1.5.0",
            "_view_name": "VBoxView",
            "box_style": "",
            "children": [
              "IPY_MODEL_715744f717af4e10b7c091ce103464c3",
              "IPY_MODEL_232abe6d9d9d41e99fb1537208e1f249"
            ],
            "layout": "IPY_MODEL_017306c1202b4b75abb964944f32f4ab"
          }
        },
        "715744f717af4e10b7c091ce103464c3": {
          "model_module": "@jupyter-widgets/controls",
          "model_name": "IntSliderModel",
          "model_module_version": "1.5.0",
          "state": {
            "_dom_classes": [],
            "_model_module": "@jupyter-widgets/controls",
            "_model_module_version": "1.5.0",
            "_model_name": "IntSliderModel",
            "_view_count": null,
            "_view_module": "@jupyter-widgets/controls",
            "_view_module_version": "1.5.0",
            "_view_name": "IntSliderView",
            "continuous_update": true,
            "description": "x",
            "description_tooltip": null,
            "disabled": false,
            "layout": "IPY_MODEL_713a1af1aa4e4b818bcc642011291938",
            "max": 30,
            "min": -10,
            "orientation": "horizontal",
            "readout": true,
            "readout_format": "d",
            "step": 1,
            "style": "IPY_MODEL_89f16e3b546a4ded87da4aa712922ded",
            "value": -10
          }
        },
        "232abe6d9d9d41e99fb1537208e1f249": {
          "model_module": "@jupyter-widgets/output",
          "model_name": "OutputModel",
          "model_module_version": "1.0.0",
          "state": {
            "_dom_classes": [],
            "_model_module": "@jupyter-widgets/output",
            "_model_module_version": "1.0.0",
            "_model_name": "OutputModel",
            "_view_count": null,
            "_view_module": "@jupyter-widgets/output",
            "_view_module_version": "1.0.0",
            "_view_name": "OutputView",
            "layout": "IPY_MODEL_0ef5814adc0d4a9aadb6cfcd1e44a5bc",
            "msg_id": "",
            "outputs": [
              {
                "output_type": "display_data",
                "data": {
                  "text/plain": "3"
                },
                "metadata": {}
              }
            ]
          }
        },
        "017306c1202b4b75abb964944f32f4ab": {
          "model_module": "@jupyter-widgets/base",
          "model_name": "LayoutModel",
          "model_module_version": "1.2.0",
          "state": {
            "_model_module": "@jupyter-widgets/base",
            "_model_module_version": "1.2.0",
            "_model_name": "LayoutModel",
            "_view_count": null,
            "_view_module": "@jupyter-widgets/base",
            "_view_module_version": "1.2.0",
            "_view_name": "LayoutView",
            "align_content": null,
            "align_items": null,
            "align_self": null,
            "border": null,
            "bottom": null,
            "display": null,
            "flex": null,
            "flex_flow": null,
            "grid_area": null,
            "grid_auto_columns": null,
            "grid_auto_flow": null,
            "grid_auto_rows": null,
            "grid_column": null,
            "grid_gap": null,
            "grid_row": null,
            "grid_template_areas": null,
            "grid_template_columns": null,
            "grid_template_rows": null,
            "height": null,
            "justify_content": null,
            "justify_items": null,
            "left": null,
            "margin": null,
            "max_height": null,
            "max_width": null,
            "min_height": null,
            "min_width": null,
            "object_fit": null,
            "object_position": null,
            "order": null,
            "overflow": null,
            "overflow_x": null,
            "overflow_y": null,
            "padding": null,
            "right": null,
            "top": null,
            "visibility": null,
            "width": null
          }
        },
        "713a1af1aa4e4b818bcc642011291938": {
          "model_module": "@jupyter-widgets/base",
          "model_name": "LayoutModel",
          "model_module_version": "1.2.0",
          "state": {
            "_model_module": "@jupyter-widgets/base",
            "_model_module_version": "1.2.0",
            "_model_name": "LayoutModel",
            "_view_count": null,
            "_view_module": "@jupyter-widgets/base",
            "_view_module_version": "1.2.0",
            "_view_name": "LayoutView",
            "align_content": null,
            "align_items": null,
            "align_self": null,
            "border": null,
            "bottom": null,
            "display": null,
            "flex": null,
            "flex_flow": null,
            "grid_area": null,
            "grid_auto_columns": null,
            "grid_auto_flow": null,
            "grid_auto_rows": null,
            "grid_column": null,
            "grid_gap": null,
            "grid_row": null,
            "grid_template_areas": null,
            "grid_template_columns": null,
            "grid_template_rows": null,
            "height": null,
            "justify_content": null,
            "justify_items": null,
            "left": null,
            "margin": null,
            "max_height": null,
            "max_width": null,
            "min_height": null,
            "min_width": null,
            "object_fit": null,
            "object_position": null,
            "order": null,
            "overflow": null,
            "overflow_x": null,
            "overflow_y": null,
            "padding": null,
            "right": null,
            "top": null,
            "visibility": null,
            "width": null
          }
        },
        "89f16e3b546a4ded87da4aa712922ded": {
          "model_module": "@jupyter-widgets/controls",
          "model_name": "SliderStyleModel",
          "model_module_version": "1.5.0",
          "state": {
            "_model_module": "@jupyter-widgets/controls",
            "_model_module_version": "1.5.0",
            "_model_name": "SliderStyleModel",
            "_view_count": null,
            "_view_module": "@jupyter-widgets/base",
            "_view_module_version": "1.2.0",
            "_view_name": "StyleView",
            "description_width": "",
            "handle_color": null
          }
        },
        "0ef5814adc0d4a9aadb6cfcd1e44a5bc": {
          "model_module": "@jupyter-widgets/base",
          "model_name": "LayoutModel",
          "model_module_version": "1.2.0",
          "state": {
            "_model_module": "@jupyter-widgets/base",
            "_model_module_version": "1.2.0",
            "_model_name": "LayoutModel",
            "_view_count": null,
            "_view_module": "@jupyter-widgets/base",
            "_view_module_version": "1.2.0",
            "_view_name": "LayoutView",
            "align_content": null,
            "align_items": null,
            "align_self": null,
            "border": null,
            "bottom": null,
            "display": null,
            "flex": null,
            "flex_flow": null,
            "grid_area": null,
            "grid_auto_columns": null,
            "grid_auto_flow": null,
            "grid_auto_rows": null,
            "grid_column": null,
            "grid_gap": null,
            "grid_row": null,
            "grid_template_areas": null,
            "grid_template_columns": null,
            "grid_template_rows": null,
            "height": null,
            "justify_content": null,
            "justify_items": null,
            "left": null,
            "margin": null,
            "max_height": null,
            "max_width": null,
            "min_height": null,
            "min_width": null,
            "object_fit": null,
            "object_position": null,
            "order": null,
            "overflow": null,
            "overflow_x": null,
            "overflow_y": null,
            "padding": null,
            "right": null,
            "top": null,
            "visibility": null,
            "width": null
          }
        },
        "36f2a4828a3147ac8d16aeac89a65dab": {
          "model_module": "@jupyter-widgets/controls",
          "model_name": "VBoxModel",
          "model_module_version": "1.5.0",
          "state": {
            "_dom_classes": [
              "widget-interact"
            ],
            "_model_module": "@jupyter-widgets/controls",
            "_model_module_version": "1.5.0",
            "_model_name": "VBoxModel",
            "_view_count": null,
            "_view_module": "@jupyter-widgets/controls",
            "_view_module_version": "1.5.0",
            "_view_name": "VBoxView",
            "box_style": "",
            "children": [
              "IPY_MODEL_3cd76a856474496887d0e3fe5ee61b0a",
              "IPY_MODEL_c4a3dba8302a4cd9931ee9e39afb608b"
            ],
            "layout": "IPY_MODEL_c2329268ab964292975815e9f159e2b6"
          }
        },
        "3cd76a856474496887d0e3fe5ee61b0a": {
          "model_module": "@jupyter-widgets/controls",
          "model_name": "CheckboxModel",
          "model_module_version": "1.5.0",
          "state": {
            "_dom_classes": [],
            "_model_module": "@jupyter-widgets/controls",
            "_model_module_version": "1.5.0",
            "_model_name": "CheckboxModel",
            "_view_count": null,
            "_view_module": "@jupyter-widgets/controls",
            "_view_module_version": "1.5.0",
            "_view_name": "CheckboxView",
            "description": "x",
            "description_tooltip": null,
            "disabled": false,
            "indent": true,
            "layout": "IPY_MODEL_39cadf400b2b4961a6941a77d6526a4c",
            "style": "IPY_MODEL_38b8cb07d6a84ed3a5ebf9db2b78b7d1",
            "value": false
          }
        },
        "c4a3dba8302a4cd9931ee9e39afb608b": {
          "model_module": "@jupyter-widgets/output",
          "model_name": "OutputModel",
          "model_module_version": "1.0.0",
          "state": {
            "_dom_classes": [],
            "_model_module": "@jupyter-widgets/output",
            "_model_module_version": "1.0.0",
            "_model_name": "OutputModel",
            "_view_count": null,
            "_view_module": "@jupyter-widgets/output",
            "_view_module_version": "1.0.0",
            "_view_name": "OutputView",
            "layout": "IPY_MODEL_487aca15b2eb4a5a8b46bb5dcc6540c8",
            "msg_id": "",
            "outputs": [
              {
                "output_type": "display_data",
                "data": {
                  "text/plain": "5"
                },
                "metadata": {}
              }
            ]
          }
        },
        "c2329268ab964292975815e9f159e2b6": {
          "model_module": "@jupyter-widgets/base",
          "model_name": "LayoutModel",
          "model_module_version": "1.2.0",
          "state": {
            "_model_module": "@jupyter-widgets/base",
            "_model_module_version": "1.2.0",
            "_model_name": "LayoutModel",
            "_view_count": null,
            "_view_module": "@jupyter-widgets/base",
            "_view_module_version": "1.2.0",
            "_view_name": "LayoutView",
            "align_content": null,
            "align_items": null,
            "align_self": null,
            "border": null,
            "bottom": null,
            "display": null,
            "flex": null,
            "flex_flow": null,
            "grid_area": null,
            "grid_auto_columns": null,
            "grid_auto_flow": null,
            "grid_auto_rows": null,
            "grid_column": null,
            "grid_gap": null,
            "grid_row": null,
            "grid_template_areas": null,
            "grid_template_columns": null,
            "grid_template_rows": null,
            "height": null,
            "justify_content": null,
            "justify_items": null,
            "left": null,
            "margin": null,
            "max_height": null,
            "max_width": null,
            "min_height": null,
            "min_width": null,
            "object_fit": null,
            "object_position": null,
            "order": null,
            "overflow": null,
            "overflow_x": null,
            "overflow_y": null,
            "padding": null,
            "right": null,
            "top": null,
            "visibility": null,
            "width": null
          }
        },
        "39cadf400b2b4961a6941a77d6526a4c": {
          "model_module": "@jupyter-widgets/base",
          "model_name": "LayoutModel",
          "model_module_version": "1.2.0",
          "state": {
            "_model_module": "@jupyter-widgets/base",
            "_model_module_version": "1.2.0",
            "_model_name": "LayoutModel",
            "_view_count": null,
            "_view_module": "@jupyter-widgets/base",
            "_view_module_version": "1.2.0",
            "_view_name": "LayoutView",
            "align_content": null,
            "align_items": null,
            "align_self": null,
            "border": null,
            "bottom": null,
            "display": null,
            "flex": null,
            "flex_flow": null,
            "grid_area": null,
            "grid_auto_columns": null,
            "grid_auto_flow": null,
            "grid_auto_rows": null,
            "grid_column": null,
            "grid_gap": null,
            "grid_row": null,
            "grid_template_areas": null,
            "grid_template_columns": null,
            "grid_template_rows": null,
            "height": null,
            "justify_content": null,
            "justify_items": null,
            "left": null,
            "margin": null,
            "max_height": null,
            "max_width": null,
            "min_height": null,
            "min_width": null,
            "object_fit": null,
            "object_position": null,
            "order": null,
            "overflow": null,
            "overflow_x": null,
            "overflow_y": null,
            "padding": null,
            "right": null,
            "top": null,
            "visibility": null,
            "width": null
          }
        },
        "38b8cb07d6a84ed3a5ebf9db2b78b7d1": {
          "model_module": "@jupyter-widgets/controls",
          "model_name": "DescriptionStyleModel",
          "model_module_version": "1.5.0",
          "state": {
            "_model_module": "@jupyter-widgets/controls",
            "_model_module_version": "1.5.0",
            "_model_name": "DescriptionStyleModel",
            "_view_count": null,
            "_view_module": "@jupyter-widgets/base",
            "_view_module_version": "1.2.0",
            "_view_name": "StyleView",
            "description_width": ""
          }
        },
        "487aca15b2eb4a5a8b46bb5dcc6540c8": {
          "model_module": "@jupyter-widgets/base",
          "model_name": "LayoutModel",
          "model_module_version": "1.2.0",
          "state": {
            "_model_module": "@jupyter-widgets/base",
            "_model_module_version": "1.2.0",
            "_model_name": "LayoutModel",
            "_view_count": null,
            "_view_module": "@jupyter-widgets/base",
            "_view_module_version": "1.2.0",
            "_view_name": "LayoutView",
            "align_content": null,
            "align_items": null,
            "align_self": null,
            "border": null,
            "bottom": null,
            "display": null,
            "flex": null,
            "flex_flow": null,
            "grid_area": null,
            "grid_auto_columns": null,
            "grid_auto_flow": null,
            "grid_auto_rows": null,
            "grid_column": null,
            "grid_gap": null,
            "grid_row": null,
            "grid_template_areas": null,
            "grid_template_columns": null,
            "grid_template_rows": null,
            "height": null,
            "justify_content": null,
            "justify_items": null,
            "left": null,
            "margin": null,
            "max_height": null,
            "max_width": null,
            "min_height": null,
            "min_width": null,
            "object_fit": null,
            "object_position": null,
            "order": null,
            "overflow": null,
            "overflow_x": null,
            "overflow_y": null,
            "padding": null,
            "right": null,
            "top": null,
            "visibility": null,
            "width": null
          }
        },
        "2f8305889c644f20b77deff836fbcc4a": {
          "model_module": "@jupyter-widgets/controls",
          "model_name": "VBoxModel",
          "model_module_version": "1.5.0",
          "state": {
            "_dom_classes": [
              "widget-interact"
            ],
            "_model_module": "@jupyter-widgets/controls",
            "_model_module_version": "1.5.0",
            "_model_name": "VBoxModel",
            "_view_count": null,
            "_view_module": "@jupyter-widgets/controls",
            "_view_module_version": "1.5.0",
            "_view_name": "VBoxView",
            "box_style": "",
            "children": [
              "IPY_MODEL_d1709c6931c2470fa1627f2db7799164",
              "IPY_MODEL_041323175c6742c3a6d21b7828837100"
            ],
            "layout": "IPY_MODEL_799a9670c4fa4a00bb09be79a91a88f4"
          }
        },
        "d1709c6931c2470fa1627f2db7799164": {
          "model_module": "@jupyter-widgets/controls",
          "model_name": "TextModel",
          "model_module_version": "1.5.0",
          "state": {
            "_dom_classes": [],
            "_model_module": "@jupyter-widgets/controls",
            "_model_module_version": "1.5.0",
            "_model_name": "TextModel",
            "_view_count": null,
            "_view_module": "@jupyter-widgets/controls",
            "_view_module_version": "1.5.0",
            "_view_name": "TextView",
            "continuous_update": true,
            "description": "x",
            "description_tooltip": null,
            "disabled": false,
            "layout": "IPY_MODEL_788fd97636df49ca967a79a0eaf411c7",
            "placeholder": "​",
            "style": "IPY_MODEL_8fc5df7666fc4404ac9e4ffc0b27c891",
            "value": "hi, there"
          }
        },
        "041323175c6742c3a6d21b7828837100": {
          "model_module": "@jupyter-widgets/output",
          "model_name": "OutputModel",
          "model_module_version": "1.0.0",
          "state": {
            "_dom_classes": [],
            "_model_module": "@jupyter-widgets/output",
            "_model_module_version": "1.0.0",
            "_model_name": "OutputModel",
            "_view_count": null,
            "_view_module": "@jupyter-widgets/output",
            "_view_module_version": "1.0.0",
            "_view_name": "OutputView",
            "layout": "IPY_MODEL_0044caffcc6c4a35a368bdb7e7a97e2c",
            "msg_id": "",
            "outputs": [
              {
                "output_type": "display_data",
                "data": {
                  "text/plain": "9"
                },
                "metadata": {}
              }
            ]
          }
        },
        "799a9670c4fa4a00bb09be79a91a88f4": {
          "model_module": "@jupyter-widgets/base",
          "model_name": "LayoutModel",
          "model_module_version": "1.2.0",
          "state": {
            "_model_module": "@jupyter-widgets/base",
            "_model_module_version": "1.2.0",
            "_model_name": "LayoutModel",
            "_view_count": null,
            "_view_module": "@jupyter-widgets/base",
            "_view_module_version": "1.2.0",
            "_view_name": "LayoutView",
            "align_content": null,
            "align_items": null,
            "align_self": null,
            "border": null,
            "bottom": null,
            "display": null,
            "flex": null,
            "flex_flow": null,
            "grid_area": null,
            "grid_auto_columns": null,
            "grid_auto_flow": null,
            "grid_auto_rows": null,
            "grid_column": null,
            "grid_gap": null,
            "grid_row": null,
            "grid_template_areas": null,
            "grid_template_columns": null,
            "grid_template_rows": null,
            "height": null,
            "justify_content": null,
            "justify_items": null,
            "left": null,
            "margin": null,
            "max_height": null,
            "max_width": null,
            "min_height": null,
            "min_width": null,
            "object_fit": null,
            "object_position": null,
            "order": null,
            "overflow": null,
            "overflow_x": null,
            "overflow_y": null,
            "padding": null,
            "right": null,
            "top": null,
            "visibility": null,
            "width": null
          }
        },
        "788fd97636df49ca967a79a0eaf411c7": {
          "model_module": "@jupyter-widgets/base",
          "model_name": "LayoutModel",
          "model_module_version": "1.2.0",
          "state": {
            "_model_module": "@jupyter-widgets/base",
            "_model_module_version": "1.2.0",
            "_model_name": "LayoutModel",
            "_view_count": null,
            "_view_module": "@jupyter-widgets/base",
            "_view_module_version": "1.2.0",
            "_view_name": "LayoutView",
            "align_content": null,
            "align_items": null,
            "align_self": null,
            "border": null,
            "bottom": null,
            "display": null,
            "flex": null,
            "flex_flow": null,
            "grid_area": null,
            "grid_auto_columns": null,
            "grid_auto_flow": null,
            "grid_auto_rows": null,
            "grid_column": null,
            "grid_gap": null,
            "grid_row": null,
            "grid_template_areas": null,
            "grid_template_columns": null,
            "grid_template_rows": null,
            "height": null,
            "justify_content": null,
            "justify_items": null,
            "left": null,
            "margin": null,
            "max_height": null,
            "max_width": null,
            "min_height": null,
            "min_width": null,
            "object_fit": null,
            "object_position": null,
            "order": null,
            "overflow": null,
            "overflow_x": null,
            "overflow_y": null,
            "padding": null,
            "right": null,
            "top": null,
            "visibility": null,
            "width": null
          }
        },
        "8fc5df7666fc4404ac9e4ffc0b27c891": {
          "model_module": "@jupyter-widgets/controls",
          "model_name": "DescriptionStyleModel",
          "model_module_version": "1.5.0",
          "state": {
            "_model_module": "@jupyter-widgets/controls",
            "_model_module_version": "1.5.0",
            "_model_name": "DescriptionStyleModel",
            "_view_count": null,
            "_view_module": "@jupyter-widgets/base",
            "_view_module_version": "1.2.0",
            "_view_name": "StyleView",
            "description_width": ""
          }
        },
        "0044caffcc6c4a35a368bdb7e7a97e2c": {
          "model_module": "@jupyter-widgets/base",
          "model_name": "LayoutModel",
          "model_module_version": "1.2.0",
          "state": {
            "_model_module": "@jupyter-widgets/base",
            "_model_module_version": "1.2.0",
            "_model_name": "LayoutModel",
            "_view_count": null,
            "_view_module": "@jupyter-widgets/base",
            "_view_module_version": "1.2.0",
            "_view_name": "LayoutView",
            "align_content": null,
            "align_items": null,
            "align_self": null,
            "border": null,
            "bottom": null,
            "display": null,
            "flex": null,
            "flex_flow": null,
            "grid_area": null,
            "grid_auto_columns": null,
            "grid_auto_flow": null,
            "grid_auto_rows": null,
            "grid_column": null,
            "grid_gap": null,
            "grid_row": null,
            "grid_template_areas": null,
            "grid_template_columns": null,
            "grid_template_rows": null,
            "height": null,
            "justify_content": null,
            "justify_items": null,
            "left": null,
            "margin": null,
            "max_height": null,
            "max_width": null,
            "min_height": null,
            "min_width": null,
            "object_fit": null,
            "object_position": null,
            "order": null,
            "overflow": null,
            "overflow_x": null,
            "overflow_y": null,
            "padding": null,
            "right": null,
            "top": null,
            "visibility": null,
            "width": null
          }
        }
      }
    }
  },
  "nbformat": 4,
  "nbformat_minor": 0
}