{
  "nbformat": 4,
  "nbformat_minor": 0,
  "metadata": {
    "colab": {
      "provenance": [],
      "authorship_tag": "ABX9TyP8L/fAG5Iwhuvt4kmhHDmi",
      "include_colab_link": true
    },
    "kernelspec": {
      "name": "python3",
      "display_name": "Python 3"
    },
    "language_info": {
      "name": "python"
    }
  },
  "cells": [
    {
      "cell_type": "markdown",
      "metadata": {
        "id": "view-in-github",
        "colab_type": "text"
      },
      "source": [
        "<a href=\"https://colab.research.google.com/github/venkataratnamb20/quicksilicon/blob/notebooks/notebooks/cpp_in_python.ipynb\" target=\"_parent\"><img src=\"https://colab.research.google.com/assets/colab-badge.svg\" alt=\"Open In Colab\"/></a>"
      ]
    },
    {
      "cell_type": "markdown",
      "source": [
        "# C/CPP in Python\n"
      ],
      "metadata": {
        "id": "nhqgounCSy58"
      }
    },
    {
      "cell_type": "markdown",
      "source": [
        "## Setup"
      ],
      "metadata": {
        "id": "Doe8E3VNWUUl"
      }
    },
    {
      "cell_type": "markdown",
      "source": [
        "### ngspice\n",
        "\n",
        "References\n",
        "\n",
        "- [sourceforge](https://ngspice.sourceforge.io/download.html)\n",
        "- [sourceforge: all manuals](https://ngspice.sourceforge.io/docs.html)\n",
        "- [sourceforge-manual-pdf](https://ngspice.sourceforge.io/docs/ngspice-manual.pdf)\n",
        "- [sourceforge: Develepers page](https://ngspice.sourceforge.io/devel.html)\n",
        "- [Manual: Page 24- C language guide](https://ngspice.sourceforge.io/docs/ngspice-manual.pdf)\n",
        "\n",
        "Downloads\n",
        "\n",
        "- [sourceforge](https://sourceforge.net/projects/ngspice/)\n",
        "- [sourceforge-repo](git://git.code.sf.net/p/ngspice/ngspice)\n",
        "\n",
        "```bash\n",
        "git clone git://git.code.sf.net/p/ngspice/ngspice\n",
        "```\n",
        "- [github-repo](https://github.com/danchitnis/ngspice-sf-mirror/tree/pre-master-44)\n",
        "- [gitlab-repo](https://gitlab.com/ngspice/ngspice/-/tree/pre-master-44)\n",
        "- [gitlab-ngspice-repo](https://github.com/ngspice/ngspice/blob/master/INSTALL)\n",
        "- [github/KiKad-Spice-Library](https://github.com/kicad-spice-library/KiCad-Spice-Library)\n",
        "\n",
        "\n",
        "Conferences\n",
        "\n",
        "- [sourceforge](https://ngspice.sourceforge.io/)\n",
        "- [FOSDEM official](https://fosdem.org/2024/)\n",
        "- [FOSDEM2024-KiKad](https://fosdem.org/2024/schedule/event/fosdem-2024-2834-ngspice-circuit-simulator-stand-alone-and-embedded-into-kicad/)\n",
        "\n"
      ],
      "metadata": {
        "id": "f-qHxwNgYdLp"
      }
    },
    {
      "cell_type": "code",
      "source": [
        "# install ngspice if not installed\n",
        "!ngspice --version || apt install ngspice"
      ],
      "metadata": {
        "colab": {
          "base_uri": "https://localhost:8080/"
        },
        "id": "uysA0jy4WWan",
        "outputId": "bfbcc204-7d7f-4da5-a99b-32e1823bbb6d"
      },
      "execution_count": null,
      "outputs": [
        {
          "output_type": "stream",
          "name": "stdout",
          "text": [
            "/bin/bash: line 1: ngspice: command not found\n",
            "Reading package lists... Done\n",
            "Building dependency tree... Done\n",
            "Reading state information... Done\n",
            "Suggested packages:\n",
            "  ngspice-doc\n",
            "The following NEW packages will be installed:\n",
            "  ngspice\n",
            "0 upgraded, 1 newly installed, 0 to remove and 45 not upgraded.\n",
            "Need to get 2,352 kB of archives.\n",
            "After this operation, 7,972 kB of additional disk space will be used.\n",
            "Get:1 http://archive.ubuntu.com/ubuntu jammy-updates/universe amd64 ngspice amd64 36+ds-1ubuntu0.1 [2,352 kB]\n",
            "Fetched 2,352 kB in 1s (2,751 kB/s)\n",
            "Selecting previously unselected package ngspice.\n",
            "(Reading database ... 123589 files and directories currently installed.)\n",
            "Preparing to unpack .../ngspice_36+ds-1ubuntu0.1_amd64.deb ...\n",
            "Unpacking ngspice (36+ds-1ubuntu0.1) ...\n",
            "Setting up ngspice (36+ds-1ubuntu0.1) ...\n",
            "Processing triggers for man-db (2.10.2-1) ...\n"
          ]
        }
      ]
    },
    {
      "cell_type": "markdown",
      "source": [
        "### NgSpice: Examples"
      ],
      "metadata": {
        "id": "jES-HQJuq2Az"
      }
    },
    {
      "cell_type": "markdown",
      "source": [
        "Spiceinit file"
      ],
      "metadata": {
        "id": "SOgr73_hwSoN"
      }
    },
    {
      "cell_type": "code",
      "source": [
        "%%writefile .spiceinit\n",
        "\n",
        "* .spiceinit for use with Skywater PDK and ngspice KLU\n",
        "set ngbehavior=hsa ; set compatibility for reading ; PDK libs\n",
        "set skywaterpdk\n",
        "set ng_nomodcheck\n",
        "option noinit\n",
        "option klu ; omit some time consuming checks\n",
        "                        ; during lib loading\n",
        "                        ; don’t check the model parameters\n",
        "                        ; don’t print operating point data\n",
        "                        ; select KLU as matrix solver\n",
        "optran 0 0 0 100p 2n 0 ; don’t use dc operating point,\n",
        "                        ; but transient op"
      ],
      "metadata": {
        "colab": {
          "base_uri": "https://localhost:8080/"
        },
        "id": "qYZhe9byvsdg",
        "outputId": "74e16ff9-fcf2-4438-b93d-07d8a137eb19"
      },
      "execution_count": null,
      "outputs": [
        {
          "output_type": "stream",
          "name": "stdout",
          "text": [
            "Writing .spiceinit\n"
          ]
        }
      ]
    },
    {
      "cell_type": "markdown",
      "source": [
        "#### Circuit"
      ],
      "metadata": {
        "id": "__pVgObOtAvb"
      }
    },
    {
      "cell_type": "code",
      "source": [
        "%%writefile rc_tb.cir\n",
        "\n",
        "* RC LPF\n",
        "*** Schemtic\n",
        ".TITLE RC LPF\n",
        ".PARAM tclk = 200p\n",
        "R1 vin vout 160M\n",
        "R2 vout 0 160M\n",
        "C2 vout 0 100p\n",
        "V1 vin 0 DC 0 PULSE (0V 1.8V {tclk/2 - 10p} 10ps 10ps {tclk/2 - 10p} {tclk})\n",
        "\n",
        "*** Control\n",
        ".CONTROL\n",
        "tran 10p 800p\n",
        "option noinit\n",
        "set wr_singlescale\n",
        "set wr_vecnames\n",
        "rusage time\n",
        "save all\n",
        "save @r1[i] @r2[i]\n",
        "save @c2[i]\n",
        "run\n",
        "wrdata rc_tb.csv V(vin) V(vout) @r1[i] @r2[i] @c2[i]\n",
        ".ENDC\n",
        ".END\n"
      ],
      "metadata": {
        "colab": {
          "base_uri": "https://localhost:8080/"
        },
        "id": "FqPs9_afq4v7",
        "outputId": "fb62baf5-297d-4e5e-84f0-8b68a22d5ab2"
      },
      "execution_count": null,
      "outputs": [
        {
          "output_type": "stream",
          "name": "stdout",
          "text": [
            "Writing rc_tb.cir\n"
          ]
        }
      ]
    },
    {
      "cell_type": "markdown",
      "source": [
        "#### Run Simulation"
      ],
      "metadata": {
        "id": "ewqXDMcnq__W"
      }
    },
    {
      "cell_type": "code",
      "source": [
        "\n",
        "# run sim\n",
        "\n",
        "!ngspice -b rc_tb.cir\n"
      ],
      "metadata": {
        "colab": {
          "base_uri": "https://localhost:8080/"
        },
        "id": "49r6HB9Kq6rA",
        "outputId": "c4668919-21d5-441a-9ac7-a77a982ad812"
      },
      "execution_count": null,
      "outputs": [
        {
          "output_type": "stream",
          "name": "stdout",
          "text": [
            "during: no such command available in ngspice\n",
            "don’t: no such command available in ngspice\n",
            "don’t: no such command available in ngspice\n",
            "select: no such command available in ngspice\n",
            "Warning: Step size potentially too small.\n",
            "but: no such command available in ngspice\n",
            "\n",
            "Compatibility modes selected: hs a\n",
            "\n",
            "\n",
            "Circuit: RC LPF\n",
            "\n",
            "Doing analysis at TEMP = 27.000000 and TNOM = 27.000000\n",
            "\n",
            "Note: Transient op started\n",
            "Note: Transient op finished successfully\n",
            "\n",
            "No. of Data Rows : 172\n",
            "Total analysis time (seconds) = 0\n",
            "Doing analysis at TEMP = 27.000000 and TNOM = 27.000000\n",
            "\n",
            "Note: No \".plot\", \".print\", or \".fourier\" lines; no simulations run\n"
          ]
        }
      ]
    },
    {
      "cell_type": "markdown",
      "source": [
        "#### Read the data\n"
      ],
      "metadata": {
        "id": "-xm4J6pirCWK"
      }
    },
    {
      "cell_type": "code",
      "source": [
        "# read data with python\n",
        "from pathlib import Path\n",
        "import pandas as pd\n",
        "import numpy as np\n",
        "import matplotlib.pyplot as plt\n",
        "\n",
        "data = pd.read_csv(\"rc_tb.csv\", delim_whitespace = True, skip_blank_lines=True ).set_index('time')\n",
        "data_df_final = data[[\"v(vin)\", \"v(vout)\"]]\n",
        "data_df_final.plot(subplots=True, figsize=(12, 8))\n",
        "plt.title('RC Low Pass Filter')\n",
        "plt.show()\n",
        "data_df_final\n",
        "\n",
        "data"
      ],
      "metadata": {
        "colab": {
          "base_uri": "https://localhost:8080/",
          "height": 1000
        },
        "id": "Zx1Vkmm9rEE2",
        "outputId": "b6d83613-2ea5-4d18-8098-298eec2b136b"
      },
      "execution_count": null,
      "outputs": [
        {
          "output_type": "display_data",
          "data": {
            "text/plain": [
              "<Figure size 1200x800 with 2 Axes>"
            ],
            "image/png": "[encoded data removed]"
          },
          "metadata": {}
        },
        {
          "output_type": "execute_result",
          "data": {
            "text/plain": [
              "                    v(vin)   v(vout)  @r1[i]  @r2[i]  @c2[i]\n",
              "time                                                        \n",
              "0.000000e+00  0.000000e+00  0.000000     0.0     0.0     0.0\n",
              "8.000000e-14  0.000000e+00  0.000000     0.0     0.0     0.0\n",
              "1.600000e-13  0.000000e+00  0.000000     0.0     0.0     0.0\n",
              "3.200000e-13  0.000000e+00  0.000000     0.0     0.0     0.0\n",
              "6.400000e-13  0.000000e+00  0.000000     0.0     0.0     0.0\n",
              "...                    ...       ...     ...     ...     ...\n",
              "7.900000e-10  1.800000e+00  0.899999     0.0     0.0     0.0\n",
              "7.909528e-10  1.628497e+00  0.890873     0.0     0.0     0.0\n",
              "7.928584e-10  1.285492e+00  0.856312     0.0     0.0     0.0\n",
              "7.966696e-10  5.994809e-01  0.708157     0.0     0.0     0.0\n",
              "8.000000e-10  1.287859e-14  0.515782     0.0     0.0     0.0\n",
              "\n",
              "[172 rows x 5 columns]"
            ],
            "text/html": [
              "\n",
              "  <div id=\"df-f31480df-fa91-40b1-a9df-b7c2a91c38e6\" class=\"colab-df-container\">\n",
              "    <div>\n",
              "<style scoped>\n",
              "    .dataframe tbody tr th:only-of-type {\n",
              "        vertical-align: middle;\n",
              "    }\n",
              "\n",
              "    .dataframe tbody tr th {\n",
              "        vertical-align: top;\n",
              "    }\n",
              "\n",
              "    .dataframe thead th {\n",
              "        text-align: right;\n",
              "    }\n",
              "</style>\n",
              "<table border=\"1\" class=\"dataframe\">\n",
              "  <thead>\n",
              "    <tr style=\"text-align: right;\">\n",
              "      <th></th>\n",
              "      <th>v(vin)</th>\n",
              "      <th>v(vout)</th>\n",
              "      <th>@r1[i]</th>\n",
              "      <th>@r2[i]</th>\n",
              "      <th>@c2[i]</th>\n",
              "    </tr>\n",
              "    <tr>\n",
              "      <th>time</th>\n",
              "      <th></th>\n",
              "      <th></th>\n",
              "      <th></th>\n",
              "      <th></th>\n",
              "      <th></th>\n",
              "    </tr>\n",
              "  </thead>\n",
              "  <tbody>\n",
              "    <tr>\n",
              "      <th>0.000000e+00</th>\n",
              "      <td>0.000000e+00</td>\n",
              "      <td>0.000000</td>\n",
              "      <td>0.0</td>\n",
              "      <td>0.0</td>\n",
              "      <td>0.0</td>\n",
              "    </tr>\n",
              "    <tr>\n",
              "      <th>8.000000e-14</th>\n",
              "      <td>0.000000e+00</td>\n",
              "      <td>0.000000</td>\n",
              "      <td>0.0</td>\n",
              "      <td>0.0</td>\n",
              "      <td>0.0</td>\n",
              "    </tr>\n",
              "    <tr>\n",
              "      <th>1.600000e-13</th>\n",
              "      <td>0.000000e+00</td>\n",
              "      <td>0.000000</td>\n",
              "      <td>0.0</td>\n",
              "      <td>0.0</td>\n",
              "      <td>0.0</td>\n",
              "    </tr>\n",
              "    <tr>\n",
              "      <th>3.200000e-13</th>\n",
              "      <td>0.000000e+00</td>\n",
              "      <td>0.000000</td>\n",
              "      <td>0.0</td>\n",
              "      <td>0.0</td>\n",
              "      <td>0.0</td>\n",
              "    </tr>\n",
              "    <tr>\n",
              "      <th>6.400000e-13</th>\n",
              "      <td>0.000000e+00</td>\n",
              "      <td>0.000000</td>\n",
              "      <td>0.0</td>\n",
              "      <td>0.0</td>\n",
              "      <td>0.0</td>\n",
              "    </tr>\n",
              "    <tr>\n",
              "      <th>...</th>\n",
              "      <td>...</td>\n",
              "      <td>...</td>\n",
              "      <td>...</td>\n",
              "      <td>...</td>\n",
              "      <td>...</td>\n",
              "    </tr>\n",
              "    <tr>\n",
              "      <th>7.900000e-10</th>\n",
              "      <td>1.800000e+00</td>\n",
              "      <td>0.899999</td>\n",
              "      <td>0.0</td>\n",
              "      <td>0.0</td>\n",
              "      <td>0.0</td>\n",
              "    </tr>\n",
              "    <tr>\n",
              "      <th>7.909528e-10</th>\n",
              "      <td>1.628497e+00</td>\n",
              "      <td>0.890873</td>\n",
              "      <td>0.0</td>\n",
              "      <td>0.0</td>\n",
              "      <td>0.0</td>\n",
              "    </tr>\n",
              "    <tr>\n",
              "      <th>7.928584e-10</th>\n",
              "      <td>1.285492e+00</td>\n",
              "      <td>0.856312</td>\n",
              "      <td>0.0</td>\n",
              "      <td>0.0</td>\n",
              "      <td>0.0</td>\n",
              "    </tr>\n",
              "    <tr>\n",
              "      <th>7.966696e-10</th>\n",
              "      <td>5.994809e-01</td>\n",
              "      <td>0.708157</td>\n",
              "      <td>0.0</td>\n",
              "      <td>0.0</td>\n",
              "      <td>0.0</td>\n",
              "    </tr>\n",
              "    <tr>\n",
              "      <th>8.000000e-10</th>\n",
              "      <td>1.287859e-14</td>\n",
              "      <td>0.515782</td>\n",
              "      <td>0.0</td>\n",
              "      <td>0.0</td>\n",
              "      <td>0.0</td>\n",
              "    </tr>\n",
              "  </tbody>\n",
              "</table>\n",
              "<p>172 rows × 5 columns</p>\n",
              "</div>\n",
              "    <div class=\"colab-df-buttons\">\n",
              "\n",
              "  <div class=\"colab-df-container\">\n",
              "    <button class=\"colab-df-convert\" onclick=\"convertToInteractive('df-f31480df-fa91-40b1-a9df-b7c2a91c38e6')\"\n",
              "            title=\"Convert this dataframe to an interactive table.\"\n",
              "            style=\"display:none;\">\n",
              "\n",
              "  <svg xmlns=\"http://www.w3.org/2000/svg\" height=\"24px\" viewBox=\"0 -960 960 960\">\n",
              "    <path d=\"M120-120v-720h720v720H120Zm60-500h600v-160H180v160Zm220 220h160v-160H400v160Zm0 220h160v-160H400v160ZM180-400h160v-160H180v160Zm440 0h160v-160H620v160ZM180-180h160v-160H180v160Zm440 0h160v-160H620v160Z\"/>\n",
              "  </svg>\n",
              "    </button>\n",
              "\n",
              "  <style>\n",
              "    .colab-df-container {\n",
              "      display:flex;\n",
              "      gap: 12px;\n",
              "    }\n",
              "\n",
              "    .colab-df-convert {\n",
              "      background-color: #E8F0FE;\n",
              "      border: none;\n",
              "      border-radius: 50%;\n",
              "      cursor: pointer;\n",
              "      display: none;\n",
              "      fill: #1967D2;\n",
              "      height: 32px;\n",
              "      padding: 0 0 0 0;\n",
              "      width: 32px;\n",
              "    }\n",
              "\n",
              "    .colab-df-convert:hover {\n",
              "      background-color: #E2EBFA;\n",
              "      box-shadow: 0px 1px 2px rgba(60, 64, 67, 0.3), 0px 1px 3px 1px rgba(60, 64, 67, 0.15);\n",
              "      fill: #174EA6;\n",
              "    }\n",
              "\n",
              "    .colab-df-buttons div {\n",
              "      margin-bottom: 4px;\n",
              "    }\n",
              "\n",
              "    [theme=dark] .colab-df-convert {\n",
              "      background-color: #3B4455;\n",
              "      fill: #D2E3FC;\n",
              "    }\n",
              "\n",
              "    [theme=dark] .colab-df-convert:hover {\n",
              "      background-color: #434B5C;\n",
              "      box-shadow: 0px 1px 3px 1px rgba(0, 0, 0, 0.15);\n",
              "      filter: drop-shadow(0px 1px 2px rgba(0, 0, 0, 0.3));\n",
              "      fill: #FFFFFF;\n",
              "    }\n",
              "  </style>\n",
              "\n",
              "    <script>\n",
              "      const buttonEl =\n",
              "        document.querySelector('#df-f31480df-fa91-40b1-a9df-b7c2a91c38e6 button.colab-df-convert');\n",
              "      buttonEl.style.display =\n",
              "        google.colab.kernel.accessAllowed ? 'block' : 'none';\n",
              "\n",
              "      async function convertToInteractive(key) {\n",
              "        const element = document.querySelector('#df-f31480df-fa91-40b1-a9df-b7c2a91c38e6');\n",
              "        const dataTable =\n",
              "          await google.colab.kernel.invokeFunction('convertToInteractive',\n",
              "                                                    [key], {});\n",
              "        if (!dataTable) return;\n",
              "\n",
              "        const docLinkHtml = 'Like what you see? Visit the ' +\n",
              "          '<a target=\"_blank\" href=https://colab.research.google.com/notebooks/data_table.ipynb>data table notebook</a>'\n",
              "          + ' to learn more about interactive tables.';\n",
              "        element.innerHTML = '';\n",
              "        dataTable['output_type'] = 'display_data';\n",
              "        await google.colab.output.renderOutput(dataTable, element);\n",
              "        const docLink = document.createElement('div');\n",
              "        docLink.innerHTML = docLinkHtml;\n",
              "        element.appendChild(docLink);\n",
              "      }\n",
              "    </script>\n",
              "  </div>\n",
              "\n",
              "\n",
              "<div id=\"df-7753f1f2-6f04-4d77-846c-93429b843308\">\n",
              "  <button class=\"colab-df-quickchart\" onclick=\"quickchart('df-7753f1f2-6f04-4d77-846c-93429b843308')\"\n",
              "            title=\"Suggest charts\"\n",
              "            style=\"display:none;\">\n",
              "\n",
              "<svg xmlns=\"http://www.w3.org/2000/svg\" height=\"24px\"viewBox=\"0 0 24 24\"\n",
              "     width=\"24px\">\n",
              "    <g>\n",
              "        <path d=\"M19 3H5c-1.1 0-2 .9-2 2v14c0 1.1.9 2 2 2h14c1.1 0 2-.9 2-2V5c0-1.1-.9-2-2-2zM9 17H7v-7h2v7zm4 0h-2V7h2v10zm4 0h-2v-4h2v4z\"/>\n",
              "    </g>\n",
              "</svg>\n",
              "  </button>\n",
              "\n",
              "<style>\n",
              "  .colab-df-quickchart {\n",
              "      --bg-color: #E8F0FE;\n",
              "      --fill-color: #1967D2;\n",
              "      --hover-bg-color: #E2EBFA;\n",
              "      --hover-fill-color: #174EA6;\n",
              "      --disabled-fill-color: #AAA;\n",
              "      --disabled-bg-color: #DDD;\n",
              "  }\n",
              "\n",
              "  [theme=dark] .colab-df-quickchart {\n",
              "      --bg-color: #3B4455;\n",
              "      --fill-color: #D2E3FC;\n",
              "      --hover-bg-color: #434B5C;\n",
              "      --hover-fill-color: #FFFFFF;\n",
              "      --disabled-bg-color: #3B4455;\n",
              "      --disabled-fill-color: #666;\n",
              "  }\n",
              "\n",
              "  .colab-df-quickchart {\n",
              "    background-color: var(--bg-color);\n",
              "    border: none;\n",
              "    border-radius: 50%;\n",
              "    cursor: pointer;\n",
              "    display: none;\n",
              "    fill: var(--fill-color);\n",
              "    height: 32px;\n",
              "    padding: 0;\n",
              "    width: 32px;\n",
              "  }\n",
              "\n",
              "  .colab-df-quickchart:hover {\n",
              "    background-color: var(--hover-bg-color);\n",
              "    box-shadow: 0 1px 2px rgba(60, 64, 67, 0.3), 0 1px 3px 1px rgba(60, 64, 67, 0.15);\n",
              "    fill: var(--button-hover-fill-color);\n",
              "  }\n",
              "\n",
              "  .colab-df-quickchart-complete:disabled,\n",
              "  .colab-df-quickchart-complete:disabled:hover {\n",
              "    background-color: var(--disabled-bg-color);\n",
              "    fill: var(--disabled-fill-color);\n",
              "    box-shadow: none;\n",
              "  }\n",
              "\n",
              "  .colab-df-spinner {\n",
              "    border: 2px solid var(--fill-color);\n",
              "    border-color: transparent;\n",
              "    border-bottom-color: var(--fill-color);\n",
              "    animation:\n",
              "      spin 1s steps(1) infinite;\n",
              "  }\n",
              "\n",
              "  @keyframes spin {\n",
              "    0% {\n",
              "      border-color: transparent;\n",
              "      border-bottom-color: var(--fill-color);\n",
              "      border-left-color: var(--fill-color);\n",
              "    }\n",
              "    20% {\n",
              "      border-color: transparent;\n",
              "      border-left-color: var(--fill-color);\n",
              "      border-top-color: var(--fill-color);\n",
              "    }\n",
              "    30% {\n",
              "      border-color: transparent;\n",
              "      border-left-color: var(--fill-color);\n",
              "      border-top-color: var(--fill-color);\n",
              "      border-right-color: var(--fill-color);\n",
              "    }\n",
              "    40% {\n",
              "      border-color: transparent;\n",
              "      border-right-color: var(--fill-color);\n",
              "      border-top-color: var(--fill-color);\n",
              "    }\n",
              "    60% {\n",
              "      border-color: transparent;\n",
              "      border-right-color: var(--fill-color);\n",
              "    }\n",
              "    80% {\n",
              "      border-color: transparent;\n",
              "      border-right-color: var(--fill-color);\n",
              "      border-bottom-color: var(--fill-color);\n",
              "    }\n",
              "    90% {\n",
              "      border-color: transparent;\n",
              "      border-bottom-color: var(--fill-color);\n",
              "    }\n",
              "  }\n",
              "</style>\n",
              "\n",
              "  <script>\n",
              "    async function quickchart(key) {\n",
              "      const quickchartButtonEl =\n",
              "        document.querySelector('#' + key + ' button');\n",
              "      quickchartButtonEl.disabled = true;  // To prevent multiple clicks.\n",
              "      quickchartButtonEl.classList.add('colab-df-spinner');\n",
              "      try {\n",
              "        const charts = await google.colab.kernel.invokeFunction(\n",
              "            'suggestCharts', [key], {});\n",
              "      } catch (error) {\n",
              "        console.error('Error during call to suggestCharts:', error);\n",
              "      }\n",
              "      quickchartButtonEl.classList.remove('colab-df-spinner');\n",
              "      quickchartButtonEl.classList.add('colab-df-quickchart-complete');\n",
              "    }\n",
              "    (() => {\n",
              "      let quickchartButtonEl =\n",
              "        document.querySelector('#df-7753f1f2-6f04-4d77-846c-93429b843308 button');\n",
              "      quickchartButtonEl.style.display =\n",
              "        google.colab.kernel.accessAllowed ? 'block' : 'none';\n",
              "    })();\n",
              "  </script>\n",
              "</div>\n",
              "\n",
              "  <div id=\"id_30d5ca85-4a19-48e4-98ef-c603e024951e\">\n",
              "    <style>\n",
              "      .colab-df-generate {\n",
              "        background-color: #E8F0FE;\n",
              "        border: none;\n",
              "        border-radius: 50%;\n",
              "        cursor: pointer;\n",
              "        display: none;\n",
              "        fill: #1967D2;\n",
              "        height: 32px;\n",
              "        padding: 0 0 0 0;\n",
              "        width: 32px;\n",
              "      }\n",
              "\n",
              "      .colab-df-generate:hover {\n",
              "        background-color: #E2EBFA;\n",
              "        box-shadow: 0px 1px 2px rgba(60, 64, 67, 0.3), 0px 1px 3px 1px rgba(60, 64, 67, 0.15);\n",
              "        fill: #174EA6;\n",
              "      }\n",
              "\n",
              "      [theme=dark] .colab-df-generate {\n",
              "        background-color: #3B4455;\n",
              "        fill: #D2E3FC;\n",
              "      }\n",
              "\n",
              "      [theme=dark] .colab-df-generate:hover {\n",
              "        background-color: #434B5C;\n",
              "        box-shadow: 0px 1px 3px 1px rgba(0, 0, 0, 0.15);\n",
              "        filter: drop-shadow(0px 1px 2px rgba(0, 0, 0, 0.3));\n",
              "        fill: #FFFFFF;\n",
              "      }\n",
              "    </style>\n",
              "    <button class=\"colab-df-generate\" onclick=\"generateWithVariable('data')\"\n",
              "            title=\"Generate code using this dataframe.\"\n",
              "            style=\"display:none;\">\n",
              "\n",
              "  <svg xmlns=\"http://www.w3.org/2000/svg\" height=\"24px\"viewBox=\"0 0 24 24\"\n",
              "       width=\"24px\">\n",
              "    <path d=\"M7,19H8.4L18.45,9,17,7.55,7,17.6ZM5,21V16.75L18.45,3.32a2,2,0,0,1,2.83,0l1.4,1.43a1.91,1.91,0,0,1,.58,1.4,1.91,1.91,0,0,1-.58,1.4L9.25,21ZM18.45,9,17,7.55Zm-12,3A5.31,5.31,0,0,0,4.9,8.1,5.31,5.31,0,0,0,1,6.5,5.31,5.31,0,0,0,4.9,4.9,5.31,5.31,0,0,0,6.5,1,5.31,5.31,0,0,0,8.1,4.9,5.31,5.31,0,0,0,12,6.5,5.46,5.46,0,0,0,6.5,12Z\"/>\n",
              "  </svg>\n",
              "    </button>\n",
              "    <script>\n",
              "      (() => {\n",
              "      const buttonEl =\n",
              "        document.querySelector('#id_30d5ca85-4a19-48e4-98ef-c603e024951e button.colab-df-generate');\n",
              "      buttonEl.style.display =\n",
              "        google.colab.kernel.accessAllowed ? 'block' : 'none';\n",
              "\n",
              "      buttonEl.onclick = () => {\n",
              "        google.colab.notebook.generateWithVariable('data');\n",
              "      }\n",
              "      })();\n",
              "    </script>\n",
              "  </div>\n",
              "\n",
              "    </div>\n",
              "  </div>\n"
            ],
            "application/vnd.google.colaboratory.intrinsic+json": {
              "type": "dataframe",
              "variable_name": "data",
              "summary": "{\n  \"name\": \"data\",\n  \"rows\": 172,\n  \"fields\": [\n    {\n      \"column\": \"time\",\n      \"properties\": {\n        \"dtype\": \"number\",\n        \"std\": 2.316356090321885e-10,\n        \"min\": 0.0,\n        \"max\": 8e-10,\n        \"num_unique_values\": 172,\n        \"samples\": [\n          3.69523604e-10,\n          6.44240408e-10,\n          6.94258607e-10\n        ],\n        \"semantic_type\": \"\",\n        \"description\": \"\"\n      }\n    },\n    {\n      \"column\": \"v(vin)\",\n      \"properties\": {\n        \"dtype\": \"number\",\n        \"std\": 0.8363184838988407,\n        \"min\": 0.0,\n        \"max\": 1.8,\n        \"num_unique_values\": 41,\n        \"samples\": [\n          0.149825339,\n          0.0537544882,\n          1.62\n        ],\n        \"semantic_type\": \"\",\n        \"description\": \"\"\n      }\n    },\n    {\n      \"column\": \"v(vout)\",\n      \"properties\": {\n        \"dtype\": \"number\",\n        \"std\": 0.3757640447404891,\n        \"min\": 0.0,\n        \"max\": 0.899998837,\n        \"num_unique_values\": 145,\n        \"samples\": [\n          0.388983258,\n          0.746469191,\n          0.255693603\n        ],\n        \"semantic_type\": \"\",\n        \"description\": \"\"\n      }\n    },\n    {\n      \"column\": \"@r1[i]\",\n      \"properties\": {\n        \"dtype\": \"number\",\n        \"std\": 0.0,\n        \"min\": 0.0,\n        \"max\": 0.0,\n        \"num_unique_values\": 1,\n        \"samples\": [\n          0.0\n        ],\n        \"semantic_type\": \"\",\n        \"description\": \"\"\n      }\n    },\n    {\n      \"column\": \"@r2[i]\",\n      \"properties\": {\n        \"dtype\": \"number\",\n        \"std\": 0.0,\n        \"min\": 0.0,\n        \"max\": 0.0,\n        \"num_unique_values\": 1,\n        \"samples\": [\n          0.0\n        ],\n        \"semantic_type\": \"\",\n        \"description\": \"\"\n      }\n    },\n    {\n      \"column\": \"@c2[i]\",\n      \"properties\": {\n        \"dtype\": \"number\",\n        \"std\": 0.0,\n        \"min\": 0.0,\n        \"max\": 0.0,\n        \"num_unique_values\": 1,\n        \"samples\": [\n          0.0\n        ],\n        \"semantic_type\": \"\",\n        \"description\": \"\"\n      }\n    }\n  ]\n}"
            }
          },
          "metadata": {},
          "execution_count": 8
        }
      ]
    },
    {
      "cell_type": "markdown",
      "source": [
        "#### NgSpice Interactive mode"
      ],
      "metadata": {
        "id": "XzkAgdn2t3g3"
      }
    },
    {
      "cell_type": "code",
      "source": [
        "%%shell\n",
        "\n",
        "ngspice --version"
      ],
      "metadata": {
        "colab": {
          "base_uri": "https://localhost:8080/"
        },
        "id": "6vFF7nO9DIRs",
        "outputId": "53587587-1426-4502-9567-91510698590d"
      },
      "execution_count": null,
      "outputs": [
        {
          "output_type": "stream",
          "name": "stdout",
          "text": [
            "******\n",
            "** ngspice-36 : Circuit level simulation program\n",
            "** The U. C. Berkeley CAD Group\n",
            "** Copyright 1985-1994, Regents of the University of California.\n",
            "** Copyright 2001-2020, The ngspice team.\n",
            "** Please get your ngspice manual from http://ngspice.sourceforge.net/docs.html\n",
            "** Please file your bug-reports at http://ngspice.sourceforge.net/bugrep.html\n",
            "** Creation Date: Mon Mar 11 21:44:53 UTC 2024\n",
            "******\n"
          ]
        },
        {
          "output_type": "execute_result",
          "data": {
            "text/plain": []
          },
          "metadata": {},
          "execution_count": 9
        }
      ]
    },
    {
      "cell_type": "code",
      "source": [
        "# %%shell\n",
        "\n",
        "!ngspice -i"
      ],
      "metadata": {
        "colab": {
          "base_uri": "https://localhost:8080/"
        },
        "id": "pVPkE825t6Ln",
        "outputId": "5dbfb71f-66e1-4a94-9b5b-64d20e5a4aa1"
      },
      "execution_count": null,
      "outputs": [
        {
          "output_type": "stream",
          "name": "stdout",
          "text": [
            "during: no such command available in ngspice\n",
            "don’t: no such command available in ngspice\n",
            "don’t: no such command available in ngspice\n",
            "select: no such command available in ngspice\n",
            "Warning: Step size potentially too small.\n",
            "but: no such command available in ngspice\n",
            "******\n",
            "** ngspice-36 : Circuit level simulation program\n",
            "** The U. C. Berkeley CAD Group\n",
            "** Copyright 1985-1994, Regents of the University of California.\n",
            "** Copyright 2001-2020, The ngspice team.\n",
            "** Please get your ngspice manual from http://ngspice.sourceforge.net/docs.html\n",
            "** Please file your bug-reports at http://ngspice.sourceforge.net/bugrep.html\n",
            "** Creation Date: Mon Mar 11 21:44:53 UTC 2024\n",
            "******\n",
            "ERROR: (external)  no graphics interface;\n",
            " please check if X-server is running,\n",
            " or ngspice is compiled properly (see INSTALL)\n",
            "ngspice 1 -> source rc-tb.cir\n",
            "Command 'source' failed:\n",
            "rc-tb.cir: No such file or directory\n",
            "    Simulation interrupted due to error!\n",
            "\n",
            "ngspice 1 -> source rc_tb.cir\n",
            "\n",
            "Compatibility modes selected: hs a\n",
            "\n",
            "\n",
            "Circuit: RC LPF\n",
            "\n",
            "Doing analysis at TEMP = 27.000000 and TNOM = 27.000000\n",
            "\n",
            "Note: Transient op started\n",
            "Note: Transient op finished successfully\n",
            "\n",
            "No. of Data Rows : 172\n",
            "Total analysis time (seconds) = 0.001\n",
            "Doing analysis at TEMP = 27.000000 and TNOM = 27.000000\n",
            "\n",
            "ngspice 2 -> run\n",
            "Doing analysis at TEMP = 27.000000 and TNOM = 27.000000\n",
            "\n",
            "ngspice 3 -> print vin\n",
            "                                     RC LPF\n",
            "                                     Transient Analysis  Mon Jul 29 15:16:43  2024\n",
            "--------------------------------------------------------------------------------\n",
            "Index   time            vin             \n",
            "--------------------------------------------------------------------------------\n",
            "0\t0.000000e+00\t0.000000e+00\t\n",
            "1\t8.000000e-14\t0.000000e+00\t\n",
            "2\t1.600000e-13\t0.000000e+00\t\n",
            "3\t3.200000e-13\t0.000000e+00\t\n",
            "4\t6.400000e-13\t0.000000e+00\t\n",
            "5\t1.280000e-12\t0.000000e+00\t\n",
            "6\t2.560000e-12\t0.000000e+00\t\n",
            "7\t5.120000e-12\t0.000000e+00\t\n",
            "8\t1.024000e-11\t0.000000e+00\t\n",
            "9\t2.024000e-11\t0.000000e+00\t\n",
            "10\t3.024000e-11\t0.000000e+00\t\n",
            "11\t4.024000e-11\t0.000000e+00\t\n",
            "12\t5.024000e-11\t0.000000e+00\t\n",
            "13\t6.024000e-11\t0.000000e+00\t\n",
            "14\t7.024000e-11\t0.000000e+00\t\n",
            "15\t8.024000e-11\t0.000000e+00\t\n",
            "16\t9.000000e-11\t0.000000e+00\t\n",
            "17\t9.015064e-11\t2.711520e-02\t\n",
            "18\t9.045192e-11\t8.134560e-02\t\n",
            "19\t9.105448e-11\t1.898064e-01\t\n",
            "20\t9.183615e-11\t3.305075e-01\t\n",
            "21\t9.339950e-11\t6.119098e-01\t\n",
            "22\t9.652619e-11\t1.174714e+00\t\n",
            "23\t1.000000e-10\t1.800000e+00\t\n",
            "24\t1.005560e-10\t1.800000e+00\t\n",
            "25\t1.016679e-10\t1.800000e+00\t\n",
            "26\t1.038917e-10\t1.800000e+00\t\n",
            "27\t1.083393e-10\t1.800000e+00\t\n",
            "28\t1.172346e-10\t1.800000e+00\t\n",
            "29\t1.272346e-10\t1.800000e+00\t\n",
            "30\t1.372346e-10\t1.800000e+00\t\n",
            "31\t1.472346e-10\t1.800000e+00\t\n",
            "32\t1.572346e-10\t1.800000e+00\t\n",
            "33\t1.672346e-10\t1.800000e+00\t\n",
            "34\t1.772346e-10\t1.800000e+00\t\n",
            "35\t1.872346e-10\t1.800000e+00\t\n",
            "36\t1.900000e-10\t1.800000e+00\t\n",
            "37\t1.910000e-10\t1.620000e+00\t\n",
            "38\t1.930000e-10\t1.260000e+00\t\n",
            "39\t1.970000e-10\t5.400000e-01\t\n",
            "40\t2.000000e-10\t0.000000e+00\t\n",
            "41\t2.008000e-10\t0.000000e+00\t\n",
            "42\t2.024000e-10\t0.000000e+00\t\n",
            "43\t2.056000e-10\t0.000000e+00\t\n",
            "44\t2.120000e-10\t0.000000e+00\t\n",
            "45\t2.181590e-10\t0.000000e+00\t\n",
            "46\t2.229747e-10\t0.000000e+00\t\n",
            "47\t2.281293e-10\t0.000000e+00\t\n",
            "48\t2.333300e-10\t0.000000e+00\t\n",
            "49\t2.389385e-10\t0.000000e+00\t\n",
            "50\t2.442404e-10\t0.000000e+00\t\n",
            "51\t2.496301e-10\t0.000000e+00\t\n",
            "52\t2.548706e-10\t0.000000e+00\t\n",
            "53\t2.602745e-10\t0.000000e+00\t\n",
            "54\t2.655860e-10\t0.000000e+00\t\n",
            "\f\n",
            "Index   time            vin             \n",
            "--------------------------------------------------------------------------------\n",
            "55\t2.709759e-10\t0.000000e+00\t\n",
            "56\t2.762831e-10\t0.000000e+00\t\n",
            "57\t2.837988e-10\t0.000000e+00\t\n",
            "58\t2.900000e-10\t4.652891e-15\t\n",
            "59\t2.900995e-10\t1.791816e-02\t\n",
            "60\t2.902986e-10\t5.375449e-02\t\n",
            "61\t2.906968e-10\t1.254271e-01\t\n",
            "62\t2.912056e-10\t2.170160e-01\t\n",
            "63\t2.922233e-10\t4.001938e-01\t\n",
            "64\t2.942586e-10\t7.665493e-01\t\n",
            "65\t2.983292e-10\t1.499260e+00\t\n",
            "66\t3.000000e-10\t1.800000e+00\t\n",
            "67\t3.006349e-10\t1.800000e+00\t\n",
            "68\t3.019047e-10\t1.800000e+00\t\n",
            "69\t3.044443e-10\t1.800000e+00\t\n",
            "70\t3.095236e-10\t1.800000e+00\t\n",
            "71\t3.195236e-10\t1.800000e+00\t\n",
            "72\t3.295236e-10\t1.800000e+00\t\n",
            "73\t3.395236e-10\t1.800000e+00\t\n",
            "74\t3.495236e-10\t1.800000e+00\t\n",
            "75\t3.595236e-10\t1.800000e+00\t\n",
            "76\t3.695236e-10\t1.800000e+00\t\n",
            "77\t3.795236e-10\t1.800000e+00\t\n",
            "78\t3.895236e-10\t1.800000e+00\t\n",
            "79\t3.900000e-10\t1.800000e+00\t\n",
            "80\t3.909528e-10\t1.628497e+00\t\n",
            "81\t3.928584e-10\t1.285492e+00\t\n",
            "82\t3.966695e-10\t5.994811e-01\t\n",
            "83\t4.000000e-10\t0.000000e+00\t\n",
            "84\t4.007622e-10\t0.000000e+00\t\n",
            "85\t4.022867e-10\t0.000000e+00\t\n",
            "86\t4.053356e-10\t0.000000e+00\t\n",
            "87\t4.114335e-10\t0.000000e+00\t\n",
            "88\t4.170372e-10\t0.000000e+00\t\n",
            "89\t4.218715e-10\t0.000000e+00\t\n",
            "90\t4.271804e-10\t0.000000e+00\t\n",
            "91\t4.324944e-10\t0.000000e+00\t\n",
            "92\t4.380288e-10\t0.000000e+00\t\n",
            "93\t4.433032e-10\t0.000000e+00\t\n",
            "94\t4.486743e-10\t0.000000e+00\t\n",
            "95\t4.539498e-10\t0.000000e+00\t\n",
            "96\t4.593480e-10\t0.000000e+00\t\n",
            "97\t4.646654e-10\t0.000000e+00\t\n",
            "98\t4.700413e-10\t0.000000e+00\t\n",
            "99\t4.753562e-10\t0.000000e+00\t\n",
            "100\t4.823840e-10\t0.000000e+00\t\n",
            "101\t4.900000e-10\t0.000000e+00\t\n",
            "102\t4.901189e-10\t2.140362e-02\t\n",
            "103\t4.903567e-10\t6.421086e-02\t\n",
            "104\t4.908324e-10\t1.498253e-01\t\n",
            "105\t4.914436e-10\t2.598502e-01\t\n",
            "106\t4.926661e-10\t4.798999e-01\t\n",
            "107\t4.951111e-10\t9.199993e-01\t\n",
            "108\t4.999365e-10\t1.788579e+00\t\n",
            "109\t5.000000e-10\t1.800000e+00\t\n",
            "110\t5.001269e-10\t1.800000e+00\t\n",
            "111\t5.003807e-10\t1.800000e+00\t\n",
            "112\t5.008883e-10\t1.800000e+00\t\n",
            "\f\n",
            "Index   time            vin             \n",
            "--------------------------------------------------------------------------------\n",
            "113\t5.019036e-10\t1.800000e+00\t\n",
            "114\t5.039340e-10\t1.800000e+00\t\n",
            "115\t5.079949e-10\t1.800000e+00\t\n",
            "116\t5.161168e-10\t1.800000e+00\t\n",
            "117\t5.261168e-10\t1.800000e+00\t\n",
            "118\t5.361168e-10\t1.800000e+00\t\n",
            "119\t5.461168e-10\t1.800000e+00\t\n",
            "120\t5.561168e-10\t1.800000e+00\t\n",
            "121\t5.661168e-10\t1.800000e+00\t\n",
            "122\t5.761168e-10\t1.800000e+00\t\n",
            "123\t5.861168e-10\t1.800000e+00\t\n",
            "124\t5.900000e-10\t1.800000e+00\t\n",
            "125\t5.910000e-10\t1.620000e+00\t\n",
            "126\t5.930000e-10\t1.260000e+00\t\n",
            "127\t5.970000e-10\t5.400000e-01\t\n",
            "128\t6.000000e-10\t2.220446e-14\t\n",
            "129\t6.008000e-10\t0.000000e+00\t\n",
            "130\t6.024000e-10\t0.000000e+00\t\n",
            "131\t6.056000e-10\t0.000000e+00\t\n",
            "132\t6.120000e-10\t0.000000e+00\t\n",
            "133\t6.181590e-10\t0.000000e+00\t\n",
            "134\t6.229747e-10\t0.000000e+00\t\n",
            "135\t6.281293e-10\t0.000000e+00\t\n",
            "136\t6.333300e-10\t0.000000e+00\t\n",
            "137\t6.389385e-10\t0.000000e+00\t\n",
            "138\t6.442404e-10\t0.000000e+00\t\n",
            "139\t6.496301e-10\t0.000000e+00\t\n",
            "140\t6.548706e-10\t0.000000e+00\t\n",
            "141\t6.602745e-10\t0.000000e+00\t\n",
            "142\t6.655860e-10\t0.000000e+00\t\n",
            "143\t6.709759e-10\t0.000000e+00\t\n",
            "144\t6.762831e-10\t0.000000e+00\t\n",
            "145\t6.837988e-10\t0.000000e+00\t\n",
            "146\t6.900000e-10\t0.000000e+00\t\n",
            "147\t6.900995e-10\t1.791816e-02\t\n",
            "148\t6.902986e-10\t5.375449e-02\t\n",
            "149\t6.906968e-10\t1.254271e-01\t\n",
            "150\t6.912056e-10\t2.170160e-01\t\n",
            "151\t6.922233e-10\t4.001938e-01\t\n",
            "152\t6.942586e-10\t7.665493e-01\t\n",
            "153\t6.983292e-10\t1.499260e+00\t\n",
            "154\t7.000000e-10\t1.800000e+00\t\n",
            "155\t7.006349e-10\t1.800000e+00\t\n",
            "156\t7.019047e-10\t1.800000e+00\t\n",
            "157\t7.044443e-10\t1.800000e+00\t\n",
            "158\t7.095236e-10\t1.800000e+00\t\n",
            "159\t7.195236e-10\t1.800000e+00\t\n",
            "160\t7.295236e-10\t1.800000e+00\t\n",
            "161\t7.395236e-10\t1.800000e+00\t\n",
            "162\t7.495236e-10\t1.800000e+00\t\n",
            "163\t7.595236e-10\t1.800000e+00\t\n",
            "164\t7.695236e-10\t1.800000e+00\t\n",
            "165\t7.795236e-10\t1.800000e+00\t\n",
            "166\t7.895236e-10\t1.800000e+00\t\n",
            "167\t7.900000e-10\t1.800000e+00\t\n",
            "168\t7.909528e-10\t1.628497e+00\t\n",
            "169\t7.928584e-10\t1.285492e+00\t\n",
            "170\t7.966696e-10\t5.994809e-01\t\n",
            "\f\n",
            "Index   time            vin             \n",
            "--------------------------------------------------------------------------------\n",
            "171\t8.000000e-10\t1.287859e-14\t\n",
            "ngspice 4 -> quit\n",
            "ngspice-36 done\n"
          ]
        }
      ]
    },
    {
      "cell_type": "markdown",
      "source": [
        "### Python C-packages"
      ],
      "metadata": {
        "id": "uKM2LNTDtyWY"
      }
    },
    {
      "cell_type": "markdown",
      "source": [
        "\n",
        "Python packages\n",
        "\n",
        "- SWIG (Not recommended)\n",
        "- Ctypes (Builtin Python)\n",
        "- CFFI (pypy)\n",
        "- Boost.Python (Complex)\n",
        "- PyBind11 (CPP11 and later)\n",
        "\n",
        "Coding environment\n",
        "\n",
        "\n",
        "[Youtube/NDC Conference: Integrate Python and C++ with pybind11 - Robert Smallshire](https://youtu.be/YReJ3pSnNDo?si=PjE6QuJaihRoyLyS)\n",
        "\n",
        "- Python code\n",
        "  - ctypes\n",
        "  - cffi (pypy)\n",
        "- Coding C/C++\n",
        "  - Python C API (Cython)\n",
        "  - pybind11\n",
        "  - Boost.Python\n",
        "- Others\n",
        "  - SWIG\n",
        "  - IDL"
      ],
      "metadata": {
        "id": "vjeYWt2iS2gI"
      }
    },
    {
      "cell_type": "code",
      "execution_count": null,
      "metadata": {
        "id": "CIjK6THwSteP"
      },
      "outputs": [],
      "source": []
    },
    {
      "cell_type": "markdown",
      "source": [
        "## Python C Extensions\n",
        "Ref: [Youtube/Tobias Bergkvist: Python C Extensions](https://youtu.be/nHEF1epuuco?si=_cfYJYd3_rHmi-Tp)\n",
        "\n",
        "python system module\n",
        "\n",
        "```python\n",
        "import sysconfig\n",
        "\n",
        "# print python includes path which has c- Python.h\n",
        "# pass this path while building with gcc with command as follows\n",
        "# $ gcc <file>.c -shared -o <file>.so -I <includes path>\n",
        "sys_paths = sysconfig.get_paths()\n",
        "py_include_path = sys_paths['include']\n",
        "print(f\"includes path: {py_include_path}\")\n",
        "\n",
        "sys_paths\n",
        "```"
      ],
      "metadata": {
        "id": "gxLh8o5wTmh1"
      }
    },
    {
      "cell_type": "markdown",
      "source": [
        "Print python package locations"
      ],
      "metadata": {
        "id": "188Mn7ttT3fZ"
      }
    },
    {
      "cell_type": "code",
      "source": [
        "import sysconfig\n",
        "\n",
        "# print python includes path which has c- Python.h\n",
        "# pass this path while building with gcc with command as follows\n",
        "# $ gcc <file>.c -shared -o <file>.so -I <includes path>\n",
        "sys_paths = sysconfig.get_paths()\n",
        "py_include_path = sys_paths['include']\n",
        "print(f\"includes path: {py_include_path}\")\n",
        "\n",
        "sys_paths"
      ],
      "metadata": {
        "colab": {
          "base_uri": "https://localhost:8080/"
        },
        "id": "m42ktpiLT1Me",
        "outputId": "4949df6f-3c69-4eff-dddf-e6174a86c5aa"
      },
      "execution_count": null,
      "outputs": [
        {
          "metadata": {
            "tags": null
          },
          "name": "stdout",
          "output_type": "stream",
          "text": [
            "includes path: /usr/include/python3.10\n"
          ]
        },
        {
          "data": {
            "text/plain": [
              "{'stdlib': '/usr/lib/python3.10',\n",
              " 'platstdlib': '/usr/lib/python3.10',\n",
              " 'purelib': '/usr/local/lib/python3.10/dist-packages',\n",
              " 'platlib': '/usr/local/lib/python3.10/dist-packages',\n",
              " 'include': '/usr/include/python3.10',\n",
              " 'platinclude': '/usr/include/python3.10',\n",
              " 'scripts': '/usr/local/bin',\n",
              " 'data': '/usr/local'}"
            ]
          },
          "execution_count": 11,
          "metadata": {},
          "output_type": "execute_result"
        }
      ]
    },
    {
      "cell_type": "markdown",
      "source": [
        "### Example: import 'hello' module in python"
      ],
      "metadata": {
        "id": "3WiSxjU7UHPJ"
      }
    },
    {
      "cell_type": "markdown",
      "source": [
        "### Create directory for package"
      ],
      "metadata": {
        "id": "jDpR1iQWUBNg"
      }
    },
    {
      "cell_type": "code",
      "source": [
        "import os\n",
        "package_path = '/content/workspace/packages/cpy_package'\n",
        "if not os.path.exists(package_path):\n",
        "  os.makedirs(package_path)\n"
      ],
      "metadata": {
        "id": "AFYeAQXXTn7h"
      },
      "execution_count": null,
      "outputs": []
    },
    {
      "cell_type": "markdown",
      "source": [
        "### Write `hello.c`"
      ],
      "metadata": {
        "id": "JazfpbAGTs86"
      }
    },
    {
      "cell_type": "code",
      "source": [
        "%%writefile /content/workspace/packages/cpy_package/hello.c\n",
        "\n",
        "#define PY_SSIZE_T_CLEAN\n",
        "#include <Python.h>\n",
        "#include <stdio.h>\n",
        "\n",
        "PyObject *add(PyObject *self, PyObject *args){\n",
        "  int x;\n",
        "  int y;\n",
        "  PyArg_ParseTuple(args, \"ii\", &x, &y);\n",
        "  return PyLong_FromLong((long)(x + y));\n",
        "};\n",
        "\n",
        "\n",
        "PyObject *sub(PyObject *self, PyObject *args){\n",
        "  double x;\n",
        "  double y;\n",
        "  PyArg_ParseTuple(args, \"dd\", &x, &y);\n",
        "  return PyFloat_FromDouble(x - y);\n",
        "};\n",
        "\n",
        "static PyMethodDef methods[] = {\n",
        "  { \"add\", add, METH_VARARGS, \"Adds two long numbers and returns long\" },\n",
        "  { \"sub\", sub, METH_VARARGS, \"Substracts two double numbers and returns double\" },\n",
        "  { NULL, NULL, 0, NULL }\n",
        "};\n",
        "\n",
        "static struct PyModuleDef hello = {\n",
        "  PyModuleDef_HEAD_INIT,\n",
        "  \"__name__\",\n",
        "  \"__doc__\",\n",
        "  -1,\n",
        "  methods\n",
        "};\n",
        "\n",
        "PyMODINIT_FUNC\n",
        "PyInit_hello(void)\n",
        "{\n",
        "  PyObject *m;\n",
        "\n",
        "  m = PyModule_Create(&hello);\n",
        "  printf(\"Hello World\\n\");\n",
        "  return m;\n",
        "}\n"
      ],
      "metadata": {
        "colab": {
          "base_uri": "https://localhost:8080/"
        },
        "id": "Tep0SN-lURqw",
        "outputId": "4000078e-af35-419f-a4a0-11a441c6fe13"
      },
      "execution_count": null,
      "outputs": [
        {
          "output_type": "stream",
          "name": "stdout",
          "text": [
            "Overwriting /content/workspace/packages/cpy_package/hello.c\n"
          ]
        }
      ]
    },
    {
      "cell_type": "markdown",
      "source": [
        "### Compile C code and make `hello.c` `GLOBAL`\n"
      ],
      "metadata": {
        "id": "GufISTeBUac5"
      }
    },
    {
      "cell_type": "code",
      "source": [
        "!cd $package_path && \\\n",
        "  rm -rf hello.so && \\\n",
        "  gcc hello.c -shared -o hello.so -I$py_include_path && \\\n",
        "  ls -al\n"
      ],
      "metadata": {
        "colab": {
          "base_uri": "https://localhost:8080/"
        },
        "id": "TyhrcSjQUW8n",
        "outputId": "f93b271c-6979-438f-ce2e-8afaab5fe960"
      },
      "execution_count": null,
      "outputs": [
        {
          "metadata": {
            "tags": null
          },
          "name": "stdout",
          "output_type": "stream",
          "text": [
            "total 28\n",
            "drwxr-xr-x 2 root root  4096 Jul 29 15:15 .\n",
            "drwxr-xr-x 3 root root  4096 Jul 29 15:15 ..\n",
            "-rw-r--r-- 1 root root   821 Jul 29 15:15 hello.c\n",
            "-rwxr-xr-x 1 root root 16200 Jul 29 15:15 hello.so\n"
          ]
        }
      ]
    },
    {
      "cell_type": "markdown",
      "source": [
        "Make `hello` module `GLOBAL`."
      ],
      "metadata": {
        "id": "pqim0e2OUiVS"
      }
    },
    {
      "cell_type": "code",
      "source": [
        "# check whether function is defined as GLOBAL in .so file.\n",
        "# PyInit_hello should be global\n",
        "\n",
        "!cd $package_path && \\\n",
        "    readelf hello.so -s | grep GLOBAL"
      ],
      "metadata": {
        "colab": {
          "base_uri": "https://localhost:8080/"
        },
        "id": "MvqCs6XsUnQW",
        "outputId": "cad837db-1341-4925-f023-cd80e997005f"
      },
      "execution_count": null,
      "outputs": [
        {
          "metadata": {
            "tags": null
          },
          "name": "stdout",
          "output_type": "stream",
          "text": [
            "     2: 0000000000000000     0 FUNC    GLOBAL DEFAULT  UND puts@GLIBC_2.2.5 (2)\n",
            "     3: 0000000000000000     0 FUNC    GLOBAL DEFAULT  UND __[...]@GLIBC_2.4 (3)\n",
            "     4: 0000000000000000     0 NOTYPE  GLOBAL DEFAULT  UND PyFloat_FromDouble\n",
            "     5: 0000000000000000     0 NOTYPE  GLOBAL DEFAULT  UND PyLong_FromLong\n",
            "     7: 0000000000000000     0 NOTYPE  GLOBAL DEFAULT  UND PyModule_Create2\n",
            "     8: 0000000000000000     0 NOTYPE  GLOBAL DEFAULT  UND _PyArg_ParseTupl[...]\n",
            "    11: 00000000000011b9   107 FUNC    GLOBAL DEFAULT   14 add\n",
            "    12: 000000000000129a    57 FUNC    GLOBAL DEFAULT   14 PyInit_hello\n",
            "    13: 0000000000001224   118 FUNC    GLOBAL DEFAULT   14 sub\n",
            "    20: 0000000000004000     0 OBJECT  LOCAL  DEFAULT   23 _GLOBAL_OFFSET_TABLE_\n",
            "    23: 00000000000011b9   107 FUNC    GLOBAL DEFAULT   14 add\n",
            "    24: 0000000000000000     0 FUNC    GLOBAL DEFAULT  UND puts@GLIBC_2.2.5\n",
            "    25: 0000000000000000     0 FUNC    GLOBAL DEFAULT  UND __stack_chk_fail[...]\n",
            "    26: 0000000000000000     0 NOTYPE  GLOBAL DEFAULT  UND PyFloat_FromDouble\n",
            "    27: 0000000000000000     0 NOTYPE  GLOBAL DEFAULT  UND PyLong_FromLong\n",
            "    29: 0000000000000000     0 NOTYPE  GLOBAL DEFAULT  UND PyModule_Create2\n",
            "    30: 0000000000000000     0 NOTYPE  GLOBAL DEFAULT  UND _PyArg_ParseTupl[...]\n",
            "    31: 000000000000129a    57 FUNC    GLOBAL DEFAULT   14 PyInit_hello\n",
            "    33: 0000000000001224   118 FUNC    GLOBAL DEFAULT   14 sub\n"
          ]
        }
      ]
    },
    {
      "cell_type": "markdown",
      "source": [
        "### Python Example1: import hello into varible\n"
      ],
      "metadata": {
        "id": "STBE7sTpW68m"
      }
    },
    {
      "cell_type": "markdown",
      "source": [
        "#### Write python Code into variable"
      ],
      "metadata": {
        "id": "SOTvJtbSUywF"
      }
    },
    {
      "cell_type": "code",
      "source": [
        "\n",
        "\"\"\"\n",
        "importing hello.so directly gives error that the export function is not defined.\n",
        "Hence the python code is running with python command throught subprocess.run\n",
        "\"\"\"\n",
        "\n",
        "import subprocess\n",
        "# os.chdir(package_path)\n",
        "# print(os.getcwd())\n",
        "# print(os.listdir('.'))\n",
        "\n",
        "# import workspace.packages.cpy_package.hello\n",
        "# !python -c \"import hello; print(hello.add(5, 6))\"\n",
        "python_cpy_test_code = \"from workspace.packages.cpy_package import hello;\"\n",
        "python_cpy_test_code += \"hello_add = hello.add(5, 6);\"\n",
        "python_cpy_test_code += \"hello_add = hello.add(5, 6);\"\n",
        "python_cpy_test_code += \"print(f'5 + 6 = {hello_add}');\"\n",
        "python_cpy_test_code += \"hello_sub = hello.sub(7.5, 6);\"\n",
        "python_cpy_test_code += \"print(f'7.5 - 6 = {hello_sub}')\"\n"
      ],
      "metadata": {
        "id": "IGc2z4I2Ur6H"
      },
      "execution_count": null,
      "outputs": []
    },
    {
      "cell_type": "markdown",
      "source": [
        "Run Python Code"
      ],
      "metadata": {
        "id": "RHSEUJ6PU10f"
      }
    },
    {
      "cell_type": "code",
      "source": [
        "\n",
        "# python_cpy_test_code = str(python_cpy_test_code)\n",
        "# !echo ${python_cpy_test_code}\n",
        "# cmd = [\"python\", \"-c\", \"from workspace.packages.cpy_package import hello;\"]\n",
        "cmd = [\"python\", \"-c\", python_cpy_test_code]\n",
        "result = subprocess.run(cmd,\n",
        "               capture_output=True,\n",
        "               shell = False,\n",
        "               timeout = 40,\n",
        "               check = True)\n",
        "print(result.stdout.decode())\n",
        "if result.stderr:\n",
        "  print(result.stderr.decode())\n",
        "# os.chdir('/content')"
      ],
      "metadata": {
        "colab": {
          "base_uri": "https://localhost:8080/"
        },
        "id": "1FKm9Z7vU3XD",
        "outputId": "0ee8781e-efcf-4f9f-b24d-74c52020a64e"
      },
      "execution_count": null,
      "outputs": [
        {
          "metadata": {
            "tags": null
          },
          "name": "stdout",
          "output_type": "stream",
          "text": [
            "5 + 6 = 11\n",
            "7.5 - 6 = 1.5\n",
            "Hello World\n",
            "\n"
          ]
        }
      ]
    },
    {
      "cell_type": "markdown",
      "source": [
        "### Python Example1: import hello in colab\n",
        "\n",
        "\n",
        "Using `hello` method in Colab"
      ],
      "metadata": {
        "id": "rn4wkDq4WNRN"
      }
    },
    {
      "cell_type": "code",
      "source": [
        "from workspace.packages.cpy_package import hello, run\n",
        "\n",
        "print(f\"5 - 3: {hello.sub(5, 3)}\")\n",
        "print(f\"5 + 3: {hello.add(5, 3)}\")\n",
        "hello.add(2,3)\n",
        "\n",
        "# bash command\n",
        "!ngspice -b rc.cir\n",
        "\n",
        "#\n",
        "run('rc.cir')"
      ],
      "metadata": {
        "colab": {
          "base_uri": "https://localhost:8080/"
        },
        "id": "aGV_GTNeWMmC",
        "outputId": "e3d3db0b-def1-4a53-9080-b3871c55bd22"
      },
      "execution_count": null,
      "outputs": [
        {
          "metadata": {
            "tags": null
          },
          "name": "stdout",
          "output_type": "stream",
          "text": [
            "5 - 3: 2.0\n",
            "5 + 3: 8\n"
          ]
        },
        {
          "data": {
            "text/plain": [
              "5"
            ]
          },
          "execution_count": 18,
          "metadata": {},
          "output_type": "execute_result"
        }
      ]
    },
    {
      "cell_type": "markdown",
      "source": [
        "### Python Example1: import hello into a python file\n"
      ],
      "metadata": {
        "id": "1PLKZ3xvXRlo"
      }
    },
    {
      "cell_type": "code",
      "source": [
        "%%writefile /content/workspace/hello_python.py\n",
        "\n",
        "# add packages path (workspace) and import the module in the path\n",
        "import sys\n",
        "# sys.path.append('/content/workspace/packages/cpy_package')\n",
        "sys.path.append('/content/workspace')\n",
        "\n",
        "from packages.cpy_package import hello\n",
        "\n",
        "if __name__ == '__main__':\n",
        "  print(f\"5 - 3: {hello.sub(5, 3)}\")\n",
        "  print(f\"5 + 3: {hello.add(5, 3)}\")\n"
      ],
      "metadata": {
        "colab": {
          "base_uri": "https://localhost:8080/"
        },
        "id": "TArq0cT_XT7A",
        "outputId": "1f268e49-3cdd-46a0-a47b-fb3a73c79ab0"
      },
      "execution_count": null,
      "outputs": [
        {
          "metadata": {
            "tags": null
          },
          "name": "stdout",
          "output_type": "stream",
          "text": [
            "Writing /content/workspace/hello_python.py\n"
          ]
        }
      ]
    },
    {
      "cell_type": "code",
      "source": [
        "!python /content/workspace/hello_python.py"
      ],
      "metadata": {
        "colab": {
          "base_uri": "https://localhost:8080/"
        },
        "id": "JURmzKm6Xgah",
        "outputId": "60e876d1-8567-49dd-d997-601134d4e78d"
      },
      "execution_count": null,
      "outputs": [
        {
          "metadata": {
            "tags": null
          },
          "name": "stdout",
          "output_type": "stream",
          "text": [
            "Hello World\n",
            "5 - 3: 2.0\n",
            "5 + 3: 8\n"
          ]
        }
      ]
    },
    {
      "cell_type": "markdown",
      "source": [
        "## PyBind11"
      ],
      "metadata": {
        "id": "2Auc443MTGAS"
      }
    },
    {
      "cell_type": "markdown",
      "source": [
        "### References\n",
        "\n",
        "PyBind11\n",
        "\n",
        "- [Youtube/Facile Tutorials: Using C++ in python with pybind11 and cmake](https://youtu.be/H2wOlriHGmM?si=UWfPZdK0TgPmKhl1)\n",
        "- [Youtube/NDC Conference: Integrate Python and C++ with pybind11 - Robert Smallshire](https://youtu.be/YReJ3pSnNDo?si=PjE6QuJaihRoyLyS)\n",
        "-"
      ],
      "metadata": {
        "id": "HSK-SkXQTDNr"
      }
    }
  ]
}