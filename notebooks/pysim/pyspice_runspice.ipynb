{
  "nbformat": 4,
  "nbformat_minor": 0,
  "metadata": {
    "colab": {
      "provenance": [],
      "toc_visible": true,
      "authorship_tag": "ABX9TyNSWL4rsnIEITNU6ZhGJnfG",
      "include_colab_link": true
    },
    "kernelspec": {
      "name": "python3",
      "display_name": "Python 3"
    },
    "language_info": {
      "name": "python"
    }
  },
  "cells": [
    {
      "cell_type": "markdown",
      "metadata": {
        "id": "view-in-github",
        "colab_type": "text"
      },
      "source": [
        "<a href=\"https://colab.research.google.com/github/venkataratnamb20/quicksilicon/blob/notebooks/notebooks/pysim/pyspice_runspice.ipynb\" target=\"_parent\"><img src=\"https://colab.research.google.com/assets/colab-badge.svg\" alt=\"Open In Colab\"/></a>"
      ]
    },
    {
      "cell_type": "markdown",
      "source": [
        "# PySpice\n"
      ],
      "metadata": {
        "id": "uxfRvHshKMrE"
      }
    },
    {
      "cell_type": "markdown",
      "source": [
        "## Refs\n",
        "\n",
        "- [ubuntu](https://manpages.ubuntu.com/manpages/noble/man1/ngspice.1.html)\n",
        "- [archlinux](https://man.archlinux.org/man/ngspice.1.en)\n",
        "- [gitlab](https://nmg.gitlab.io/ngspice-manual/startingngspice/servermodeoption-s.html)\n",
        "- [ngspice.sourceforge](https://ngspice.sourceforge.io/tutorials.html)\n",
        "- [ngspice.sourceforge: tutorial](https://ngspice.sourceforge.io/ngspice-control-language-tutorial.html)\n",
        "- [ngspice.sourceforge: manual](https://ngspice.sourceforge.io/docs/ngspice-manual.pdf)\n"
      ],
      "metadata": {
        "id": "aBdWXk3Xgjgz"
      }
    },
    {
      "cell_type": "markdown",
      "source": [
        "## Setup\n"
      ],
      "metadata": {
        "id": "R-HydccwKrOz"
      }
    },
    {
      "cell_type": "code",
      "execution_count": 1,
      "metadata": {
        "colab": {
          "base_uri": "https://localhost:8080/"
        },
        "id": "O0HpWVHYKG9W",
        "outputId": "77e4b245-a29e-4038-ec86-be8768ae7df5"
      },
      "outputs": [
        {
          "output_type": "stream",
          "name": "stdout",
          "text": [
            "total 16\n",
            "Returned the following return code: 0\n",
            "drwxr-xr-x 1 root root 4096 Jan  9 14:24 .\n",
            "\n",
            "drwxr-xr-x 1 root root 4096 Jan 13 05:25 ..\n",
            "\n",
            "drwxr-xr-x 4 root root 4096 Jan  9 14:24 .config\n",
            "\n",
            "drwxr-xr-x 1 root root 4096 Jan  9 14:24 sample_data\n",
            "\n"
          ]
        }
      ],
      "source": [
        "import sys\n",
        "import subprocess\n",
        "\n",
        "\n",
        "def run_shell_stream(cmd: str):\n",
        "    try:\n",
        "        process = subprocess.Popen(cmd,\n",
        "                                stdout = subprocess.PIPE,\n",
        "                                stderr = subprocess.PIPE,\n",
        "                                text = True,\n",
        "                                shell = True)\n",
        "    except:\n",
        "        print(f'Failed to run command: {cmd}')\n",
        "        print(f\"Error: {sys.exc_info()}\")\n",
        "        return\n",
        "\n",
        "    while True:\n",
        "        output_err = ''\n",
        "        output = ''\n",
        "        if process.stderr is not None:\n",
        "            output_err = process.stderr.readline().strip()\n",
        "        if output_err != '':\n",
        "            print(output_err)\n",
        "        if process.stdout is not None:\n",
        "            output = process.stdout.readline().strip()\n",
        "        if output != '':\n",
        "            print(output)\n",
        "\n",
        "        return_code = process.poll()\n",
        "        if return_code is not None:\n",
        "            print(f'Returned the following return code: {return_code}')\n",
        "            for std_output in process.stdout.readlines():\n",
        "                print(std_output)\n",
        "            for std_err in process.stderr.readlines():\n",
        "                print(std_err)\n",
        "            break\n",
        "\n",
        "cmd = 'ls -al'\n",
        "# cmd = \"apt install python3-venv\"\n",
        "run_shell_stream(cmd)\n",
        "\n"
      ]
    },
    {
      "cell_type": "code",
      "source": [
        "run_shell_stream(\"ngspice -v || apt install ngspice\")"
      ],
      "metadata": {
        "colab": {
          "base_uri": "https://localhost:8080/"
        },
        "id": "z9-kTInDKcju",
        "outputId": "2ff95803-accd-4470-cae0-1d631b708adf"
      },
      "execution_count": 2,
      "outputs": [
        {
          "output_type": "stream",
          "name": "stdout",
          "text": [
            "/bin/sh: 1: ngspice: not found\n",
            "Reading package lists...\n",
            "Building dependency tree...\n",
            "WARNING: apt does not have a stable CLI interface. Use with caution in scripts.\n",
            "Reading state information...\n",
            "Suggested packages:\n",
            "ngspice-doc\n",
            "Returned the following return code: 0\n",
            "The following NEW packages will be installed:\n",
            "\n",
            "  ngspice\n",
            "\n",
            "0 upgraded, 1 newly installed, 0 to remove and 49 not upgraded.\n",
            "\n",
            "Need to get 2,352 kB of archives.\n",
            "\n",
            "After this operation, 7,972 kB of additional disk space will be used.\n",
            "\n",
            "Get:1 http://archive.ubuntu.com/ubuntu jammy-updates/universe amd64 ngspice amd64 36+ds-1ubuntu0.1 [2,352 kB]\n",
            "\n",
            "Fetched 2,352 kB in 0s (9,248 kB/s)\n",
            "\n",
            "Selecting previously unselected package ngspice.\n",
            "\n",
            "(Reading database ... \n",
            "\n",
            "(Reading database ... 5%\n",
            "\n",
            "(Reading database ... 10%\n",
            "\n",
            "(Reading database ... 15%\n",
            "\n",
            "(Reading database ... 20%\n",
            "\n",
            "(Reading database ... 25%\n",
            "\n",
            "(Reading database ... 30%\n",
            "\n",
            "(Reading database ... 35%\n",
            "\n",
            "(Reading database ... 40%\n",
            "\n",
            "(Reading database ... 45%\n",
            "\n",
            "(Reading database ... 50%\n",
            "\n",
            "(Reading database ... 55%\n",
            "\n",
            "(Reading database ... 60%\n",
            "\n",
            "(Reading database ... 65%\n",
            "\n",
            "(Reading database ... 70%\n",
            "\n",
            "(Reading database ... 75%\n",
            "\n",
            "(Reading database ... 80%\n",
            "\n",
            "(Reading database ... 85%\n",
            "\n",
            "(Reading database ... 90%\n",
            "\n",
            "(Reading database ... 95%\n",
            "\n",
            "(Reading database ... 100%\n",
            "\n",
            "(Reading database ... 123632 files and directories currently installed.)\n",
            "\n",
            "Preparing to unpack .../ngspice_36+ds-1ubuntu0.1_amd64.deb ...\n",
            "\n",
            "Unpacking ngspice (36+ds-1ubuntu0.1) ...\n",
            "\n",
            "Setting up ngspice (36+ds-1ubuntu0.1) ...\n",
            "\n",
            "Processing triggers for man-db (2.10.2-1) ...\n",
            "\n"
          ]
        }
      ]
    },
    {
      "cell_type": "markdown",
      "source": [
        "## Examples"
      ],
      "metadata": {
        "id": "50zL3h5sUVwg"
      }
    },
    {
      "cell_type": "markdown",
      "source": [
        "## RC Circuit\n"
      ],
      "metadata": {
        "id": "Vg532kzkUYb2"
      }
    },
    {
      "cell_type": "code",
      "source": [
        "%%script ngspice -s -o pyspice.log\n",
        "\n",
        "* test -s\n",
        "v1 vin 0 1\n",
        "r1 vin vout 2k\n",
        "r2 vout 0 2k\n",
        "c2 vout 0 1p\n",
        ".options filetype=ascii\n",
        ".save i(v1) v(vin) v(vout)\n",
        ".dc v1 -1 1 0.05\n",
        "\n",
        ".CONTROL\n",
        "    save all\n",
        "    run                                         ; run * the .tran command\n",
        "    * set xbrushwidth=2                           ; set linewidth of graph\n",
        "    * plot v(in) v(out)                           ; plot the simulation results\n",
        "    set wr_singlescale            ; for wrdata: write the scale only once\n",
        "    set wr_vecnames               ; for wrdata: write the vector names\n",
        "    option numdgt = 3             ; for wrdata: 3 digits after decimal point\n",
        "    wrdata $inputdir/threeloopsac.txt $writestr  ; write ac output v(10) into file for all runs\n",
        "    rusage                        ; list some resource usage\n",
        "    * write $inputdir/simout.out v(vin) v(vout)     ; write the results to a file\n",
        "    wrdata simout.csv v(vin) v(vout)     ; write the results to a file\n",
        ".ENDC\n",
        ".end\n",
        "\n",
        "\n"
      ],
      "metadata": {
        "colab": {
          "base_uri": "https://localhost:8080/"
        },
        "id": "hpTInlGfKzxf",
        "outputId": "43be2cb1-7c57-44b9-abc7-b27168e5e0fe"
      },
      "execution_count": 3,
      "outputs": [
        {
          "output_type": "stream",
          "name": "stdout",
          "text": [
            "******\n",
            "** ngspice-36 : Circuit level simulation program\n",
            "** The U. C. Berkeley CAD Group\n",
            "** Copyright 1985-1994, Regents of the University of California.\n",
            "** Copyright 2001-2020, The ngspice team.\n",
            "** Please get your ngspice manual from http://ngspice.sourceforge.net/docs.html\n",
            "** Please file your bug-reports at http://ngspice.sourceforge.net/bugrep.html\n",
            "** Creation Date: Mon Mar 11 21:44:53 UTC 2024\n",
            "******\n",
            "\n",
            "Server mode\n",
            "\n",
            "Comments and warnings go to log-file: pyspice.log\n",
            "\n"
          ]
        }
      ]
    },
    {
      "cell_type": "code",
      "source": [
        "import os\n",
        "\n",
        "import pandas as pd\n",
        "\n",
        "from enum import Enum\n",
        "\n",
        "class AnalysisIndex(Enum):\n",
        "    DC = 'v-sweep'\n",
        "    AC = 'frequency'\n",
        "    TRAN = 'time'\n",
        "\n",
        "# def read_data_dc(filename: os.PathLike, analysis: str = 'tran'):\n",
        "#     result = pd.read_csv(filename, sep='\\s+', skip_blank_lines=True)\n",
        "#     if analysis == 'tran':\n",
        "#         result.set_index(\"time\", inplace=True)\n",
        "#     elif analysis == 'ac':\n",
        "#         result.set_index(\"f\", inplace=True)\n",
        "#     else:\n",
        "#         result.set_index(\"v-sweep\", inplace=True)\n",
        "#     return result\n",
        "\n",
        "def read_data(filename: os.PathLike, analysis: str = 'tran'):\n",
        "    result = pd.read_csv(filename, sep='\\s+', skip_blank_lines=True)\n",
        "    # get index col name from Enum\n",
        "    index_col = AnalysisIndex.__members__[analysis.upper()].value\n",
        "    # index_col = AnalysisIndex.__members__.get(analysis.upper(), AnalysisIndex.DC).value\n",
        "    result.set_index(index_col, inplace=True)\n",
        "    return result\n",
        "result = read_data(\"simout.csv\", analysis='dc')\n",
        "result.head()"
      ],
      "metadata": {
        "colab": {
          "base_uri": "https://localhost:8080/",
          "height": 237
        },
        "id": "MIB0XwLZNAcD",
        "outputId": "41c4fe39-c1e0-4ba1-8e35-314bc3e7931c"
      },
      "execution_count": 15,
      "outputs": [
        {
          "output_type": "execute_result",
          "data": {
            "text/plain": [
              "         v(vin)  v(vout)\n",
              "v-sweep                 \n",
              "-1.00     -1.00   -0.500\n",
              "-0.95     -0.95   -0.475\n",
              "-0.90     -0.90   -0.450\n",
              "-0.85     -0.85   -0.425\n",
              "-0.80     -0.80   -0.400"
            ],
            "text/html": [
              "\n",
              "  <div id=\"df-416ef27b-7618-4d82-824f-0014805f68b4\" class=\"colab-df-container\">\n",
              "    <div>\n",
              "<style scoped>\n",
              "    .dataframe tbody tr th:only-of-type {\n",
              "        vertical-align: middle;\n",
              "    }\n",
              "\n",
              "    .dataframe tbody tr th {\n",
              "        vertical-align: top;\n",
              "    }\n",
              "\n",
              "    .dataframe thead th {\n",
              "        text-align: right;\n",
              "    }\n",
              "</style>\n",
              "<table border=\"1\" class=\"dataframe\">\n",
              "  <thead>\n",
              "    <tr style=\"text-align: right;\">\n",
              "      <th></th>\n",
              "      <th>v(vin)</th>\n",
              "      <th>v(vout)</th>\n",
              "    </tr>\n",
              "    <tr>\n",
              "      <th>v-sweep</th>\n",
              "      <th></th>\n",
              "      <th></th>\n",
              "    </tr>\n",
              "  </thead>\n",
              "  <tbody>\n",
              "    <tr>\n",
              "      <th>-1.00</th>\n",
              "      <td>-1.00</td>\n",
              "      <td>-0.500</td>\n",
              "    </tr>\n",
              "    <tr>\n",
              "      <th>-0.95</th>\n",
              "      <td>-0.95</td>\n",
              "      <td>-0.475</td>\n",
              "    </tr>\n",
              "    <tr>\n",
              "      <th>-0.90</th>\n",
              "      <td>-0.90</td>\n",
              "      <td>-0.450</td>\n",
              "    </tr>\n",
              "    <tr>\n",
              "      <th>-0.85</th>\n",
              "      <td>-0.85</td>\n",
              "      <td>-0.425</td>\n",
              "    </tr>\n",
              "    <tr>\n",
              "      <th>-0.80</th>\n",
              "      <td>-0.80</td>\n",
              "      <td>-0.400</td>\n",
              "    </tr>\n",
              "  </tbody>\n",
              "</table>\n",
              "</div>\n",
              "    <div class=\"colab-df-buttons\">\n",
              "\n",
              "  <div class=\"colab-df-container\">\n",
              "    <button class=\"colab-df-convert\" onclick=\"convertToInteractive('df-416ef27b-7618-4d82-824f-0014805f68b4')\"\n",
              "            title=\"Convert this dataframe to an interactive table.\"\n",
              "            style=\"display:none;\">\n",
              "\n",
              "  <svg xmlns=\"http://www.w3.org/2000/svg\" height=\"24px\" viewBox=\"0 -960 960 960\">\n",
              "    <path d=\"M120-120v-720h720v720H120Zm60-500h600v-160H180v160Zm220 220h160v-160H400v160Zm0 220h160v-160H400v160ZM180-400h160v-160H180v160Zm440 0h160v-160H620v160ZM180-180h160v-160H180v160Zm440 0h160v-160H620v160Z\"/>\n",
              "  </svg>\n",
              "    </button>\n",
              "\n",
              "  <style>\n",
              "    .colab-df-container {\n",
              "      display:flex;\n",
              "      gap: 12px;\n",
              "    }\n",
              "\n",
              "    .colab-df-convert {\n",
              "      background-color: #E8F0FE;\n",
              "      border: none;\n",
              "      border-radius: 50%;\n",
              "      cursor: pointer;\n",
              "      display: none;\n",
              "      fill: #1967D2;\n",
              "      height: 32px;\n",
              "      padding: 0 0 0 0;\n",
              "      width: 32px;\n",
              "    }\n",
              "\n",
              "    .colab-df-convert:hover {\n",
              "      background-color: #E2EBFA;\n",
              "      box-shadow: 0px 1px 2px rgba(60, 64, 67, 0.3), 0px 1px 3px 1px rgba(60, 64, 67, 0.15);\n",
              "      fill: #174EA6;\n",
              "    }\n",
              "\n",
              "    .colab-df-buttons div {\n",
              "      margin-bottom: 4px;\n",
              "    }\n",
              "\n",
              "    [theme=dark] .colab-df-convert {\n",
              "      background-color: #3B4455;\n",
              "      fill: #D2E3FC;\n",
              "    }\n",
              "\n",
              "    [theme=dark] .colab-df-convert:hover {\n",
              "      background-color: #434B5C;\n",
              "      box-shadow: 0px 1px 3px 1px rgba(0, 0, 0, 0.15);\n",
              "      filter: drop-shadow(0px 1px 2px rgba(0, 0, 0, 0.3));\n",
              "      fill: #FFFFFF;\n",
              "    }\n",
              "  </style>\n",
              "\n",
              "    <script>\n",
              "      const buttonEl =\n",
              "        document.querySelector('#df-416ef27b-7618-4d82-824f-0014805f68b4 button.colab-df-convert');\n",
              "      buttonEl.style.display =\n",
              "        google.colab.kernel.accessAllowed ? 'block' : 'none';\n",
              "\n",
              "      async function convertToInteractive(key) {\n",
              "        const element = document.querySelector('#df-416ef27b-7618-4d82-824f-0014805f68b4');\n",
              "        const dataTable =\n",
              "          await google.colab.kernel.invokeFunction('convertToInteractive',\n",
              "                                                    [key], {});\n",
              "        if (!dataTable) return;\n",
              "\n",
              "        const docLinkHtml = 'Like what you see? Visit the ' +\n",
              "          '<a target=\"_blank\" href=https://colab.research.google.com/notebooks/data_table.ipynb>data table notebook</a>'\n",
              "          + ' to learn more about interactive tables.';\n",
              "        element.innerHTML = '';\n",
              "        dataTable['output_type'] = 'display_data';\n",
              "        await google.colab.output.renderOutput(dataTable, element);\n",
              "        const docLink = document.createElement('div');\n",
              "        docLink.innerHTML = docLinkHtml;\n",
              "        element.appendChild(docLink);\n",
              "      }\n",
              "    </script>\n",
              "  </div>\n",
              "\n",
              "\n",
              "<div id=\"df-05bd4b8c-298a-49b7-b6d8-d84c3eafc293\">\n",
              "  <button class=\"colab-df-quickchart\" onclick=\"quickchart('df-05bd4b8c-298a-49b7-b6d8-d84c3eafc293')\"\n",
              "            title=\"Suggest charts\"\n",
              "            style=\"display:none;\">\n",
              "\n",
              "<svg xmlns=\"http://www.w3.org/2000/svg\" height=\"24px\"viewBox=\"0 0 24 24\"\n",
              "     width=\"24px\">\n",
              "    <g>\n",
              "        <path d=\"M19 3H5c-1.1 0-2 .9-2 2v14c0 1.1.9 2 2 2h14c1.1 0 2-.9 2-2V5c0-1.1-.9-2-2-2zM9 17H7v-7h2v7zm4 0h-2V7h2v10zm4 0h-2v-4h2v4z\"/>\n",
              "    </g>\n",
              "</svg>\n",
              "  </button>\n",
              "\n",
              "<style>\n",
              "  .colab-df-quickchart {\n",
              "      --bg-color: #E8F0FE;\n",
              "      --fill-color: #1967D2;\n",
              "      --hover-bg-color: #E2EBFA;\n",
              "      --hover-fill-color: #174EA6;\n",
              "      --disabled-fill-color: #AAA;\n",
              "      --disabled-bg-color: #DDD;\n",
              "  }\n",
              "\n",
              "  [theme=dark] .colab-df-quickchart {\n",
              "      --bg-color: #3B4455;\n",
              "      --fill-color: #D2E3FC;\n",
              "      --hover-bg-color: #434B5C;\n",
              "      --hover-fill-color: #FFFFFF;\n",
              "      --disabled-bg-color: #3B4455;\n",
              "      --disabled-fill-color: #666;\n",
              "  }\n",
              "\n",
              "  .colab-df-quickchart {\n",
              "    background-color: var(--bg-color);\n",
              "    border: none;\n",
              "    border-radius: 50%;\n",
              "    cursor: pointer;\n",
              "    display: none;\n",
              "    fill: var(--fill-color);\n",
              "    height: 32px;\n",
              "    padding: 0;\n",
              "    width: 32px;\n",
              "  }\n",
              "\n",
              "  .colab-df-quickchart:hover {\n",
              "    background-color: var(--hover-bg-color);\n",
              "    box-shadow: 0 1px 2px rgba(60, 64, 67, 0.3), 0 1px 3px 1px rgba(60, 64, 67, 0.15);\n",
              "    fill: var(--button-hover-fill-color);\n",
              "  }\n",
              "\n",
              "  .colab-df-quickchart-complete:disabled,\n",
              "  .colab-df-quickchart-complete:disabled:hover {\n",
              "    background-color: var(--disabled-bg-color);\n",
              "    fill: var(--disabled-fill-color);\n",
              "    box-shadow: none;\n",
              "  }\n",
              "\n",
              "  .colab-df-spinner {\n",
              "    border: 2px solid var(--fill-color);\n",
              "    border-color: transparent;\n",
              "    border-bottom-color: var(--fill-color);\n",
              "    animation:\n",
              "      spin 1s steps(1) infinite;\n",
              "  }\n",
              "\n",
              "  @keyframes spin {\n",
              "    0% {\n",
              "      border-color: transparent;\n",
              "      border-bottom-color: var(--fill-color);\n",
              "      border-left-color: var(--fill-color);\n",
              "    }\n",
              "    20% {\n",
              "      border-color: transparent;\n",
              "      border-left-color: var(--fill-color);\n",
              "      border-top-color: var(--fill-color);\n",
              "    }\n",
              "    30% {\n",
              "      border-color: transparent;\n",
              "      border-left-color: var(--fill-color);\n",
              "      border-top-color: var(--fill-color);\n",
              "      border-right-color: var(--fill-color);\n",
              "    }\n",
              "    40% {\n",
              "      border-color: transparent;\n",
              "      border-right-color: var(--fill-color);\n",
              "      border-top-color: var(--fill-color);\n",
              "    }\n",
              "    60% {\n",
              "      border-color: transparent;\n",
              "      border-right-color: var(--fill-color);\n",
              "    }\n",
              "    80% {\n",
              "      border-color: transparent;\n",
              "      border-right-color: var(--fill-color);\n",
              "      border-bottom-color: var(--fill-color);\n",
              "    }\n",
              "    90% {\n",
              "      border-color: transparent;\n",
              "      border-bottom-color: var(--fill-color);\n",
              "    }\n",
              "  }\n",
              "</style>\n",
              "\n",
              "  <script>\n",
              "    async function quickchart(key) {\n",
              "      const quickchartButtonEl =\n",
              "        document.querySelector('#' + key + ' button');\n",
              "      quickchartButtonEl.disabled = true;  // To prevent multiple clicks.\n",
              "      quickchartButtonEl.classList.add('colab-df-spinner');\n",
              "      try {\n",
              "        const charts = await google.colab.kernel.invokeFunction(\n",
              "            'suggestCharts', [key], {});\n",
              "      } catch (error) {\n",
              "        console.error('Error during call to suggestCharts:', error);\n",
              "      }\n",
              "      quickchartButtonEl.classList.remove('colab-df-spinner');\n",
              "      quickchartButtonEl.classList.add('colab-df-quickchart-complete');\n",
              "    }\n",
              "    (() => {\n",
              "      let quickchartButtonEl =\n",
              "        document.querySelector('#df-05bd4b8c-298a-49b7-b6d8-d84c3eafc293 button');\n",
              "      quickchartButtonEl.style.display =\n",
              "        google.colab.kernel.accessAllowed ? 'block' : 'none';\n",
              "    })();\n",
              "  </script>\n",
              "</div>\n",
              "\n",
              "    </div>\n",
              "  </div>\n"
            ],
            "application/vnd.google.colaboratory.intrinsic+json": {
              "type": "dataframe",
              "variable_name": "result",
              "summary": "{\n  \"name\": \"result\",\n  \"rows\": 41,\n  \"fields\": [\n    {\n      \"column\": \"v-sweep\",\n      \"properties\": {\n        \"dtype\": \"number\",\n        \"std\": 0.5989574275355469,\n        \"min\": -1.0,\n        \"max\": 1.0,\n        \"num_unique_values\": 41,\n        \"samples\": [\n          0.2,\n          -0.35,\n          -0.6\n        ],\n        \"semantic_type\": \"\",\n        \"description\": \"\"\n      }\n    },\n    {\n      \"column\": \"v(vin)\",\n      \"properties\": {\n        \"dtype\": \"number\",\n        \"std\": 0.5989574275355469,\n        \"min\": -1.0,\n        \"max\": 1.0,\n        \"num_unique_values\": 41,\n        \"samples\": [\n          0.2,\n          -0.35,\n          -0.6\n        ],\n        \"semantic_type\": \"\",\n        \"description\": \"\"\n      }\n    },\n    {\n      \"column\": \"v(vout)\",\n      \"properties\": {\n        \"dtype\": \"number\",\n        \"std\": 0.29947871376777346,\n        \"min\": -0.5,\n        \"max\": 0.5,\n        \"num_unique_values\": 41,\n        \"samples\": [\n          0.1,\n          -0.175,\n          -0.3\n        ],\n        \"semantic_type\": \"\",\n        \"description\": \"\"\n      }\n    }\n  ]\n}"
            }
          },
          "metadata": {},
          "execution_count": 15
        }
      ]
    },
    {
      "cell_type": "code",
      "source": [
        "AnalysisIndex.__members__['DC'].value\n",
        "AnalysisIndex.__members__.get('DC', AnalysisIndex.DC).value"
      ],
      "metadata": {
        "colab": {
          "base_uri": "https://localhost:8080/",
          "height": 35
        },
        "id": "OyGwWaKacgfZ",
        "outputId": "b191b0bc-6f89-4312-dea6-292540f8ef7a"
      },
      "execution_count": 5,
      "outputs": [
        {
          "output_type": "execute_result",
          "data": {
            "text/plain": [
              "'v-sweep'"
            ],
            "application/vnd.google.colaboratory.intrinsic+json": {
              "type": "string"
            }
          },
          "metadata": {},
          "execution_count": 5
        }
      ]
    },
    {
      "cell_type": "code",
      "source": [
        "result.plot()"
      ],
      "metadata": {
        "colab": {
          "base_uri": "https://localhost:8080/",
          "height": 466
        },
        "id": "oldZjoqARwy5",
        "outputId": "742db32a-4b33-4ada-8a87-0a0466bfe14d"
      },
      "execution_count": 6,
      "outputs": [
        {
          "output_type": "execute_result",
          "data": {
            "text/plain": [
              "<Axes: xlabel='v-sweep'>"
            ]
          },
          "metadata": {},
          "execution_count": 6
        },
        {
          "output_type": "display_data",
          "data": {
            "text/plain": [
              "<Figure size 640x480 with 1 Axes>"
            ],
            "image/png": "[encoded data removed]"
          },
          "metadata": {}
        }
      ]
    },
    {
      "cell_type": "code",
      "source": [],
      "metadata": {
        "id": "OgvKfw0dSIUX"
      },
      "execution_count": 6,
      "outputs": []
    },
    {
      "cell_type": "markdown",
      "source": [
        "## RC LPF"
      ],
      "metadata": {
        "id": "9ODSVyKLY7NG"
      }
    },
    {
      "cell_type": "markdown",
      "source": [
        "### Sub Circuit\n"
      ],
      "metadata": {
        "id": "erCg75nAY9PZ"
      }
    },
    {
      "cell_type": "code",
      "source": [
        "%%writefile rc_lpf.cir\n",
        "\n",
        "\n",
        "* RC Filter\n",
        ".SUBCKT rclpf VIN VOUT r1=2k r2=2k c2=1p\n",
        "    r1 VIN VOUT {r1}\n",
        "    r2 VOUT 0 {r2}\n",
        "    c2 VOUT 0 {c2}\n",
        ".ENDS rclpf"
      ],
      "metadata": {
        "colab": {
          "base_uri": "https://localhost:8080/"
        },
        "id": "8yaNtF-QVFPY",
        "outputId": "a164f9ae-56d4-4652-ae91-aa098808980e"
      },
      "execution_count": 7,
      "outputs": [
        {
          "output_type": "stream",
          "name": "stdout",
          "text": [
            "Writing rc_lpf.cir\n"
          ]
        }
      ]
    },
    {
      "cell_type": "markdown",
      "source": [
        "### DC Sweep\n"
      ],
      "metadata": {
        "id": "D7rGrQmaY_U1"
      }
    },
    {
      "cell_type": "code",
      "source": [
        "%%script ngspice -s -o pyspice_dcsweep.log\n",
        "\n",
        "* test -s\n",
        ".INCLUDE rc_lpf.cir\n",
        "v1 vin 0 1\n",
        "Xrclpf1 vin vout rclpf\n",
        ".options filetype=ascii\n",
        ".save i(v1) v(vin) v(vout)\n",
        ".dc v1 -1 1 0.05\n",
        "\n",
        ".CONTROL\n",
        "    save all\n",
        "    run                                         ; run * the .tran command\n",
        "    * set xbrushwidth=2                           ; set linewidth of graph\n",
        "    * plot v(in) v(out)                           ; plot the simulation results\n",
        "    set wr_singlescale            ; for wrdata: write the scale only once\n",
        "    set wr_vecnames               ; for wrdata: write the vector names\n",
        "    option numdgt = 3             ; for wrdata: 3 digits after decimal point\n",
        "    wrdata $inputdir/threeloopsac.txt $writestr  ; write ac output v(10) into file for all runs\n",
        "    rusage                        ; list some resource usage\n",
        "    * write $inputdir/simout.out v(vin) v(vout)     ; write the results to a file\n",
        "    wrdata rclpf_dcsweep.csv v(vin) v(vout)     ; write the results to a file\n",
        ".ENDC\n",
        ".end\n",
        "\n",
        "\n"
      ],
      "metadata": {
        "colab": {
          "base_uri": "https://localhost:8080/"
        },
        "id": "gYWhAu59WDIV",
        "outputId": "539977c0-7734-4d39-a841-97d1934d598b"
      },
      "execution_count": 8,
      "outputs": [
        {
          "output_type": "stream",
          "name": "stdout",
          "text": [
            "******\n",
            "** ngspice-36 : Circuit level simulation program\n",
            "** The U. C. Berkeley CAD Group\n",
            "** Copyright 1985-1994, Regents of the University of California.\n",
            "** Copyright 2001-2020, The ngspice team.\n",
            "** Please get your ngspice manual from http://ngspice.sourceforge.net/docs.html\n",
            "** Please file your bug-reports at http://ngspice.sourceforge.net/bugrep.html\n",
            "** Creation Date: Mon Mar 11 21:44:53 UTC 2024\n",
            "******\n",
            "\n",
            "Server mode\n",
            "\n",
            "Comments and warnings go to log-file: pyspice_dcsweep.log\n",
            "\n"
          ]
        }
      ]
    },
    {
      "cell_type": "code",
      "source": [
        "read_data(\"rclpf_dcsweep.csv\", \"dc\").plot()"
      ],
      "metadata": {
        "colab": {
          "base_uri": "https://localhost:8080/",
          "height": 466
        },
        "id": "zRn0JDd_WQHE",
        "outputId": "846c4d6d-da7a-4afe-f8c6-972aca85bc2f"
      },
      "execution_count": 16,
      "outputs": [
        {
          "output_type": "execute_result",
          "data": {
            "text/plain": [
              "<Axes: xlabel='v-sweep'>"
            ]
          },
          "metadata": {},
          "execution_count": 16
        },
        {
          "output_type": "display_data",
          "data": {
            "text/plain": [
              "<Figure size 640x480 with 1 Axes>"
            ],
            "image/png": "[encoded data removed]"
          },
          "metadata": {}
        }
      ]
    },
    {
      "cell_type": "markdown",
      "source": [
        "### Transient\n"
      ],
      "metadata": {
        "id": "1x7KVvwkZKMp"
      }
    },
    {
      "cell_type": "code",
      "source": [
        "%%script ngspice -s -o pyspice_tran.log\n",
        "\n",
        "* test -s\n",
        ".INCLUDE rc_lpf.cir\n",
        "V1 vin 0 dc 0 pulse (0 2 50n 2n 2n 50n 100n)\n",
        "Xrclpf1 vin vout rclpf c2=10p\n",
        ".options filetype=ascii\n",
        ".save i(v1) v(vin) v(vout)\n",
        "*.dc v1 -1 1 0.05\n",
        ".tran 100p 210n\n",
        "\n",
        ".CONTROL\n",
        "    save all\n",
        "    run                                         ; run * the .tran command\n",
        "    * set xbrushwidth=2                           ; set linewidth of graph\n",
        "    * plot v(in) v(out)                           ; plot the simulation results\n",
        "    set wr_singlescale            ; for wrdata: write the scale only once\n",
        "    set wr_vecnames               ; for wrdata: write the vector names\n",
        "    option numdgt = 3             ; for wrdata: 3 digits after decimal point\n",
        "    wrdata $inputdir/threeloopsac.txt $writestr  ; write ac output v(10) into file for all runs\n",
        "    rusage                        ; list some resource usage\n",
        "    * write $inputdir/simout.out v(vin) v(vout)     ; write the results to a file\n",
        "    wrdata rclpf_tran.csv v(vin) v(vout)     ; write the results to a file\n",
        ".ENDC\n",
        ".end\n",
        "\n",
        "\n"
      ],
      "metadata": {
        "colab": {
          "base_uri": "https://localhost:8080/"
        },
        "id": "qRd93GDpXZhY",
        "outputId": "e06fa2ce-8f71-474a-ca60-96f18e8e2ec0"
      },
      "execution_count": 10,
      "outputs": [
        {
          "output_type": "stream",
          "name": "stdout",
          "text": [
            "******\n",
            "** ngspice-36 : Circuit level simulation program\n",
            "** The U. C. Berkeley CAD Group\n",
            "** Copyright 1985-1994, Regents of the University of California.\n",
            "** Copyright 2001-2020, The ngspice team.\n",
            "** Please get your ngspice manual from http://ngspice.sourceforge.net/docs.html\n",
            "** Please file your bug-reports at http://ngspice.sourceforge.net/bugrep.html\n",
            "** Creation Date: Mon Mar 11 21:44:53 UTC 2024\n",
            "******\n",
            "\n",
            "Server mode\n",
            "\n",
            "Comments and warnings go to log-file: pyspice_tran.log\n",
            "\n"
          ]
        }
      ]
    },
    {
      "cell_type": "code",
      "source": [
        "read_data(\"rclpf_tran.csv\", analysis='tran').plot()"
      ],
      "metadata": {
        "colab": {
          "base_uri": "https://localhost:8080/",
          "height": 466
        },
        "id": "BdDb3WltZyn7",
        "outputId": "3e6c43d6-8e67-46e2-a073-4dcd2436e1c7"
      },
      "execution_count": 17,
      "outputs": [
        {
          "output_type": "execute_result",
          "data": {
            "text/plain": [
              "<Axes: xlabel='time'>"
            ]
          },
          "metadata": {},
          "execution_count": 17
        },
        {
          "output_type": "display_data",
          "data": {
            "text/plain": [
              "<Figure size 640x480 with 1 Axes>"
            ],
            "image/png": "[encoded data removed]"
          },
          "metadata": {}
        }
      ]
    },
    {
      "cell_type": "markdown",
      "source": [
        "### AC\n"
      ],
      "metadata": {
        "id": "SliGmNzeeDnP"
      }
    },
    {
      "cell_type": "code",
      "source": [
        "%%script ngspice -s -o pyspice_tran.log\n",
        "\n",
        "* test -s\n",
        ".INCLUDE rc_lpf.cir\n",
        "V1 vin 0 dc 0 ac 1  pulse (0 2 50n 2n 2n 50n 100n)\n",
        "Xrclpf1 vin vout rclpf c2=10p\n",
        ".options filetype=ascii\n",
        ".save i(v1) v(vin) v(vout)\n",
        "*.dc v1 -1 1 0.05\n",
        "* .tran 100p 210n\n",
        ".ac dec 10 10m 100e6\n",
        "\n",
        ".CONTROL\n",
        "    save all\n",
        "    run                                         ; run * the .tran command\n",
        "    * set xbrushwidth=2                           ; set linewidth of graph\n",
        "    * plot v(in) v(out)                           ; plot the simulation results\n",
        "    set wr_singlescale            ; for wrdata: write the scale only once\n",
        "    set wr_vecnames               ; for wrdata: write the vector names\n",
        "    option numdgt = 20             ; for wrdata: 3 digits after decimal point\n",
        "    wrdata $inputdir/threeloopsac.txt $writestr  ; write ac output v(10) into file for all runs\n",
        "    rusage                        ; list some resource usage\n",
        "    * write $inputdir/simout.out v(vin) v(vout)     ; write the results to a file\n",
        "    wrdata rclpf_ac.csv v(vin) v(vout)     ; write the results to a file\n",
        ".ENDC\n",
        ".end\n",
        "\n",
        "\n"
      ],
      "metadata": {
        "colab": {
          "base_uri": "https://localhost:8080/"
        },
        "id": "opdo2DWrZ1gR",
        "outputId": "c3960fe5-24a8-4eed-d28b-2a8564c81cb9"
      },
      "execution_count": 12,
      "outputs": [
        {
          "output_type": "stream",
          "name": "stdout",
          "text": [
            "******\n",
            "** ngspice-36 : Circuit level simulation program\n",
            "** The U. C. Berkeley CAD Group\n",
            "** Copyright 1985-1994, Regents of the University of California.\n",
            "** Copyright 2001-2020, The ngspice team.\n",
            "** Please get your ngspice manual from http://ngspice.sourceforge.net/docs.html\n",
            "** Please file your bug-reports at http://ngspice.sourceforge.net/bugrep.html\n",
            "** Creation Date: Mon Mar 11 21:44:53 UTC 2024\n",
            "******\n",
            "\n",
            "Server mode\n",
            "\n",
            "Comments and warnings go to log-file: pyspice_tran.log\n",
            "\n"
          ]
        }
      ]
    },
    {
      "cell_type": "code",
      "source": [
        "read_data(\"rclpf_ac.csv\", analysis=\"AC\")['v(vout)'].plot(grid=True)"
      ],
      "metadata": {
        "colab": {
          "base_uri": "https://localhost:8080/",
          "height": 466
        },
        "id": "Kjegx7G8eb55",
        "outputId": "e1dd40ae-d122-47bc-9d4f-f3b738bcd1a1"
      },
      "execution_count": 18,
      "outputs": [
        {
          "output_type": "execute_result",
          "data": {
            "text/plain": [
              "<Axes: xlabel='frequency'>"
            ]
          },
          "metadata": {},
          "execution_count": 18
        },
        {
          "output_type": "display_data",
          "data": {
            "text/plain": [
              "<Figure size 640x480 with 1 Axes>"
            ],
            "image/png": "[encoded data removed]"
          },
          "metadata": {}
        }
      ]
    },
    {
      "cell_type": "markdown",
      "source": [
        "# Appendix\n"
      ],
      "metadata": {
        "id": "RQIMFVC6eSaQ"
      }
    },
    {
      "cell_type": "markdown",
      "source": [
        "## Multiple simulations in single run\n"
      ],
      "metadata": {
        "id": "ZSbl0aJfeUM1"
      }
    },
    {
      "cell_type": "code",
      "source": [
        "%%script ngspice -s -o pyspice.log\n",
        "\n",
        "* file inv-example2.cir\n",
        "\n",
        "* the power supply 2.0 V\n",
        "Vcc cc 0 2\n",
        "\n",
        "* the input signal for dc and tran simulation\n",
        "Vin in 0 dc 0 pulse (0 2 95n 2n 2n 90n 180n)\n",
        "\n",
        "* the circuit\n",
        "Mn1 out in 0 0 nm W=2u L=0.18u\n",
        "Mp1 out in cc cc pm W=4u L=0.18u\n",
        "\n",
        "* model and model parameters (we use the built-in default parameters for BSIM4)\n",
        ".model nm nmos level=14 version=4.8.1\n",
        ".model pm pmos level=14 version=4.8.1\n",
        "\n",
        "* control language script\n",
        ".control\n",
        "tran 100p 500n               ; simulation command 1\n",
        "set xbrushwidth=2\n",
        "* plot v(in) v(out)\n",
        "write $inputdir/outtran.out v(in) v(out)\n",
        "reset\n",
        "dc vin 0 2 0.01              ; simulation command 2\n",
        "* plot v(out)                  ; v(in) not required because it is the x axis already\n",
        "write $inputdir/outdc.out v(out)\n",
        ".endc\n",
        ".end"
      ],
      "metadata": {
        "colab": {
          "base_uri": "https://localhost:8080/"
        },
        "id": "EMcOSuYUeTkp",
        "outputId": "43e38608-9c6e-4082-b097-a529191c145f"
      },
      "execution_count": 14,
      "outputs": [
        {
          "output_type": "stream",
          "name": "stdout",
          "text": [
            "******\n",
            "** ngspice-36 : Circuit level simulation program\n",
            "** The U. C. Berkeley CAD Group\n",
            "** Copyright 1985-1994, Regents of the University of California.\n",
            "** Copyright 2001-2020, The ngspice team.\n",
            "** Please get your ngspice manual from http://ngspice.sourceforge.net/docs.html\n",
            "** Please file your bug-reports at http://ngspice.sourceforge.net/bugrep.html\n",
            "** Creation Date: Mon Mar 11 21:44:53 UTC 2024\n",
            "******\n",
            "\n",
            "Server mode\n",
            "\n",
            "Comments and warnings go to log-file: pyspice.log\n",
            "\n"
          ]
        }
      ]
    },
    {
      "cell_type": "code",
      "source": [],
      "metadata": {
        "id": "7b7fc9ZZfcuL"
      },
      "execution_count": 14,
      "outputs": []
    }
  ]
}