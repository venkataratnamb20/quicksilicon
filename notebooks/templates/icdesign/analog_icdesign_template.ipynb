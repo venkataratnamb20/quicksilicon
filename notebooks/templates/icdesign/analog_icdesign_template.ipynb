{
  "nbformat": 4,
  "nbformat_minor": 0,
  "metadata": {
    "colab": {
      "provenance": [],
      "toc_visible": true,
      "authorship_tag": "ABX9TyO5R1F1+haLApSINT+9kLZF",
      "include_colab_link": true
    },
    "kernelspec": {
      "name": "python3",
      "display_name": "Python 3"
    },
    "language_info": {
      "name": "python"
    }
  },
  "cells": [
    {
      "cell_type": "markdown",
      "metadata": {
        "id": "view-in-github",
        "colab_type": "text"
      },
      "source": [
        "<a href=\"https://colab.research.google.com/github/venkataratnamb20/quicksilicon/blob/notebooks/notebooks/templates/icdesign/analog_icdesign_template.ipynb\" target=\"_parent\"><img src=\"https://colab.research.google.com/assets/colab-badge.svg\" alt=\"Open In Colab\"/></a>"
      ]
    },
    {
      "cell_type": "markdown",
      "source": [
        "# IC Design"
      ],
      "metadata": {
        "id": "BB1I_VmILOp1"
      }
    },
    {
      "cell_type": "markdown",
      "source": [
        "## Setup"
      ],
      "metadata": {
        "id": "KkypwdORMKhj"
      }
    },
    {
      "cell_type": "markdown",
      "source": [
        "### Project Directory"
      ],
      "metadata": {
        "id": "NX0fU4LnPwNy"
      }
    },
    {
      "cell_type": "code",
      "source": [
        "from pathlib import Path\n",
        "\n",
        "PROJ_DIR = \"./projects\"\n",
        "\n",
        "PROJ_DIR = Path(PROJ_DIR)\n",
        "PROJ_DIR.mkdir(exist_ok=True)"
      ],
      "metadata": {
        "id": "hvc_uouFPycc"
      },
      "execution_count": 7,
      "outputs": []
    },
    {
      "cell_type": "markdown",
      "source": [
        "### Install ngspice"
      ],
      "metadata": {
        "id": "O4AnxDMDMMIE"
      }
    },
    {
      "cell_type": "code",
      "execution_count": 2,
      "metadata": {
        "colab": {
          "base_uri": "https://localhost:8080/"
        },
        "id": "AshmgpyxLE9E",
        "outputId": "965579bb-81b0-4d68-fd78-69da92dce9d6"
      },
      "outputs": [
        {
          "output_type": "stream",
          "name": "stdout",
          "text": [
            "******\n",
            "** ngspice-36 : Circuit level simulation program\n",
            "** The U. C. Berkeley CAD Group\n",
            "** Copyright 1985-1994, Regents of the University of California.\n",
            "** Copyright 2001-2020, The ngspice team.\n",
            "** Please get your ngspice manual from http://ngspice.sourceforge.net/docs.html\n",
            "** Please file your bug-reports at http://ngspice.sourceforge.net/bugrep.html\n",
            "** Creation Date: Mon Mar 11 21:44:53 UTC 2024\n",
            "******\n"
          ]
        }
      ],
      "source": [
        "!ngspice -v || apt install ngspice"
      ]
    },
    {
      "cell_type": "markdown",
      "source": [
        "### Download Sky130"
      ],
      "metadata": {
        "id": "tlpOPdZiMmdg"
      }
    },
    {
      "cell_type": "code",
      "source": [
        "# get sky130\n",
        "\n",
        "import os\n",
        "if not os.path.exists('skywater-pdk-libs-sky130_fd_pr'):\n",
        "    # spice models\n",
        "    !git clone https://github.com/google/skywater-pdk-libs-sky130_fd_pr.git\n",
        "\n",
        "if not os.path.exists('skywater-pdk-libs-sky130_fd_sc_hd'):\n",
        "    # standardcell definitions\n",
        "    !git clone https://github.com/google/skywater-pdk-libs-sky130_fd_sc_hd.git\n"
      ],
      "metadata": {
        "colab": {
          "base_uri": "https://localhost:8080/"
        },
        "id": "RULifQ9YMosR",
        "outputId": "35e98f1c-0a6b-4d90-dafb-8e7131f955b0"
      },
      "execution_count": 3,
      "outputs": [
        {
          "output_type": "stream",
          "name": "stdout",
          "text": [
            "Cloning into 'skywater-pdk-libs-sky130_fd_pr'...\n",
            "remote: Enumerating objects: 5594, done.\u001b[K\n",
            "remote: Counting objects: 100% (1704/1704), done.\u001b[K\n",
            "remote: Compressing objects: 100% (188/188), done.\u001b[K\n",
            "remote: Total 5594 (delta 1558), reused 1516 (delta 1516), pack-reused 3890 (from 1)\u001b[K\n",
            "Receiving objects: 100% (5594/5594), 111.43 MiB | 15.59 MiB/s, done.\n",
            "Resolving deltas: 100% (4833/4833), done.\n",
            "Updating files: 100% (3820/3820), done.\n",
            "Cloning into 'skywater-pdk-libs-sky130_fd_sc_hd'...\n",
            "remote: Enumerating objects: 41249, done.\u001b[K\n",
            "remote: Total 41249 (delta 0), reused 0 (delta 0), pack-reused 41249 (from 1)\u001b[K\n",
            "Receiving objects: 100% (41249/41249), 211.86 MiB | 18.80 MiB/s, done.\n",
            "Resolving deltas: 100% (38730/38730), done.\n",
            "Updating files: 100% (13114/13114), done.\n"
          ]
        }
      ]
    },
    {
      "cell_type": "markdown",
      "source": [
        "### ngspice initialization\n",
        "\n"
      ],
      "metadata": {
        "id": "8wMaSSr8NzCo"
      }
    },
    {
      "cell_type": "code",
      "source": [
        "%%writefile .spiceinit\n",
        "\n",
        "\n",
        "set ngbehavior=hsa\n",
        "set ng_nomodcheck\n"
      ],
      "metadata": {
        "colab": {
          "base_uri": "https://localhost:8080/"
        },
        "id": "QmWkfMwYN3C3",
        "outputId": "e5cc4a4b-0354-4a80-a639-6a60973c6165"
      },
      "execution_count": 4,
      "outputs": [
        {
          "output_type": "stream",
          "name": "stdout",
          "text": [
            "Writing .spiceinit\n"
          ]
        }
      ]
    },
    {
      "cell_type": "markdown",
      "source": [
        "### Read and plot simulation data with Python"
      ],
      "metadata": {
        "id": "A4KC62LBOIpI"
      }
    },
    {
      "cell_type": "code",
      "source": [
        "\n",
        "# read and plot data with python\n",
        "import os\n",
        "\n",
        "import pandas as pd\n",
        "import numpy as np\n",
        "import matplotlib.pyplot as plt\n",
        "\n",
        "def plot_tran_data(tran_df,\n",
        "                   plot_voltages: bool = True,\n",
        "                   plot_currents: bool = False,\n",
        "                   plot_all: bool = False\n",
        "                   ):\n",
        "    \"\"\"Plot transient data\n",
        "\n",
        "    Args:\n",
        "        tran_df (pd.DataFrame): transient data\n",
        "\n",
        "    Returns:\n",
        "        None\n",
        "\n",
        "    Examples:\n",
        "        >> plot_tran_data(tran_df)\n",
        "    \"\"\"\n",
        "    if plot_voltages:\n",
        "        voltage_cols = [col for col in tran_df.columns if col.lower().startswith(\"v(\")]\n",
        "        tran_df[voltage_cols].plot(subplots=True, figsize=(10, 4))\n",
        "        plt.title('Voltages')\n",
        "        plt.show()\n",
        "    elif plot_currents:\n",
        "        current_cols = [col for col in tran_df.columns if col.lower().startswith(\"@\")]\n",
        "        tran_df[current_cols].plot(subplots=True, figsize=(10, 4))\n",
        "        plt.title('Currents')\n",
        "        plt.show()\n",
        "    elif plot_all:\n",
        "        tran_df.plot(subplots=True, figsize=(12, 8))\n",
        "        plt.title('Voltages and Currents')\n",
        "        plt.show()\n",
        "    else:\n",
        "        print(\"No plots selected!\")\n",
        "\n",
        "def read_tran_data(filename: os.PathLike,\n",
        "                   plot_voltages: bool = True,\n",
        "                   plot_currents: bool = False,\n",
        "                   plot_all: bool = False):\n",
        "    \"\"\"Read Transient Data in csv format\n",
        "\n",
        "\n",
        "    \"\"\"\n",
        "\n",
        "    data = pd.read_csv(filename, delim_whitespace = True, skip_blank_lines=True )\n",
        "    data = data.set_index('time')\n",
        "    plot_tran_data(data, plot_voltages, plot_currents, plot_all)\n",
        "\n",
        "    return data\n",
        "\n"
      ],
      "metadata": {
        "id": "zBYySXyqOOzm"
      },
      "execution_count": 39,
      "outputs": []
    },
    {
      "cell_type": "markdown",
      "source": [
        "## KCL and KVL"
      ],
      "metadata": {
        "id": "WsE3W-kzLRUe"
      }
    },
    {
      "cell_type": "code",
      "source": [],
      "metadata": {
        "id": "Ui72D_ZHNVs1"
      },
      "execution_count": null,
      "outputs": []
    },
    {
      "cell_type": "markdown",
      "source": [
        "### KCL"
      ],
      "metadata": {
        "id": "cU0nEG2eLVro"
      }
    },
    {
      "cell_type": "code",
      "source": [],
      "metadata": {
        "id": "2cXsDecYLUz6"
      },
      "execution_count": null,
      "outputs": []
    },
    {
      "cell_type": "markdown",
      "source": [
        "### KVL"
      ],
      "metadata": {
        "id": "f-9Ce3AtLYRZ"
      }
    },
    {
      "cell_type": "code",
      "source": [],
      "metadata": {
        "id": "g4rUbvFDLZC6"
      },
      "execution_count": null,
      "outputs": []
    },
    {
      "cell_type": "markdown",
      "source": [
        "Examples"
      ],
      "metadata": {
        "id": "30m6X53TLZt7"
      }
    },
    {
      "cell_type": "code",
      "source": [],
      "metadata": {
        "id": "C6bukYlJLa37"
      },
      "execution_count": null,
      "outputs": []
    },
    {
      "cell_type": "markdown",
      "source": [
        "## Nodal and Mesh Analysis\n"
      ],
      "metadata": {
        "id": "Z3z_FeQvLb5e"
      }
    },
    {
      "cell_type": "code",
      "source": [],
      "metadata": {
        "id": "JW4ImELALfC9"
      },
      "execution_count": null,
      "outputs": []
    },
    {
      "cell_type": "markdown",
      "source": [
        "### Nodal Analysis\n"
      ],
      "metadata": {
        "id": "nGi6fA5DLfkI"
      }
    },
    {
      "cell_type": "code",
      "source": [],
      "metadata": {
        "id": "hXa9lWd9LhBm"
      },
      "execution_count": null,
      "outputs": []
    },
    {
      "cell_type": "markdown",
      "source": [
        "### Mesh Analysis\n"
      ],
      "metadata": {
        "id": "qDB5bEuELhh4"
      }
    },
    {
      "cell_type": "code",
      "source": [],
      "metadata": {
        "id": "OgKtSZhDLi24"
      },
      "execution_count": null,
      "outputs": []
    },
    {
      "cell_type": "markdown",
      "source": [
        "### Examples"
      ],
      "metadata": {
        "id": "F4uMSho-LkQa"
      }
    },
    {
      "cell_type": "code",
      "source": [],
      "metadata": {
        "id": "037fOBvLLlOF"
      },
      "execution_count": null,
      "outputs": []
    },
    {
      "cell_type": "markdown",
      "source": [
        "## Theorems\n",
        "\n",
        "**Discuss All Network Theorems, you know**\n"
      ],
      "metadata": {
        "id": "nMt1QmWELm2o"
      }
    },
    {
      "cell_type": "code",
      "source": [],
      "metadata": {
        "id": "K88FGdhcLowN"
      },
      "execution_count": null,
      "outputs": []
    },
    {
      "cell_type": "markdown",
      "source": [
        "\n",
        "- Thevinen's Theorem\n",
        "- Norton's Theorem\n",
        "- Maximum Power Theorem.\n",
        ""
      ],
      "metadata": {
        "id": "6jc0DxD3LpUN"
      }
    },
    {
      "cell_type": "markdown",
      "source": [
        "### Thevinen's Theorem"
      ],
      "metadata": {
        "id": "RuZWOpA3L8wT"
      }
    },
    {
      "cell_type": "code",
      "source": [],
      "metadata": {
        "id": "ztxo4G6-L1LQ"
      },
      "execution_count": null,
      "outputs": []
    },
    {
      "cell_type": "markdown",
      "source": [
        "### Norton's Theorem\n"
      ],
      "metadata": {
        "id": "czcrLlAqL_RB"
      }
    },
    {
      "cell_type": "code",
      "source": [],
      "metadata": {
        "id": "BXb0K3a5MBj1"
      },
      "execution_count": null,
      "outputs": []
    },
    {
      "cell_type": "markdown",
      "source": [
        "### Maximum Power Transfer Theorem\n"
      ],
      "metadata": {
        "id": "PtYc7RLgMB4N"
      }
    },
    {
      "cell_type": "code",
      "source": [],
      "metadata": {
        "id": "E_JqL7TgMHri"
      },
      "execution_count": null,
      "outputs": []
    },
    {
      "cell_type": "markdown",
      "source": [
        "### Examples\n",
        "\n",
        "**Examples for each topic**\n"
      ],
      "metadata": {
        "id": "JwttDG74L15h"
      }
    },
    {
      "cell_type": "code",
      "source": [],
      "metadata": {
        "id": "sAM6GhjAMJeF"
      },
      "execution_count": null,
      "outputs": []
    },
    {
      "cell_type": "markdown",
      "source": [
        "## RC Circuits"
      ],
      "metadata": {
        "id": "Sn2vl8lbWgbE"
      }
    },
    {
      "cell_type": "markdown",
      "source": [
        "### RC: : 1st Order"
      ],
      "metadata": {
        "id": "Eiz-pQFOWq2x"
      }
    },
    {
      "cell_type": "code",
      "source": [],
      "metadata": {
        "id": "aWf9NlhRWjzH"
      },
      "execution_count": null,
      "outputs": []
    },
    {
      "cell_type": "markdown",
      "source": [
        "### RC: 2nd Order"
      ],
      "metadata": {
        "id": "fAgws8vdWkNZ"
      }
    },
    {
      "cell_type": "code",
      "source": [],
      "metadata": {
        "id": "s0TCDvh8Wn1i"
      },
      "execution_count": null,
      "outputs": []
    },
    {
      "cell_type": "markdown",
      "source": [
        "# Appendix\n"
      ],
      "metadata": {
        "id": "jXz0ouQaNaYO"
      }
    },
    {
      "cell_type": "markdown",
      "source": [
        "## Basic Circuits"
      ],
      "metadata": {
        "id": "Lo5F-EtkPgLh"
      }
    },
    {
      "cell_type": "markdown",
      "source": [
        "### RC Circuit"
      ],
      "metadata": {
        "id": "g_oy-WrjPlVN"
      }
    },
    {
      "cell_type": "markdown",
      "source": [
        "#### Netlist"
      ],
      "metadata": {
        "id": "5yHuqiMjQZ32"
      }
    },
    {
      "cell_type": "code",
      "source": [
        "rcfilter_dir = PROJ_DIR / \"rcfilter\"\n",
        "rcfilter_dir.mkdir(exist_ok=True)"
      ],
      "metadata": {
        "id": "PzaW8b9KQHlh"
      },
      "execution_count": 8,
      "outputs": []
    },
    {
      "cell_type": "code",
      "source": [
        "%%writefile \"$PROJ_DIR/rcfilter/rc_tb.cir\"\n",
        "\n",
        "* RC LPF\n",
        "*** Schemtic\n",
        ".TITLE RC LPF\n",
        "R1 vin vout 1M\n",
        "R2 vout 0 1M\n",
        "C2 vout 0 1p\n",
        "* V1 <term1> <term2> DC 0 PULSE (<LOW_VOLTAGE> <HIGH_VOLTAGE> <TD> <TR> <TF> <PW> <PERIOD>)\n",
        "V1 vin 0 DC 0 PULSE (0V 1.8V 1ns 10ps 10ps 1ns 2ns)\n",
        "\n",
        "*** Control\n",
        ".CONTROL\n",
        "tran 10p 4n\n",
        "option noinit\n",
        "set wr_singlescale\n",
        "set wr_vecnames\n",
        "save all\n",
        "save @r1[i] @r2[i]\n",
        "save @c2[i]\n",
        "run\n",
        "wrdata rc_tb.csv V(vin) V(vout) @r1[i] @r2[i] @c2[i]\n",
        ".ENDC\n",
        ".END\n"
      ],
      "metadata": {
        "colab": {
          "base_uri": "https://localhost:8080/"
        },
        "id": "HpuVrC04NbkU",
        "outputId": "d578c0a4-0f86-4c21-f9a5-22ecd38283e4"
      },
      "execution_count": 13,
      "outputs": [
        {
          "output_type": "stream",
          "name": "stdout",
          "text": [
            "Overwriting projects/rcfilter/rc_tb.cir\n"
          ]
        }
      ]
    },
    {
      "cell_type": "markdown",
      "source": [
        "#### Run sim"
      ],
      "metadata": {
        "id": "7HXexczvQVci"
      }
    },
    {
      "cell_type": "code",
      "source": [
        "# run sim\n",
        "\n",
        "!cd \"$PROJ_DIR/rcfilter/\" && ngspice -b rc_tb.cir\n"
      ],
      "metadata": {
        "colab": {
          "base_uri": "https://localhost:8080/"
        },
        "id": "etG6kMC2QYs4",
        "outputId": "a36dfb79-e0bf-43fb-e33a-baac957385dd"
      },
      "execution_count": 14,
      "outputs": [
        {
          "output_type": "stream",
          "name": "stdout",
          "text": [
            "\n",
            "No compatibility mode selected!\n",
            "\n",
            "\n",
            "Circuit: RC LPF\n",
            "\n",
            "Doing analysis at TEMP = 27.000000 and TNOM = 27.000000\n",
            "\n",
            "\n",
            "Initial Transient Solution\n",
            "--------------------------\n",
            "\n",
            "Node                                   Voltage\n",
            "----                                   -------\n",
            "vin                                          0\n",
            "vout                                         0\n",
            "v1#branch                                    0\n",
            "\n",
            "\n",
            "No. of Data Rows : 441\n",
            "Doing analysis at TEMP = 27.000000 and TNOM = 27.000000\n",
            "\n",
            "Note: No \".plot\", \".print\", or \".fourier\" lines; no simulations run\n"
          ]
        }
      ]
    },
    {
      "cell_type": "markdown",
      "source": [
        "#### Read and Plot Time"
      ],
      "metadata": {
        "id": "H9lO0sFPRRaA"
      }
    },
    {
      "cell_type": "code",
      "source": [
        "rc_df = read_tran_data(PROJ_DIR / \"rcfilter/rc_tb.csv\", plot_all=True)\n",
        "\n",
        "rc_df"
      ],
      "metadata": {
        "colab": {
          "base_uri": "https://localhost:8080/",
          "height": 826
        },
        "id": "WIGya7scRTMB",
        "outputId": "e1086dd1-68d8-40b7-bc59-54e1503e1616"
      },
      "execution_count": 40,
      "outputs": [
        {
          "output_type": "display_data",
          "data": {
            "text/plain": [
              "<Figure size 1000x400 with 2 Axes>"
            ],
            "image/png": "[encoded data removed]"
          },
          "metadata": {}
        },
        {
          "output_type": "execute_result",
          "data": {
            "text/plain": [
              "              v(vin)  v(vout)  @r1[i]  @r2[i]  @c2[i]\n",
              "time                                                 \n",
              "0.000000e+00     0.0      0.0     0.0     0.0     0.0\n",
              "1.000000e-13     0.0      0.0     0.0     0.0     0.0\n",
              "2.000000e-13     0.0      0.0     0.0     0.0     0.0\n",
              "4.000000e-13     0.0      0.0     0.0     0.0     0.0\n",
              "8.000000e-13     0.0      0.0     0.0     0.0     0.0\n",
              "...              ...      ...     ...     ...     ...\n",
              "3.964190e-09     1.8      0.9     0.0     0.0     0.0\n",
              "3.974190e-09     1.8      0.9     0.0     0.0     0.0\n",
              "3.984190e-09     1.8      0.9     0.0     0.0     0.0\n",
              "3.994190e-09     1.8      0.9     0.0     0.0     0.0\n",
              "4.000000e-09     1.8      0.9     0.0     0.0     0.0\n",
              "\n",
              "[441 rows x 5 columns]"
            ],
            "text/html": [
              "\n",
              "  <div id=\"df-7a0e703f-341a-457e-8265-42f2d2128eb0\" class=\"colab-df-container\">\n",
              "    <div>\n",
              "<style scoped>\n",
              "    .dataframe tbody tr th:only-of-type {\n",
              "        vertical-align: middle;\n",
              "    }\n",
              "\n",
              "    .dataframe tbody tr th {\n",
              "        vertical-align: top;\n",
              "    }\n",
              "\n",
              "    .dataframe thead th {\n",
              "        text-align: right;\n",
              "    }\n",
              "</style>\n",
              "<table border=\"1\" class=\"dataframe\">\n",
              "  <thead>\n",
              "    <tr style=\"text-align: right;\">\n",
              "      <th></th>\n",
              "      <th>v(vin)</th>\n",
              "      <th>v(vout)</th>\n",
              "      <th>@r1[i]</th>\n",
              "      <th>@r2[i]</th>\n",
              "      <th>@c2[i]</th>\n",
              "    </tr>\n",
              "    <tr>\n",
              "      <th>time</th>\n",
              "      <th></th>\n",
              "      <th></th>\n",
              "      <th></th>\n",
              "      <th></th>\n",
              "      <th></th>\n",
              "    </tr>\n",
              "  </thead>\n",
              "  <tbody>\n",
              "    <tr>\n",
              "      <th>0.000000e+00</th>\n",
              "      <td>0.0</td>\n",
              "      <td>0.0</td>\n",
              "      <td>0.0</td>\n",
              "      <td>0.0</td>\n",
              "      <td>0.0</td>\n",
              "    </tr>\n",
              "    <tr>\n",
              "      <th>1.000000e-13</th>\n",
              "      <td>0.0</td>\n",
              "      <td>0.0</td>\n",
              "      <td>0.0</td>\n",
              "      <td>0.0</td>\n",
              "      <td>0.0</td>\n",
              "    </tr>\n",
              "    <tr>\n",
              "      <th>2.000000e-13</th>\n",
              "      <td>0.0</td>\n",
              "      <td>0.0</td>\n",
              "      <td>0.0</td>\n",
              "      <td>0.0</td>\n",
              "      <td>0.0</td>\n",
              "    </tr>\n",
              "    <tr>\n",
              "      <th>4.000000e-13</th>\n",
              "      <td>0.0</td>\n",
              "      <td>0.0</td>\n",
              "      <td>0.0</td>\n",
              "      <td>0.0</td>\n",
              "      <td>0.0</td>\n",
              "    </tr>\n",
              "    <tr>\n",
              "      <th>8.000000e-13</th>\n",
              "      <td>0.0</td>\n",
              "      <td>0.0</td>\n",
              "      <td>0.0</td>\n",
              "      <td>0.0</td>\n",
              "      <td>0.0</td>\n",
              "    </tr>\n",
              "    <tr>\n",
              "      <th>...</th>\n",
              "      <td>...</td>\n",
              "      <td>...</td>\n",
              "      <td>...</td>\n",
              "      <td>...</td>\n",
              "      <td>...</td>\n",
              "    </tr>\n",
              "    <tr>\n",
              "      <th>3.964190e-09</th>\n",
              "      <td>1.8</td>\n",
              "      <td>0.9</td>\n",
              "      <td>0.0</td>\n",
              "      <td>0.0</td>\n",
              "      <td>0.0</td>\n",
              "    </tr>\n",
              "    <tr>\n",
              "      <th>3.974190e-09</th>\n",
              "      <td>1.8</td>\n",
              "      <td>0.9</td>\n",
              "      <td>0.0</td>\n",
              "      <td>0.0</td>\n",
              "      <td>0.0</td>\n",
              "    </tr>\n",
              "    <tr>\n",
              "      <th>3.984190e-09</th>\n",
              "      <td>1.8</td>\n",
              "      <td>0.9</td>\n",
              "      <td>0.0</td>\n",
              "      <td>0.0</td>\n",
              "      <td>0.0</td>\n",
              "    </tr>\n",
              "    <tr>\n",
              "      <th>3.994190e-09</th>\n",
              "      <td>1.8</td>\n",
              "      <td>0.9</td>\n",
              "      <td>0.0</td>\n",
              "      <td>0.0</td>\n",
              "      <td>0.0</td>\n",
              "    </tr>\n",
              "    <tr>\n",
              "      <th>4.000000e-09</th>\n",
              "      <td>1.8</td>\n",
              "      <td>0.9</td>\n",
              "      <td>0.0</td>\n",
              "      <td>0.0</td>\n",
              "      <td>0.0</td>\n",
              "    </tr>\n",
              "  </tbody>\n",
              "</table>\n",
              "<p>441 rows × 5 columns</p>\n",
              "</div>\n",
              "    <div class=\"colab-df-buttons\">\n",
              "\n",
              "  <div class=\"colab-df-container\">\n",
              "    <button class=\"colab-df-convert\" onclick=\"convertToInteractive('df-7a0e703f-341a-457e-8265-42f2d2128eb0')\"\n",
              "            title=\"Convert this dataframe to an interactive table.\"\n",
              "            style=\"display:none;\">\n",
              "\n",
              "  <svg xmlns=\"http://www.w3.org/2000/svg\" height=\"24px\" viewBox=\"0 -960 960 960\">\n",
              "    <path d=\"M120-120v-720h720v720H120Zm60-500h600v-160H180v160Zm220 220h160v-160H400v160Zm0 220h160v-160H400v160ZM180-400h160v-160H180v160Zm440 0h160v-160H620v160ZM180-180h160v-160H180v160Zm440 0h160v-160H620v160Z\"/>\n",
              "  </svg>\n",
              "    </button>\n",
              "\n",
              "  <style>\n",
              "    .colab-df-container {\n",
              "      display:flex;\n",
              "      gap: 12px;\n",
              "    }\n",
              "\n",
              "    .colab-df-convert {\n",
              "      background-color: #E8F0FE;\n",
              "      border: none;\n",
              "      border-radius: 50%;\n",
              "      cursor: pointer;\n",
              "      display: none;\n",
              "      fill: #1967D2;\n",
              "      height: 32px;\n",
              "      padding: 0 0 0 0;\n",
              "      width: 32px;\n",
              "    }\n",
              "\n",
              "    .colab-df-convert:hover {\n",
              "      background-color: #E2EBFA;\n",
              "      box-shadow: 0px 1px 2px rgba(60, 64, 67, 0.3), 0px 1px 3px 1px rgba(60, 64, 67, 0.15);\n",
              "      fill: #174EA6;\n",
              "    }\n",
              "\n",
              "    .colab-df-buttons div {\n",
              "      margin-bottom: 4px;\n",
              "    }\n",
              "\n",
              "    [theme=dark] .colab-df-convert {\n",
              "      background-color: #3B4455;\n",
              "      fill: #D2E3FC;\n",
              "    }\n",
              "\n",
              "    [theme=dark] .colab-df-convert:hover {\n",
              "      background-color: #434B5C;\n",
              "      box-shadow: 0px 1px 3px 1px rgba(0, 0, 0, 0.15);\n",
              "      filter: drop-shadow(0px 1px 2px rgba(0, 0, 0, 0.3));\n",
              "      fill: #FFFFFF;\n",
              "    }\n",
              "  </style>\n",
              "\n",
              "    <script>\n",
              "      const buttonEl =\n",
              "        document.querySelector('#df-7a0e703f-341a-457e-8265-42f2d2128eb0 button.colab-df-convert');\n",
              "      buttonEl.style.display =\n",
              "        google.colab.kernel.accessAllowed ? 'block' : 'none';\n",
              "\n",
              "      async function convertToInteractive(key) {\n",
              "        const element = document.querySelector('#df-7a0e703f-341a-457e-8265-42f2d2128eb0');\n",
              "        const dataTable =\n",
              "          await google.colab.kernel.invokeFunction('convertToInteractive',\n",
              "                                                    [key], {});\n",
              "        if (!dataTable) return;\n",
              "\n",
              "        const docLinkHtml = 'Like what you see? Visit the ' +\n",
              "          '<a target=\"_blank\" href=https://colab.research.google.com/notebooks/data_table.ipynb>data table notebook</a>'\n",
              "          + ' to learn more about interactive tables.';\n",
              "        element.innerHTML = '';\n",
              "        dataTable['output_type'] = 'display_data';\n",
              "        await google.colab.output.renderOutput(dataTable, element);\n",
              "        const docLink = document.createElement('div');\n",
              "        docLink.innerHTML = docLinkHtml;\n",
              "        element.appendChild(docLink);\n",
              "      }\n",
              "    </script>\n",
              "  </div>\n",
              "\n",
              "\n",
              "<div id=\"df-c85fb807-0bff-4430-853c-b854191e3723\">\n",
              "  <button class=\"colab-df-quickchart\" onclick=\"quickchart('df-c85fb807-0bff-4430-853c-b854191e3723')\"\n",
              "            title=\"Suggest charts\"\n",
              "            style=\"display:none;\">\n",
              "\n",
              "<svg xmlns=\"http://www.w3.org/2000/svg\" height=\"24px\"viewBox=\"0 0 24 24\"\n",
              "     width=\"24px\">\n",
              "    <g>\n",
              "        <path d=\"M19 3H5c-1.1 0-2 .9-2 2v14c0 1.1.9 2 2 2h14c1.1 0 2-.9 2-2V5c0-1.1-.9-2-2-2zM9 17H7v-7h2v7zm4 0h-2V7h2v10zm4 0h-2v-4h2v4z\"/>\n",
              "    </g>\n",
              "</svg>\n",
              "  </button>\n",
              "\n",
              "<style>\n",
              "  .colab-df-quickchart {\n",
              "      --bg-color: #E8F0FE;\n",
              "      --fill-color: #1967D2;\n",
              "      --hover-bg-color: #E2EBFA;\n",
              "      --hover-fill-color: #174EA6;\n",
              "      --disabled-fill-color: #AAA;\n",
              "      --disabled-bg-color: #DDD;\n",
              "  }\n",
              "\n",
              "  [theme=dark] .colab-df-quickchart {\n",
              "      --bg-color: #3B4455;\n",
              "      --fill-color: #D2E3FC;\n",
              "      --hover-bg-color: #434B5C;\n",
              "      --hover-fill-color: #FFFFFF;\n",
              "      --disabled-bg-color: #3B4455;\n",
              "      --disabled-fill-color: #666;\n",
              "  }\n",
              "\n",
              "  .colab-df-quickchart {\n",
              "    background-color: var(--bg-color);\n",
              "    border: none;\n",
              "    border-radius: 50%;\n",
              "    cursor: pointer;\n",
              "    display: none;\n",
              "    fill: var(--fill-color);\n",
              "    height: 32px;\n",
              "    padding: 0;\n",
              "    width: 32px;\n",
              "  }\n",
              "\n",
              "  .colab-df-quickchart:hover {\n",
              "    background-color: var(--hover-bg-color);\n",
              "    box-shadow: 0 1px 2px rgba(60, 64, 67, 0.3), 0 1px 3px 1px rgba(60, 64, 67, 0.15);\n",
              "    fill: var(--button-hover-fill-color);\n",
              "  }\n",
              "\n",
              "  .colab-df-quickchart-complete:disabled,\n",
              "  .colab-df-quickchart-complete:disabled:hover {\n",
              "    background-color: var(--disabled-bg-color);\n",
              "    fill: var(--disabled-fill-color);\n",
              "    box-shadow: none;\n",
              "  }\n",
              "\n",
              "  .colab-df-spinner {\n",
              "    border: 2px solid var(--fill-color);\n",
              "    border-color: transparent;\n",
              "    border-bottom-color: var(--fill-color);\n",
              "    animation:\n",
              "      spin 1s steps(1) infinite;\n",
              "  }\n",
              "\n",
              "  @keyframes spin {\n",
              "    0% {\n",
              "      border-color: transparent;\n",
              "      border-bottom-color: var(--fill-color);\n",
              "      border-left-color: var(--fill-color);\n",
              "    }\n",
              "    20% {\n",
              "      border-color: transparent;\n",
              "      border-left-color: var(--fill-color);\n",
              "      border-top-color: var(--fill-color);\n",
              "    }\n",
              "    30% {\n",
              "      border-color: transparent;\n",
              "      border-left-color: var(--fill-color);\n",
              "      border-top-color: var(--fill-color);\n",
              "      border-right-color: var(--fill-color);\n",
              "    }\n",
              "    40% {\n",
              "      border-color: transparent;\n",
              "      border-right-color: var(--fill-color);\n",
              "      border-top-color: var(--fill-color);\n",
              "    }\n",
              "    60% {\n",
              "      border-color: transparent;\n",
              "      border-right-color: var(--fill-color);\n",
              "    }\n",
              "    80% {\n",
              "      border-color: transparent;\n",
              "      border-right-color: var(--fill-color);\n",
              "      border-bottom-color: var(--fill-color);\n",
              "    }\n",
              "    90% {\n",
              "      border-color: transparent;\n",
              "      border-bottom-color: var(--fill-color);\n",
              "    }\n",
              "  }\n",
              "</style>\n",
              "\n",
              "  <script>\n",
              "    async function quickchart(key) {\n",
              "      const quickchartButtonEl =\n",
              "        document.querySelector('#' + key + ' button');\n",
              "      quickchartButtonEl.disabled = true;  // To prevent multiple clicks.\n",
              "      quickchartButtonEl.classList.add('colab-df-spinner');\n",
              "      try {\n",
              "        const charts = await google.colab.kernel.invokeFunction(\n",
              "            'suggestCharts', [key], {});\n",
              "      } catch (error) {\n",
              "        console.error('Error during call to suggestCharts:', error);\n",
              "      }\n",
              "      quickchartButtonEl.classList.remove('colab-df-spinner');\n",
              "      quickchartButtonEl.classList.add('colab-df-quickchart-complete');\n",
              "    }\n",
              "    (() => {\n",
              "      let quickchartButtonEl =\n",
              "        document.querySelector('#df-c85fb807-0bff-4430-853c-b854191e3723 button');\n",
              "      quickchartButtonEl.style.display =\n",
              "        google.colab.kernel.accessAllowed ? 'block' : 'none';\n",
              "    })();\n",
              "  </script>\n",
              "</div>\n",
              "\n",
              "  <div id=\"id_54bc1188-bdcb-479d-9ee6-07a1fe6c1059\">\n",
              "    <style>\n",
              "      .colab-df-generate {\n",
              "        background-color: #E8F0FE;\n",
              "        border: none;\n",
              "        border-radius: 50%;\n",
              "        cursor: pointer;\n",
              "        display: none;\n",
              "        fill: #1967D2;\n",
              "        height: 32px;\n",
              "        padding: 0 0 0 0;\n",
              "        width: 32px;\n",
              "      }\n",
              "\n",
              "      .colab-df-generate:hover {\n",
              "        background-color: #E2EBFA;\n",
              "        box-shadow: 0px 1px 2px rgba(60, 64, 67, 0.3), 0px 1px 3px 1px rgba(60, 64, 67, 0.15);\n",
              "        fill: #174EA6;\n",
              "      }\n",
              "\n",
              "      [theme=dark] .colab-df-generate {\n",
              "        background-color: #3B4455;\n",
              "        fill: #D2E3FC;\n",
              "      }\n",
              "\n",
              "      [theme=dark] .colab-df-generate:hover {\n",
              "        background-color: #434B5C;\n",
              "        box-shadow: 0px 1px 3px 1px rgba(0, 0, 0, 0.15);\n",
              "        filter: drop-shadow(0px 1px 2px rgba(0, 0, 0, 0.3));\n",
              "        fill: #FFFFFF;\n",
              "      }\n",
              "    </style>\n",
              "    <button class=\"colab-df-generate\" onclick=\"generateWithVariable('rc_df')\"\n",
              "            title=\"Generate code using this dataframe.\"\n",
              "            style=\"display:none;\">\n",
              "\n",
              "  <svg xmlns=\"http://www.w3.org/2000/svg\" height=\"24px\"viewBox=\"0 0 24 24\"\n",
              "       width=\"24px\">\n",
              "    <path d=\"M7,19H8.4L18.45,9,17,7.55,7,17.6ZM5,21V16.75L18.45,3.32a2,2,0,0,1,2.83,0l1.4,1.43a1.91,1.91,0,0,1,.58,1.4,1.91,1.91,0,0,1-.58,1.4L9.25,21ZM18.45,9,17,7.55Zm-12,3A5.31,5.31,0,0,0,4.9,8.1,5.31,5.31,0,0,0,1,6.5,5.31,5.31,0,0,0,4.9,4.9,5.31,5.31,0,0,0,6.5,1,5.31,5.31,0,0,0,8.1,4.9,5.31,5.31,0,0,0,12,6.5,5.46,5.46,0,0,0,6.5,12Z\"/>\n",
              "  </svg>\n",
              "    </button>\n",
              "    <script>\n",
              "      (() => {\n",
              "      const buttonEl =\n",
              "        document.querySelector('#id_54bc1188-bdcb-479d-9ee6-07a1fe6c1059 button.colab-df-generate');\n",
              "      buttonEl.style.display =\n",
              "        google.colab.kernel.accessAllowed ? 'block' : 'none';\n",
              "\n",
              "      buttonEl.onclick = () => {\n",
              "        google.colab.notebook.generateWithVariable('rc_df');\n",
              "      }\n",
              "      })();\n",
              "    </script>\n",
              "  </div>\n",
              "\n",
              "    </div>\n",
              "  </div>\n"
            ],
            "application/vnd.google.colaboratory.intrinsic+json": {
              "type": "dataframe",
              "variable_name": "rc_df",
              "summary": "{\n  \"name\": \"rc_df\",\n  \"rows\": 441,\n  \"fields\": [\n    {\n      \"column\": \"time\",\n      \"properties\": {\n        \"dtype\": \"number\",\n        \"std\": 1.1541931770991035e-09,\n        \"min\": 0.0,\n        \"max\": 4e-09,\n        \"num_unique_values\": 441,\n        \"samples\": [\n          7.128e-10,\n          3.99419008e-09,\n          1.35983109e-09\n        ],\n        \"semantic_type\": \"\",\n        \"description\": \"\"\n      }\n    },\n    {\n      \"column\": \"v(vin)\",\n      \"properties\": {\n        \"dtype\": \"number\",\n        \"std\": 0.8924479070191843,\n        \"min\": 0.0,\n        \"max\": 1.8,\n        \"num_unique_values\": 21,\n        \"samples\": [\n          0.0,\n          0.173049096,\n          0.0346098192\n        ],\n        \"semantic_type\": \"\",\n        \"description\": \"\"\n      }\n    },\n    {\n      \"column\": \"v(vout)\",\n      \"properties\": {\n        \"dtype\": \"number\",\n        \"std\": 0.4462246671164267,\n        \"min\": -3.42146311e-07,\n        \"max\": 0.900000049,\n        \"num_unique_values\": 135,\n        \"samples\": [\n          3.32072425e-07,\n          -3.34137669e-07,\n          -3.31607849e-07\n        ],\n        \"semantic_type\": \"\",\n        \"description\": \"\"\n      }\n    },\n    {\n      \"column\": \"@r1[i]\",\n      \"properties\": {\n        \"dtype\": \"number\",\n        \"std\": 0.0,\n        \"min\": 0.0,\n        \"max\": 0.0,\n        \"num_unique_values\": 1,\n        \"samples\": [\n          0.0\n        ],\n        \"semantic_type\": \"\",\n        \"description\": \"\"\n      }\n    },\n    {\n      \"column\": \"@r2[i]\",\n      \"properties\": {\n        \"dtype\": \"number\",\n        \"std\": 0.0,\n        \"min\": 0.0,\n        \"max\": 0.0,\n        \"num_unique_values\": 1,\n        \"samples\": [\n          0.0\n        ],\n        \"semantic_type\": \"\",\n        \"description\": \"\"\n      }\n    },\n    {\n      \"column\": \"@c2[i]\",\n      \"properties\": {\n        \"dtype\": \"number\",\n        \"std\": 0.0,\n        \"min\": 0.0,\n        \"max\": 0.0,\n        \"num_unique_values\": 1,\n        \"samples\": [\n          0.0\n        ],\n        \"semantic_type\": \"\",\n        \"description\": \"\"\n      }\n    }\n  ]\n}"
            }
          },
          "metadata": {},
          "execution_count": 40
        }
      ]
    },
    {
      "cell_type": "markdown",
      "source": [
        "#### Plot Currents"
      ],
      "metadata": {
        "id": "kPB6fLBWRl2S"
      }
    },
    {
      "cell_type": "code",
      "source": [
        "\n",
        "# voltage_cols = [col for col in rc_df.columns if col.lower().startswith(\"v(\")]\n",
        "# rc_df[voltage_cols].plot(subplots=True, figsize=(10, 4))\n",
        "# plt.title('Sky130: RC LPF')\n",
        "# plt.show()\n",
        "\n",
        "plot_tran_data(rc_df, plot_voltages=False, plot_currents=True)\n"
      ],
      "metadata": {
        "colab": {
          "base_uri": "https://localhost:8080/",
          "height": 389
        },
        "id": "ln-DuuHlRtn8",
        "outputId": "98b9ebb4-26eb-4214-cae1-a62eb02aa0a0"
      },
      "execution_count": 42,
      "outputs": [
        {
          "output_type": "display_data",
          "data": {
            "text/plain": [
              "<Figure size 1000x400 with 3 Axes>"
            ],
            "image/png": "[encoded data removed]"
          },
          "metadata": {}
        }
      ]
    },
    {
      "cell_type": "code",
      "source": [],
      "metadata": {
        "id": "DJUQ4BMORoGQ"
      },
      "execution_count": null,
      "outputs": []
    },
    {
      "cell_type": "markdown",
      "source": [
        "## Sky130 Examples\n",
        "\n"
      ],
      "metadata": {
        "id": "-WfD3WrFNcFz"
      }
    },
    {
      "cell_type": "code",
      "source": [],
      "metadata": {
        "id": "6ZLAFeoBQukH"
      },
      "execution_count": null,
      "outputs": []
    }
  ]
}