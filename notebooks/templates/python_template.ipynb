{
  "nbformat": 4,
  "nbformat_minor": 0,
  "metadata": {
    "colab": {
      "provenance": [],
      "authorship_tag": "ABX9TyPgqe7neO3vNsubrosux7fd",
      "include_colab_link": true
    },
    "kernelspec": {
      "name": "python3",
      "display_name": "Python 3"
    },
    "language_info": {
      "name": "python"
    }
  },
  "cells": [
    {
      "cell_type": "markdown",
      "metadata": {
        "id": "view-in-github",
        "colab_type": "text"
      },
      "source": [
        "<a href=\"https://colab.research.google.com/github/venkataratnamb20/quicksilicon/blob/notebooks/notebooks/templates/python_template.ipynb\" target=\"_parent\"><img src=\"https://colab.research.google.com/assets/colab-badge.svg\" alt=\"Open In Colab\"/></a>"
      ]
    },
    {
      "cell_type": "markdown",
      "source": [
        "Program: C Language"
      ],
      "metadata": {
        "id": "tiIJsO8vbK58"
      }
    },
    {
      "cell_type": "markdown",
      "source": [
        "## Programming: Basics"
      ],
      "metadata": {
        "id": "60eUslhAbOF4"
      }
    },
    {
      "cell_type": "markdown",
      "source": [
        "### Introduction\n",
        "\n",
        "- Syntax\n",
        "- execution\n",
        "- Comments"
      ],
      "metadata": {
        "id": "utCNv4lWbyyK"
      }
    },
    {
      "cell_type": "code",
      "execution_count": null,
      "metadata": {
        "id": "9jf6uEMUbIGA",
        "colab": {
          "base_uri": "https://localhost:8080/"
        },
        "outputId": "23cf36de-9b2e-4803-d8ff-115489de6729"
      },
      "outputs": [
        {
          "output_type": "stream",
          "name": "stdout",
          "text": [
            "gcc (Ubuntu 11.4.0-1ubuntu1~22.04) 11.4.0\n",
            "Copyright (C) 2021 Free Software Foundation, Inc.\n",
            "This is free software; see the source for copying conditions.  There is NO\n",
            "warranty; not even for MERCHANTABILITY or FITNESS FOR A PARTICULAR PURPOSE.\n",
            "\n"
          ]
        }
      ],
      "source": [
        "!gcc --version"
      ]
    },
    {
      "cell_type": "code",
      "source": [
        "!which gcc\n",
        "# !which ngspice"
      ],
      "metadata": {
        "colab": {
          "base_uri": "https://localhost:8080/"
        },
        "id": "oDt12_6cjVuk",
        "outputId": "20f7e4ba-d579-4b1e-a64f-ea30fd9ce9ca"
      },
      "execution_count": null,
      "outputs": [
        {
          "output_type": "stream",
          "name": "stdout",
          "text": [
            "/usr/bin/gcc\n"
          ]
        }
      ]
    },
    {
      "cell_type": "code",
      "source": [
        "![[ -d /content/vb/projects/intro ]] || mkdir -p /content/vb/projects/intro"
      ],
      "metadata": {
        "id": "H9w1c2nqjwuJ"
      },
      "execution_count": null,
      "outputs": []
    },
    {
      "cell_type": "code",
      "source": [
        "%%writefile /content/vb/projects/intro/intro.c\n",
        "\n",
        "#include <stdio.h>\n",
        "\n",
        "int main()\n",
        "{\n",
        "    printf(\"Hello World!\\n\");\n",
        "    return 0;\n",
        "}\n"
      ],
      "metadata": {
        "colab": {
          "base_uri": "https://localhost:8080/"
        },
        "id": "7iXfW0lwjpTX",
        "outputId": "49e0c7a3-b16e-4b75-fcef-ca8c77ebe788"
      },
      "execution_count": null,
      "outputs": [
        {
          "output_type": "stream",
          "name": "stdout",
          "text": [
            "Writing /content/vb/projects/intro/intro.c\n"
          ]
        }
      ]
    },
    {
      "cell_type": "code",
      "source": [
        "!cd /content/vb/projects/intro && \\\n",
        "    gcc intro.c -o intro && \\\n",
        "    ./intro"
      ],
      "metadata": {
        "colab": {
          "base_uri": "https://localhost:8080/"
        },
        "id": "NXkKQmp6j8ER",
        "outputId": "41d6c221-19f4-4764-bb75-ce078a7f1b69"
      },
      "execution_count": null,
      "outputs": [
        {
          "output_type": "stream",
          "name": "stdout",
          "text": [
            "Hello World!\n"
          ]
        }
      ]
    },
    {
      "cell_type": "code",
      "source": [
        "%%writefile intro.sh\n",
        "\n",
        "#!/usr/bin/env bash\n",
        "\n",
        "set -euo pipefail\n",
        "\n",
        "gcc intro.c -o intro\n",
        "./intro\n"
      ],
      "metadata": {
        "colab": {
          "base_uri": "https://localhost:8080/"
        },
        "id": "_Ba2xtFBkisL",
        "outputId": "040d4c64-4832-4ca2-d29d-d394c321cf0a"
      },
      "execution_count": null,
      "outputs": [
        {
          "output_type": "stream",
          "name": "stdout",
          "text": [
            "Writing intro.sh\n"
          ]
        }
      ]
    },
    {
      "cell_type": "code",
      "source": [
        "# !ls -al intro.sh\n",
        "# !chmod +x intro.sh\n",
        "# !ls -al intro.sh\n",
        "!./intro.sh\n"
      ],
      "metadata": {
        "colab": {
          "base_uri": "https://localhost:8080/"
        },
        "id": "Zjhwez-Lk-Pj",
        "outputId": "1275cb59-125c-4f98-c046-bfaf2312442f"
      },
      "execution_count": null,
      "outputs": [
        {
          "output_type": "stream",
          "name": "stdout",
          "text": [
            "/bin/bash: line 1: ./intro.sh: Permission denied\n"
          ]
        }
      ]
    },
    {
      "cell_type": "code",
      "source": [
        "# !compgen -u\n",
        "# !compgen -g"
      ],
      "metadata": {
        "id": "p3uRYWkPmSIn"
      },
      "execution_count": null,
      "outputs": []
    },
    {
      "cell_type": "code",
      "source": [
        "!groups"
      ],
      "metadata": {
        "colab": {
          "base_uri": "https://localhost:8080/"
        },
        "id": "wIMnjZvemzb8",
        "outputId": "aa1358a5-652a-421a-a5b4-a6b4462742c9"
      },
      "execution_count": null,
      "outputs": [
        {
          "output_type": "stream",
          "name": "stdout",
          "text": [
            "root\n"
          ]
        }
      ]
    },
    {
      "cell_type": "markdown",
      "source": [
        "#### Examples"
      ],
      "metadata": {
        "id": "karAKDc5nryH"
      }
    },
    {
      "cell_type": "code",
      "source": [],
      "metadata": {
        "id": "hSgE4QxgnthC"
      },
      "execution_count": null,
      "outputs": []
    },
    {
      "cell_type": "markdown",
      "source": [
        "### Data types and Variables\n",
        "\n",
        "**Data Types**\n",
        "\n",
        "- str\n",
        "- int\n",
        "- float\n",
        "- array\n",
        "- dictionary\n",
        "- others\n",
        "\n",
        "**Variables**\n",
        "\n",
        "How to define and use varaibles for different data types"
      ],
      "metadata": {
        "id": "7NadGc3ob2wn"
      }
    },
    {
      "cell_type": "code",
      "source": [],
      "metadata": {
        "id": "Q7EQja9UcI1U"
      },
      "execution_count": null,
      "outputs": []
    },
    {
      "cell_type": "markdown",
      "source": [
        "#### Examples"
      ],
      "metadata": {
        "id": "dgbed9RQn1L_"
      }
    },
    {
      "cell_type": "code",
      "source": [],
      "metadata": {
        "id": "G0ZfsYq0oOC9"
      },
      "execution_count": null,
      "outputs": []
    },
    {
      "cell_type": "markdown",
      "source": [
        "#### Examples: Format specifiers"
      ],
      "metadata": {
        "id": "vTlG13SMwmex"
      }
    },
    {
      "cell_type": "markdown",
      "source": [
        "#### Examples: Type Casting"
      ],
      "metadata": {
        "id": "QiScURQMwgKW"
      }
    },
    {
      "cell_type": "code",
      "source": [],
      "metadata": {
        "id": "mZn8Rk-ZwmC6"
      },
      "execution_count": null,
      "outputs": []
    },
    {
      "cell_type": "markdown",
      "source": [
        "### Arithmetic Operations"
      ],
      "metadata": {
        "id": "iMURWRFZwzVW"
      }
    },
    {
      "cell_type": "markdown",
      "source": [
        "### Logical Operations\n"
      ],
      "metadata": {
        "id": "iJtlqmsAw06_"
      }
    },
    {
      "cell_type": "code",
      "source": [],
      "metadata": {
        "id": "PDNSFsEWw0q0"
      },
      "execution_count": null,
      "outputs": []
    },
    {
      "cell_type": "markdown",
      "source": [
        "### Bitwise Operators"
      ],
      "metadata": {
        "id": "REORRDITJPiF"
      }
    },
    {
      "cell_type": "code",
      "source": [],
      "metadata": {
        "id": "LrY0DnDKJRrp"
      },
      "execution_count": null,
      "outputs": []
    },
    {
      "cell_type": "markdown",
      "source": [
        "### Math Functions\n",
        "\n",
        "```c\n",
        "#include <math.h>\n",
        "\n",
        "```"
      ],
      "metadata": {
        "id": "lIJVxnr9x45d"
      }
    },
    {
      "cell_type": "markdown",
      "source": [
        "### Accept User Input"
      ],
      "metadata": {
        "id": "v631xgMNoUqw"
      }
    },
    {
      "cell_type": "code",
      "source": [],
      "metadata": {
        "id": "mBpffzyFoTW8"
      },
      "execution_count": null,
      "outputs": []
    },
    {
      "cell_type": "markdown",
      "source": [
        "#### Arguments\n",
        "\n",
        "Pass information as arguments to the script.\n",
        "\n",
        "Examples:\n",
        "\n",
        "Followiing examples, `2, 3, 5, and 6 are arguments`\n",
        "\n",
        "    - `sum_of_numbers.c 2 5 4 6`\n",
        "    - `sum_of_numbers.py 2 5 4 6`\n"
      ],
      "metadata": {
        "id": "9rxnDgcRcNd6"
      }
    },
    {
      "cell_type": "code",
      "source": [],
      "metadata": {
        "id": "vBVfOYrJcPpA"
      },
      "execution_count": null,
      "outputs": []
    },
    {
      "cell_type": "markdown",
      "source": [
        "#### Examples"
      ],
      "metadata": {
        "id": "r3B_hnt2zi71"
      }
    },
    {
      "cell_type": "code",
      "source": [],
      "metadata": {
        "id": "ay4o1EzWzkHN"
      },
      "execution_count": null,
      "outputs": []
    },
    {
      "cell_type": "markdown",
      "source": [
        "#### Interactive\n",
        "\n",
        "Prompting- program asks question and user gives answer or data. If user types 'Q' or quit, program stops taking data and presents the result to user.\n",
        "\n",
        "For ex:\n",
        "\n",
        "    - `scanf()` in `c`\n",
        "    - `input()` in `python`"
      ],
      "metadata": {
        "id": "gdz8AR_VoYGV"
      }
    },
    {
      "cell_type": "code",
      "source": [],
      "metadata": {
        "id": "9k63mi0rofB_"
      },
      "execution_count": null,
      "outputs": []
    },
    {
      "cell_type": "markdown",
      "source": [
        "#### Examples"
      ],
      "metadata": {
        "id": "JL9eK4OIzmxd"
      }
    },
    {
      "cell_type": "code",
      "source": [],
      "metadata": {
        "id": "ewoAGW7ezoX8"
      },
      "execution_count": null,
      "outputs": []
    },
    {
      "cell_type": "markdown",
      "source": [
        "### Conditions\n",
        "\n",
        "Examples\n",
        "\n",
        "- `if`\n",
        "- `if else`\n",
        "- `if else if else`\n",
        "- `tertiary` operator\n",
        "- etc\n"
      ],
      "metadata": {
        "id": "gAJUXgFEb5vD"
      }
    },
    {
      "cell_type": "code",
      "source": [],
      "metadata": {
        "id": "_s8Sv-gsb_Zj"
      },
      "execution_count": null,
      "outputs": []
    },
    {
      "cell_type": "markdown",
      "source": [
        "#### Examples\n"
      ],
      "metadata": {
        "id": "QeNtmxtozpjO"
      }
    },
    {
      "cell_type": "code",
      "source": [],
      "metadata": {
        "id": "2fPwjEa0zsTL"
      },
      "execution_count": null,
      "outputs": []
    },
    {
      "cell_type": "markdown",
      "source": [
        "### Loops\n",
        "\n",
        "Examples\n",
        "\n",
        "- `for`\n",
        "- `while`\n",
        "- `do while`\n",
        "- `switch case`\n",
        "- etc\n",
        "\n"
      ],
      "metadata": {
        "id": "KTGXBIhTb7Zr"
      }
    },
    {
      "cell_type": "code",
      "source": [],
      "metadata": {
        "id": "LmgRYcklcCZA"
      },
      "execution_count": null,
      "outputs": []
    },
    {
      "cell_type": "markdown",
      "source": [
        "#### Examples"
      ],
      "metadata": {
        "id": "PZJY__PMztRo"
      }
    },
    {
      "cell_type": "code",
      "source": [],
      "metadata": {
        "id": "MpMFs7gmzu4-"
      },
      "execution_count": null,
      "outputs": []
    },
    {
      "cell_type": "markdown",
      "source": [
        "### Functions\n",
        "\n",
        "- Function definition\n",
        "- Function with no arguments\n",
        "- Function with no retrun\n",
        "- Function with return\n",
        "- Function with arguments\n",
        "- Function with default arguments\n",
        "- Functions Prototype (c language)\n",
        "- etc\n"
      ],
      "metadata": {
        "id": "21STM_6Ub9HZ"
      }
    },
    {
      "cell_type": "code",
      "source": [],
      "metadata": {
        "id": "EY_AFbzhb_vk"
      },
      "execution_count": null,
      "outputs": []
    },
    {
      "cell_type": "markdown",
      "source": [
        "#### Examples"
      ],
      "metadata": {
        "id": "ZQToJLcszwuz"
      }
    },
    {
      "cell_type": "code",
      "source": [],
      "metadata": {
        "id": "G-QJJ78bzyN0"
      },
      "execution_count": null,
      "outputs": []
    },
    {
      "cell_type": "markdown",
      "source": [
        "### Handling files\n",
        "\n",
        "- Reading files\n",
        "- writing files\n",
        "\n"
      ],
      "metadata": {
        "id": "TfE7hdBwuLDt"
      }
    },
    {
      "cell_type": "code",
      "source": [],
      "metadata": {
        "id": "KykhRuCpuP5E"
      },
      "execution_count": null,
      "outputs": []
    },
    {
      "cell_type": "markdown",
      "source": [
        "#### Examples"
      ],
      "metadata": {
        "id": "3J9mTB-vzy3G"
      }
    },
    {
      "cell_type": "code",
      "source": [],
      "metadata": {
        "id": "GqU05zbgz0S5"
      },
      "execution_count": null,
      "outputs": []
    },
    {
      "cell_type": "markdown",
      "source": [
        "## Standard libraries\n",
        "\n",
        "- list of stard libraries\n",
        "- How to use them?\n",
        "-"
      ],
      "metadata": {
        "id": "3YxXvUmyuWWE"
      }
    },
    {
      "cell_type": "markdown",
      "source": [
        "- stdio\n",
        "- stdlib\n",
        "- string\n",
        "- stdbool\n",
        "- ctype\n",
        "- math\n",
        "- time\n",
        "-\n"
      ],
      "metadata": {
        "id": "7qgTZJi0IwhJ"
      }
    },
    {
      "cell_type": "code",
      "source": [],
      "metadata": {
        "id": "DJPSqcU_uYZX"
      },
      "execution_count": null,
      "outputs": []
    },
    {
      "cell_type": "markdown",
      "source": [
        "#### Examples\n"
      ],
      "metadata": {
        "id": "-lQ3410Yz09K"
      }
    },
    {
      "cell_type": "code",
      "source": [],
      "metadata": {
        "id": "4Vi8vDn4z3LI"
      },
      "execution_count": null,
      "outputs": []
    },
    {
      "cell_type": "markdown",
      "source": [
        "## Advanced"
      ],
      "metadata": {
        "id": "SINjyO6ZcqIq"
      }
    },
    {
      "cell_type": "code",
      "source": [],
      "metadata": {
        "id": "C1rw_fnCbTEN"
      },
      "execution_count": null,
      "outputs": []
    },
    {
      "cell_type": "markdown",
      "source": [
        "### Structs\n"
      ],
      "metadata": {
        "id": "CIMd0aI-GD39"
      }
    },
    {
      "cell_type": "code",
      "source": [],
      "metadata": {
        "id": "wlCdLdKLGF-J"
      },
      "execution_count": null,
      "outputs": []
    },
    {
      "cell_type": "markdown",
      "source": [
        "#### Examples"
      ],
      "metadata": {
        "id": "lSj0ZtBPGG1F"
      }
    },
    {
      "cell_type": "code",
      "source": [],
      "metadata": {
        "id": "aMVPIC8WGI09"
      },
      "execution_count": null,
      "outputs": []
    },
    {
      "cell_type": "markdown",
      "source": [
        "### typedef\n"
      ],
      "metadata": {
        "id": "M5En0WN5GQ94"
      }
    },
    {
      "cell_type": "code",
      "source": [],
      "metadata": {
        "id": "cqv4UJYlGTAa"
      },
      "execution_count": null,
      "outputs": []
    },
    {
      "cell_type": "markdown",
      "source": [
        "#### Examples"
      ],
      "metadata": {
        "id": "PhnBcKLaGTd_"
      }
    },
    {
      "cell_type": "code",
      "source": [],
      "metadata": {
        "id": "yapCxrDUGVee"
      },
      "execution_count": null,
      "outputs": []
    },
    {
      "cell_type": "markdown",
      "source": [
        "### Enums"
      ],
      "metadata": {
        "id": "QLDq680iH9Fw"
      }
    },
    {
      "cell_type": "code",
      "source": [],
      "metadata": {
        "id": "tL_IOKRUH-mH"
      },
      "execution_count": null,
      "outputs": []
    },
    {
      "cell_type": "markdown",
      "source": [
        "#### Examples"
      ],
      "metadata": {
        "id": "Fu7dnJIjH_Sw"
      }
    },
    {
      "cell_type": "code",
      "source": [],
      "metadata": {
        "id": "h6K4yL8vIA3u"
      },
      "execution_count": null,
      "outputs": []
    },
    {
      "cell_type": "markdown",
      "source": [
        "### Memory Addresses\n"
      ],
      "metadata": {
        "id": "QawOTVjlJsNE"
      }
    },
    {
      "cell_type": "code",
      "source": [],
      "metadata": {
        "id": "992ShsYOJvG8"
      },
      "execution_count": null,
      "outputs": []
    },
    {
      "cell_type": "markdown",
      "source": [
        "#### Examples"
      ],
      "metadata": {
        "id": "PDC6n8dNJvlX"
      }
    },
    {
      "cell_type": "code",
      "source": [],
      "metadata": {
        "id": "K9ulLZS-JxJd"
      },
      "execution_count": null,
      "outputs": []
    },
    {
      "cell_type": "markdown",
      "source": [
        "### Pointers and Arrays\n",
        "\n",
        "- Define `Pointers`.\n",
        "- Using `Pointers`.\n",
        "- Derefferencing `Pointers`.\n",
        "- Arrays\n",
        "    - Create array\n",
        "    - print array\n",
        "    - Findind size of an array\n",
        "    - update array.\n",
        "- 2D Arrays\n",
        "- Arrays of strings\n"
      ],
      "metadata": {
        "id": "Ls-TeeFkz4Dg"
      }
    },
    {
      "cell_type": "markdown",
      "source": [
        "#### Course"
      ],
      "metadata": {
        "id": "IchJMp5V2gLL"
      }
    },
    {
      "cell_type": "code",
      "source": [
        "%%html\n",
        "<p> Course on Pointers </p>\n",
        "\n",
        "<iframe width=\"560\" height=\"315\" src=\"https://www.youtube.com/embed/zuegQmMdy8M?si=aQaUvqcmmgz96j5E\"\n",
        "title=\"YouTube video player\" frameborder=\"0\"\n",
        "allow=\"accelerometer; autoplay; clipboard-write; encrypted-media; gyroscope; picture-in-picture; web-share\"\n",
        "referrerpolicy=\"strict-origin-when-cross-origin\" allowfullscreen></iframe>\n"
      ],
      "metadata": {
        "colab": {
          "base_uri": "https://localhost:8080/"
        },
        "id": "ZxvL-Nfv2iow",
        "outputId": "83df9036-157d-406e-8d87-1363630ae544"
      },
      "execution_count": null,
      "outputs": [
        {
          "output_type": "display_data",
          "data": {
            "text/plain": [
              "<IPython.core.display.HTML object>"
            ],
            "text/html": [
              "<p> Course on Pointers </p>\n",
              "\n",
              "<iframe width=\"560\" height=\"315\" src=\"https://www.youtube.com/embed/zuegQmMdy8M?si=aQaUvqcmmgz96j5E\"\n",
              "title=\"YouTube video player\" frameborder=\"0\"\n",
              "allow=\"accelerometer; autoplay; clipboard-write; encrypted-media; gyroscope; picture-in-picture; web-share\"\n",
              "referrerpolicy=\"strict-origin-when-cross-origin\" allowfullscreen></iframe>\n"
            ]
          },
          "metadata": {}
        }
      ]
    },
    {
      "cell_type": "code",
      "source": [],
      "metadata": {
        "id": "u5ETDGs6z6AH"
      },
      "execution_count": null,
      "outputs": []
    },
    {
      "cell_type": "markdown",
      "source": [
        "#### Examples"
      ],
      "metadata": {
        "id": "e8kK3U6g0khU"
      }
    },
    {
      "cell_type": "code",
      "source": [],
      "metadata": {
        "id": "InQCRTUo0l-r"
      },
      "execution_count": null,
      "outputs": []
    },
    {
      "cell_type": "markdown",
      "source": [
        "### Object Oriented Programming"
      ],
      "metadata": {
        "id": "k7giiGTR0cb1"
      }
    },
    {
      "cell_type": "code",
      "source": [],
      "metadata": {
        "id": "71bHjMJQ0fAM"
      },
      "execution_count": null,
      "outputs": []
    },
    {
      "cell_type": "markdown",
      "source": [
        "#### Examples"
      ],
      "metadata": {
        "id": "QiFrOCjT0mx7"
      }
    },
    {
      "cell_type": "code",
      "source": [],
      "metadata": {
        "id": "66AgmDvu0oSi"
      },
      "execution_count": null,
      "outputs": []
    },
    {
      "cell_type": "markdown",
      "source": [
        "### Encapsulation and Abstraction"
      ],
      "metadata": {
        "id": "QKvyWx4g0ftA"
      }
    },
    {
      "cell_type": "code",
      "source": [],
      "metadata": {
        "id": "fz8oaPrW0joy"
      },
      "execution_count": null,
      "outputs": []
    },
    {
      "cell_type": "markdown",
      "source": [
        "Examples"
      ],
      "metadata": {
        "id": "YsrnHDKr0o0e"
      }
    },
    {
      "cell_type": "code",
      "source": [],
      "metadata": {
        "id": "s-xKKd0K0p0P"
      },
      "execution_count": null,
      "outputs": []
    },
    {
      "cell_type": "markdown",
      "source": [
        "### Daata Structures"
      ],
      "metadata": {
        "id": "_Gm5ulex0yVQ"
      }
    },
    {
      "cell_type": "code",
      "source": [],
      "metadata": {
        "id": "ZWG2zjQI00iX"
      },
      "execution_count": null,
      "outputs": []
    },
    {
      "cell_type": "markdown",
      "source": [
        "### Algorithms\n"
      ],
      "metadata": {
        "id": "6uPXn9Uw01Bc"
      }
    },
    {
      "cell_type": "code",
      "source": [],
      "metadata": {
        "id": "wQawtTG_04Aj"
      },
      "execution_count": null,
      "outputs": []
    },
    {
      "cell_type": "markdown",
      "source": [
        "#### Examples\n"
      ],
      "metadata": {
        "id": "IhhSc-V604-m"
      }
    },
    {
      "cell_type": "code",
      "source": [],
      "metadata": {
        "id": "16jpAJNx066d"
      },
      "execution_count": null,
      "outputs": []
    },
    {
      "cell_type": "markdown",
      "source": [
        "#### Examples"
      ],
      "metadata": {
        "id": "Zfx6cUFjz6gf"
      }
    },
    {
      "cell_type": "code",
      "source": [],
      "metadata": {
        "id": "7jNHyzIgz9k2"
      },
      "execution_count": null,
      "outputs": []
    },
    {
      "cell_type": "markdown",
      "source": [
        "## Best Practices"
      ],
      "metadata": {
        "id": "t0e22kzJcW1I"
      }
    },
    {
      "cell_type": "code",
      "source": [],
      "metadata": {
        "id": "1NZ7u3W8cbDt"
      },
      "execution_count": null,
      "outputs": []
    },
    {
      "cell_type": "markdown",
      "source": [
        "## Miscellinious"
      ],
      "metadata": {
        "id": "kmiB1_wXcbZe"
      }
    },
    {
      "cell_type": "code",
      "source": [],
      "metadata": {
        "id": "m_ID36gfcdrp"
      },
      "execution_count": null,
      "outputs": []
    },
    {
      "cell_type": "markdown",
      "source": [
        "## Applications"
      ],
      "metadata": {
        "id": "opeyFMsrcep6"
      }
    },
    {
      "cell_type": "code",
      "source": [],
      "metadata": {
        "id": "jD-5VUfPcg74"
      },
      "execution_count": null,
      "outputs": []
    },
    {
      "cell_type": "markdown",
      "source": [
        "## Projects"
      ],
      "metadata": {
        "id": "vTdA1s0KbQum"
      }
    },
    {
      "cell_type": "code",
      "source": [],
      "metadata": {
        "id": "xPYo5qzGcuiC"
      },
      "execution_count": null,
      "outputs": []
    },
    {
      "cell_type": "markdown",
      "source": [
        "### Project1: File Size Summary\n",
        "\n",
        "Guidelines\n",
        "\n",
        "- Pass an argument to the script - path\n",
        "- read the path into a variable\n",
        "- reaad the contents of the path\n",
        "- use loops to check whether each content is a file or a directory\n",
        "- print the message-\n",
        "    - if file-\n",
        "        \"File: [filename]: [size of filename]\"\n",
        "    - if directory:\n",
        "        \"Directory: [dirname] : [sum of all size of files in the directory]\"\n"
      ],
      "metadata": {
        "id": "TC74jZ99bXRj"
      }
    },
    {
      "cell_type": "markdown",
      "source": [
        "## Appendix"
      ],
      "metadata": {
        "id": "Bv0sBQiHbVoW"
      }
    },
    {
      "cell_type": "markdown",
      "source": [
        "### Courses"
      ],
      "metadata": {
        "id": "CIGni-ny0-UL"
      }
    },
    {
      "cell_type": "markdown",
      "source": [
        "- [YouTube/FreeCodeCamp: Harvard CS50 (2023) – Full Computer Science University Course](https://youtu.be/LfaMVlDaQ24?si=4iGf3Lcm0xZXtgvh)\n",
        "- [YouTube/FreeCodeCamp: Harvard CS50’s Introduction to Programming with Python – Full University Course](https://youtu.be/nLRL_NcnK-4?si=rH7dEoH-vlApouAf)\n",
        "- [YouTube/TechWorld With Nana: Python Course](https://youtu.be/t8pPdKYpowI?si=UtJ2zHV7GG7WjEUO)\n",
        "- [YouTube/FreeCodeCamp:  Python for Everybody - Full University Python Course ](https://youtu.be/8DvywoWv6fI?si=rqC6x6eXB30JMzTd)\n",
        "- [YouTube/ FreeCodeCamp: Intermediate Python Programming Course](https://youtu.be/HGOBQPFzWKo?si=uWixXLjqrva2FEk6)\n",
        "- [YouTube/Dave Gray: Python Full Course for Beginners | Complete All-in-One Tutorial | 9 Hours](https://youtu.be/H2EJuAcrZYU?si=OEZp7HbDOnLMHi0d|z)\n",
        "- [YouTube/Bro Code: Python Full Course for free](https://youtu.be/XKHEtdqhLK8?si=ICTtYDPbC4DB1TUf)\n",
        "- [YouTube/Programming with Mosh: Python Tutorial - Python Full Course for Beginners](https://youtu.be/_uQrJ0TkZlc?si=0pic3Nf8RuwgQ51H)\n"
      ],
      "metadata": {
        "id": "uiKR-qUY1mMI"
      }
    },
    {
      "cell_type": "code",
      "source": [
        "%%html\n",
        "\n",
        "<div\n",
        "style=\"display: flex; flex-direction: column; gap: 1em; align-items: center; justify-content: center\">\n",
        "<h3> YouTube/FreeCodeCamp: Harvard CS50 (2023) – Full Computer Science University Course</h3>\n",
        "<p>Course by Harvard University</p>\n",
        "\n",
        "<iframe width=\"560\" height=\"315\" src=\"https://www.youtube.com/embed/LfaMVlDaQ24?si=HD6GahRo1KALyWY3\"\n",
        "title=\"YouTube video player\" frameborder=\"0\"\n",
        "allow=\"accelerometer; autoplay; clipboard-write; encrypted-media; gyroscope; picture-in-picture; web-share\"\n",
        "referrerpolicy=\"strict-origin-when-cross-origin\" allowfullscreen></iframe>\n",
        "\n",
        "<h3> YouTube/FreeCodeCamp: Harvard CS50’s Introduction to Programming with Python – Full University Course</h3>\n",
        "<p>Course by Harvard University</p>\n",
        "\n",
        "<iframe width=\"560\" height=\"315\"\n",
        "src=\"https://www.youtube.com/embed/nLRL_NcnK-4?si=R2_v-8LFvY_CXjxt\"\n",
        "title=\"YouTube video player\" frameborder=\"0\"\n",
        "allow=\"accelerometer; autoplay; clipboard-write; encrypted-media; gyroscope; picture-in-picture; web-share\"\n",
        "referrerpolicy=\"strict-origin-when-cross-origin\" allowfullscreen></iframe>\n",
        "</div>"
      ],
      "metadata": {
        "colab": {
          "base_uri": "https://localhost:8080/",
          "height": 857
        },
        "id": "mAIR_VdW2HcB",
        "outputId": "c87cd1ab-4abc-4508-d9ab-b25056c57181"
      },
      "execution_count": null,
      "outputs": [
        {
          "output_type": "display_data",
          "data": {
            "text/plain": [
              "<IPython.core.display.HTML object>"
            ],
            "text/html": [
              "\n",
              "<div \n",
              "style=\"display: flex; flex-direction: column; gap: 1em; align-items: center; justify-content: center\">\n",
              "<h3> YouTube/FreeCodeCamp: Harvard CS50 (2023) – Full Computer Science University Course</h3>\n",
              "<p>Course by Harvard University</p>\n",
              "\n",
              "<iframe width=\"560\" height=\"315\" src=\"https://www.youtube.com/embed/LfaMVlDaQ24?si=HD6GahRo1KALyWY3\"\n",
              "title=\"YouTube video player\" frameborder=\"0\"\n",
              "allow=\"accelerometer; autoplay; clipboard-write; encrypted-media; gyroscope; picture-in-picture; web-share\"\n",
              "referrerpolicy=\"strict-origin-when-cross-origin\" allowfullscreen></iframe>\n",
              "\n",
              "<h3> YouTube/FreeCodeCamp: Harvard CS50’s Introduction to Programming with Python – Full University Course</h3>\n",
              "<p>Course by Harvard University</p>\n",
              "\n",
              "<iframe width=\"560\" height=\"315\" \n",
              "src=\"https://www.youtube.com/embed/nLRL_NcnK-4?si=R2_v-8LFvY_CXjxt\" \n",
              "title=\"YouTube video player\" frameborder=\"0\" \n",
              "allow=\"accelerometer; autoplay; clipboard-write; encrypted-media; gyroscope; picture-in-picture; web-share\" \n",
              "referrerpolicy=\"strict-origin-when-cross-origin\" allowfullscreen></iframe>\n",
              "</div>\n"
            ]
          },
          "metadata": {}
        }
      ]
    },
    {
      "cell_type": "code",
      "source": [
        "%%html\n",
        "\n",
        "<div\n",
        "style=\"display: flex; flex-direction: column; gap: 1em; align-items: center; justify-content: center\">\n",
        "\n",
        "<h3>YouTube/FreeCodeCamp: Python for Everybody - Full University Python Course </h3>\n",
        "\n",
        "<iframe width=\"560\" height=\"315\"\n",
        "src=\"https://www.youtube.com/embed/8DvywoWv6fI?si=dHlH1XPhVCgK7oJx\"\n",
        "title=\"YouTube video player\" frameborder=\"0\"\n",
        "allow=\"accelerometer; autoplay; clipboard-write; encrypted-media; gyroscope; picture-in-picture; web-share\"\n",
        "referrerpolicy=\"strict-origin-when-cross-origin\" allowfullscreen></iframe>\n",
        "</div>"
      ],
      "metadata": {
        "colab": {
          "base_uri": "https://localhost:8080/",
          "height": 387
        },
        "id": "dohxJbc-33Ps",
        "outputId": "00a00cad-125e-4e2d-eaa8-9f0abc40fd5d"
      },
      "execution_count": null,
      "outputs": [
        {
          "output_type": "display_data",
          "data": {
            "text/plain": [
              "<IPython.core.display.HTML object>"
            ],
            "text/html": [
              "\n",
              "<div \n",
              "style=\"display: flex; flex-direction: column; gap: 1em; align-items: center; justify-content: center\">\n",
              "\n",
              "<h3>YouTube/FreeCodeCamp: Python for Everybody - Full University Python Course </h3>\n",
              "\n",
              "<iframe width=\"560\" height=\"315\" \n",
              "src=\"https://www.youtube.com/embed/8DvywoWv6fI?si=dHlH1XPhVCgK7oJx\" \n",
              "title=\"YouTube video player\" frameborder=\"0\" \n",
              "allow=\"accelerometer; autoplay; clipboard-write; encrypted-media; gyroscope; picture-in-picture; web-share\" \n",
              "referrerpolicy=\"strict-origin-when-cross-origin\" allowfullscreen></iframe>\n",
              "</div>\n"
            ]
          },
          "metadata": {}
        }
      ]
    },
    {
      "cell_type": "code",
      "source": [
        "%%html\n",
        "\n",
        "\n",
        "\n",
        "<div\n",
        "style=\"display: flex; flex-flow: row wrap; gap: 1em; align-items: center; justify-content: center\">\n",
        "\n",
        "    <div>\n",
        "        <h3> YouTube/TechWorld With Nana: Python Tutorial for Beginners - Learn Python in 5 Hours [FULL COURSE]</h3>\n",
        "\n",
        "        <iframe width=\"560\" height=\"315\"\n",
        "        src=\"https://www.youtube.com/embed/t8pPdKYpowI?si=0uTcEHsNpd7wpT-e\"\n",
        "        title=\"YouTube video player\" frameborder=\"0\"\n",
        "        allow=\"accelerometer; autoplay; clipboard-write; encrypted-media; gyroscope; picture-in-picture; web-share\"\n",
        "        referrerpolicy=\"strict-origin-when-cross-origin\" allowfullscreen></iframe>\n",
        "    </div>\n",
        "\n",
        "    <div>\n",
        "        <h3> YouTube/Corey Schafer: Python Tutorials</h3>\n",
        "\n",
        "        <iframe width=\"560\" height=\"315\"\n",
        "        src=\"https://www.youtube.com/embed/videoseries?si=9dQE4Tm1icfu5LNM&amp;list=PL-osiE80TeTt2d9bfVyTiXJA-UTHn6WwU\"\n",
        "        title=\"YouTube video player\" frameborder=\"0\"\n",
        "        allow=\"accelerometer; autoplay; clipboard-write; encrypted-media; gyroscope; picture-in-picture; web-share\"\n",
        "        referrerpolicy=\"strict-origin-when-cross-origin\" allowfullscreen></iframe>\n",
        "    </div>\n",
        "\n",
        "    <div>\n",
        "\n",
        "        <h3> YouTube/FreeCodeCamp: Intermediate Python Programming Course</h3>\n",
        "\n",
        "        <iframe width=\"560\" height=\"315\"\n",
        "        src=\"https://www.youtube.com/embed/HGOBQPFzWKo?si=7yAQjSUkVYkDHDsN\"\n",
        "        title=\"YouTube video player\" frameborder=\"0\"\n",
        "        allow=\"accelerometer; autoplay; clipboard-write; encrypted-media; gyroscope; picture-in-picture; web-share\"\n",
        "        referrerpolicy=\"strict-origin-when-cross-origin\" allowfullscreen></iframe>\n",
        "    </div>\n",
        "</div>\n"
      ],
      "metadata": {
        "id": "M2Y-pEECbWrn",
        "colab": {
          "base_uri": "https://localhost:8080/",
          "height": 1000
        },
        "outputId": "b9de4b54-3361-4ef5-e72e-9c8e71e523f8"
      },
      "execution_count": null,
      "outputs": [
        {
          "output_type": "display_data",
          "data": {
            "text/plain": [
              "<IPython.core.display.HTML object>"
            ],
            "text/html": [
              "\n",
              "\n",
              "\n",
              "<div \n",
              "style=\"display: flex; flex-flow: row wrap; gap: 1em; align-items: center; justify-content: center\">\n",
              "\n",
              "    <div>\n",
              "        <h3> YouTube/TechWorld With Nana: Python Tutorial for Beginners - Learn Python in 5 Hours [FULL COURSE]</h3>\n",
              "\n",
              "        <iframe width=\"560\" height=\"315\" \n",
              "        src=\"https://www.youtube.com/embed/t8pPdKYpowI?si=0uTcEHsNpd7wpT-e\" \n",
              "        title=\"YouTube video player\" frameborder=\"0\" \n",
              "        allow=\"accelerometer; autoplay; clipboard-write; encrypted-media; gyroscope; picture-in-picture; web-share\" \n",
              "        referrerpolicy=\"strict-origin-when-cross-origin\" allowfullscreen></iframe>\n",
              "    </div>\n",
              "\n",
              "    <div>\n",
              "        <h3> YouTube/Corey Schafer: Python Tutorials</h3>\n",
              "\n",
              "        <iframe width=\"560\" height=\"315\" \n",
              "        src=\"https://www.youtube.com/embed/videoseries?si=9dQE4Tm1icfu5LNM&amp;list=PL-osiE80TeTt2d9bfVyTiXJA-UTHn6WwU\" \n",
              "        title=\"YouTube video player\" frameborder=\"0\" \n",
              "        allow=\"accelerometer; autoplay; clipboard-write; encrypted-media; gyroscope; picture-in-picture; web-share\" \n",
              "        referrerpolicy=\"strict-origin-when-cross-origin\" allowfullscreen></iframe>\n",
              "    </div>\n",
              "\n",
              "    <div>\n",
              "\n",
              "        <h3> YouTube/FreeCodeCamp: Intermediate Python Programming Course</h3>\n",
              "\n",
              "        <iframe width=\"560\" height=\"315\" \n",
              "        src=\"https://www.youtube.com/embed/HGOBQPFzWKo?si=7yAQjSUkVYkDHDsN\" \n",
              "        title=\"YouTube video player\" frameborder=\"0\" \n",
              "        allow=\"accelerometer; autoplay; clipboard-write; encrypted-media; gyroscope; picture-in-picture; web-share\" \n",
              "        referrerpolicy=\"strict-origin-when-cross-origin\" allowfullscreen></iframe>\n",
              "    </div>\n",
              "</div>\n"
            ]
          },
          "metadata": {}
        }
      ]
    },
    {
      "cell_type": "code",
      "source": [
        "%%html\n",
        "\n",
        "<div\n",
        "style=\"display: flex; flex-direction: column; gap: 1em; align-items: center; justify-content: center\">\n",
        "    <h3>\n",
        "    YouTube/Bro Code: Python Full Course for free\n",
        "</h3>\n",
        "\n",
        "<a href=\"https://github.com/Bill-Corkery/BroCode-PythonFullCourse\"> Github/Bro Code: Python Course</a>\n",
        "\n",
        "<iframe width=\"560\" height=\"315\" src=\"https://www.youtube.com/embed/XKHEtdqhLK8?si=YFPzg3y2uuuEB8oH\" title=\"YouTube video player\" frameborder=\"0\" allow=\"accelerometer; autoplay; clipboard-write; encrypted-media; gyroscope; picture-in-picture; web-share\" referrerpolicy=\"strict-origin-when-cross-origin\" allowfullscreen>\n",
        "</iframe>\n",
        "\n",
        "</div>\n",
        "\n"
      ],
      "metadata": {
        "colab": {
          "base_uri": "https://localhost:8080/",
          "height": 418
        },
        "id": "3Y3qGhV25HVk",
        "outputId": "0b112906-ce59-42e9-d710-56fa0988f328"
      },
      "execution_count": null,
      "outputs": [
        {
          "output_type": "display_data",
          "data": {
            "text/plain": [
              "<IPython.core.display.HTML object>"
            ],
            "text/html": [
              "\n",
              "<div \n",
              "style=\"display: flex; flex-direction: column; gap: 1em; align-items: center; justify-content: center\">\n",
              "    <h3> \n",
              "    YouTube/Bro Code: Python Full Course for free\n",
              "</h3>\n",
              "\n",
              "<a href=\"https://github.com/Bill-Corkery/BroCode-PythonFullCourse\"> Github/Bro Code: Python Course</a>\n",
              "\n",
              "<iframe width=\"560\" height=\"315\" src=\"https://www.youtube.com/embed/XKHEtdqhLK8?si=YFPzg3y2uuuEB8oH\" title=\"YouTube video player\" frameborder=\"0\" allow=\"accelerometer; autoplay; clipboard-write; encrypted-media; gyroscope; picture-in-picture; web-share\" referrerpolicy=\"strict-origin-when-cross-origin\" allowfullscreen>\n",
              "</iframe>\n",
              "\n",
              "</div>\n",
              "\n"
            ]
          },
          "metadata": {}
        }
      ]
    },
    {
      "cell_type": "code",
      "source": [
        "%%html\n",
        "\n",
        "<div\n",
        "style=\"display: flex; flex-direction: column; gap: 1em; align-items: center; justify-content: center\">\n",
        "    <h3>\n",
        "    YouTube/Programming with Mosh: Python Tutorial - Python Full Course for Beginners\n",
        "</h3>\n",
        "\n",
        "<a href=\"https://github.com/mosh-hamedani/python-supplementary-materials\"> Github/Mosh Hamedani: Python Course</a>\n",
        "\n",
        "<iframe width=\"560\" height=\"315\" src=\"https://www.youtube.com/embed/_uQrJ0TkZlc?si=u-Dwot4Ark77T3_1\" title=\"YouTube video player\" frameborder=\"0\" allow=\"accelerometer; autoplay; clipboard-write; encrypted-media; gyroscope; picture-in-picture; web-share\" referrerpolicy=\"strict-origin-when-cross-origin\" allowfullscreen>\n",
        "</iframe>\n",
        "\n",
        "</div>\n",
        "\n"
      ],
      "metadata": {
        "colab": {
          "base_uri": "https://localhost:8080/",
          "height": 418
        },
        "id": "ovyyS1736Ii3",
        "outputId": "d95500c8-ed6c-43ee-d124-aedf2df3d9dd"
      },
      "execution_count": null,
      "outputs": [
        {
          "output_type": "display_data",
          "data": {
            "text/plain": [
              "<IPython.core.display.HTML object>"
            ],
            "text/html": [
              "\n",
              "<div \n",
              "style=\"display: flex; flex-direction: column; gap: 1em; align-items: center; justify-content: center\">\n",
              "    <h3> \n",
              "    YouTube/Programming with Mosh: Python Tutorial - Python Full Course for Beginners\n",
              "</h3>\n",
              "\n",
              "<a href=\"https://github.com/mosh-hamedani/python-supplementary-materials\"> Github/Mosh Hamedani: Python Course</a>\n",
              "\n",
              "<iframe width=\"560\" height=\"315\" src=\"https://www.youtube.com/embed/_uQrJ0TkZlc?si=u-Dwot4Ark77T3_1\" title=\"YouTube video player\" frameborder=\"0\" allow=\"accelerometer; autoplay; clipboard-write; encrypted-media; gyroscope; picture-in-picture; web-share\" referrerpolicy=\"strict-origin-when-cross-origin\" allowfullscreen>\n",
              "</iframe>\n",
              "\n",
              "</div>\n",
              "\n"
            ]
          },
          "metadata": {}
        }
      ]
    },
    {
      "cell_type": "code",
      "source": [
        "%%html\n",
        "\n",
        "<div\n",
        "style=\"display: flex; flex-direction: column; gap: 1em; align-items: center; justify-content: center\">\n",
        "    <h3>\n",
        "    YouTube/Dave Gray: Python Full Course for Beginners | Complete All-in-One Tutorial | 9 Hours\n",
        "</h3>\n",
        "\n",
        "<a href=\"https://github.com/gitdagray/python-course\"> Github/Dave Gray: Python Course</a>\n",
        "\n",
        "<iframe width=\"560\" height=\"315\"\n",
        "src=\"https://www.youtube.com/embed/H2EJuAcrZYU?si=aZ9Vk5v9FgFnAlf-\"\n",
        "title=\"YouTube video player\" frameborder=\"0\" allow=\"accelerometer; autoplay; clipboard-write; encrypted-media; gyroscope; picture-in-picture; web-share\"\n",
        "referrerpolicy=\"strict-origin-when-cross-origin\" allowfullscreen></iframe>\n",
        "</div>\n",
        "\n"
      ],
      "metadata": {
        "colab": {
          "base_uri": "https://localhost:8080/",
          "height": 418
        },
        "id": "3IrezRPZhRQx",
        "outputId": "7fc057fe-1b4f-4225-eff1-d0bf5b144b55"
      },
      "execution_count": null,
      "outputs": [
        {
          "output_type": "display_data",
          "data": {
            "text/plain": [
              "<IPython.core.display.HTML object>"
            ],
            "text/html": [
              "\n",
              "<div \n",
              "style=\"display: flex; flex-direction: column; gap: 1em; align-items: center; justify-content: center\">\n",
              "    <h3> \n",
              "    YouTube/Dave Gray: Python Full Course for Beginners | Complete All-in-One Tutorial | 9 Hours\n",
              "</h3>\n",
              "\n",
              "<a href=\"https://github.com/gitdagray/python-course\"> Github/Dave Gray: Python Course</a>\n",
              "\n",
              "<iframe width=\"560\" height=\"315\" \n",
              "src=\"https://www.youtube.com/embed/H2EJuAcrZYU?si=aZ9Vk5v9FgFnAlf-\" \n",
              "title=\"YouTube video player\" frameborder=\"0\" allow=\"accelerometer; autoplay; clipboard-write; encrypted-media; gyroscope; picture-in-picture; web-share\" \n",
              "referrerpolicy=\"strict-origin-when-cross-origin\" allowfullscreen></iframe>\n",
              "</div>\n",
              "\n"
            ]
          },
          "metadata": {}
        }
      ]
    },
    {
      "cell_type": "code",
      "source": [],
      "metadata": {
        "id": "fKp2GJhyqGnw"
      },
      "execution_count": null,
      "outputs": []
    },
    {
      "cell_type": "code",
      "source": [
        "%%html\n",
        "\n",
        "<div\n",
        "style=\"display: flex; flex-direction: column; gap: 1em; align-items: center; justify-content: center\">\n",
        "<h3> YouTube/FreeCodeCamp:  Intermediate Python Programming Course\n",
        "</h3>\n",
        "\n",
        "<iframe width=\"560\" height=\"315\"\n",
        "src=\"https://www.youtube.com/embed/HGOBQPFzWKo?si=fVlaY1p3dvyDP-xf\"\n",
        "title=\"YouTube video player\" frameborder=\"0\"\n",
        "allow=\"accelerometer; autoplay; clipboard-write; encrypted-media; gyroscope; picture-in-picture; web-share\"\n",
        "referrerpolicy=\"strict-origin-when-cross-origin\" allowfullscreen></iframe>\n",
        "</div>"
      ],
      "metadata": {
        "colab": {
          "base_uri": "https://localhost:8080/",
          "height": 387
        },
        "id": "CfzukRaXf9LY",
        "outputId": "8af38eff-82d9-4ab5-ca53-60d9340d40b9"
      },
      "execution_count": null,
      "outputs": [
        {
          "output_type": "display_data",
          "data": {
            "text/plain": [
              "<IPython.core.display.HTML object>"
            ],
            "text/html": [
              "\n",
              "<div \n",
              "style=\"display: flex; flex-direction: column; gap: 1em; align-items: center; justify-content: center\">\n",
              "<h3> YouTube/FreeCodeCamp:  Intermediate Python Programming Course\n",
              "</h3>\n",
              "\n",
              "<iframe width=\"560\" height=\"315\" \n",
              "src=\"https://www.youtube.com/embed/HGOBQPFzWKo?si=fVlaY1p3dvyDP-xf\" \n",
              "title=\"YouTube video player\" frameborder=\"0\" \n",
              "allow=\"accelerometer; autoplay; clipboard-write; encrypted-media; gyroscope; picture-in-picture; web-share\" \n",
              "referrerpolicy=\"strict-origin-when-cross-origin\" allowfullscreen></iframe>\n",
              "</div>\n"
            ]
          },
          "metadata": {}
        }
      ]
    },
    {
      "cell_type": "code",
      "source": [
        "%%html\n",
        "\n",
        "<div\n",
        "style=\"display: flex; flex-direction: column; gap: 1em; align-items: center; justify-content: center\">\n",
        "<h3> YouTube/Apna College: HINDI- C Language Tutorial for Beginners (with Notes & Practice Questions)</h3>\n",
        "\n",
        "<iframe width=\"560\" height=\"315\" src=\"https://www.youtube.com/embed/irqbmMNs2Bo?si=02149rp4wmSPUDpS\"\n",
        "title=\"YouTube video player\"\n",
        "frameborder=\"0\"\n",
        "allow=\"accelerometer; autoplay; clipboard-write; encrypted-media; gyroscope; picture-in-picture; web-share\"\n",
        "referrerpolicy=\"strict-origin-when-cross-origin\" allowfullscreen></iframe>\n",
        "\n",
        "</div>"
      ],
      "metadata": {
        "colab": {
          "base_uri": "https://localhost:8080/",
          "height": 387
        },
        "id": "R_DqWVi81N-J",
        "outputId": "88bb69c9-ac40-410f-c7fb-dd85ae0a141d"
      },
      "execution_count": null,
      "outputs": [
        {
          "output_type": "display_data",
          "data": {
            "text/plain": [
              "<IPython.core.display.HTML object>"
            ],
            "text/html": [
              "\n",
              "<div \n",
              "style=\"display: flex; flex-direction: column; gap: 1em; align-items: center; justify-content: center\">\n",
              "<h3> YouTube/Apna College: HINDI- C Language Tutorial for Beginners (with Notes & Practice Questions)</h3>\n",
              "\n",
              "<iframe width=\"560\" height=\"315\" src=\"https://www.youtube.com/embed/irqbmMNs2Bo?si=02149rp4wmSPUDpS\"\n",
              "title=\"YouTube video player\"\n",
              "frameborder=\"0\"\n",
              "allow=\"accelerometer; autoplay; clipboard-write; encrypted-media; gyroscope; picture-in-picture; web-share\"\n",
              "referrerpolicy=\"strict-origin-when-cross-origin\" allowfullscreen></iframe>\n",
              "\n",
              "</div>\n"
            ]
          },
          "metadata": {}
        }
      ]
    },
    {
      "cell_type": "code",
      "source": [],
      "metadata": {
        "id": "8Cim11S5ACeF"
      },
      "execution_count": null,
      "outputs": []
    }
  ]
}